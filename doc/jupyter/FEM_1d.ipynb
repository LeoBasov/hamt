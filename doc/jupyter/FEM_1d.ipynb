{
 "cells": [
  {
   "cell_type": "code",
   "execution_count": 1,
   "id": "308ae32c-c6e9-404f-8d2e-e5ce202189ca",
   "metadata": {
    "tags": []
   },
   "outputs": [],
   "source": [
    "import matplotlib.pyplot as plt\n",
    "import numpy as np\n",
    "from sympy import*\n",
    "init_printing()"
   ]
  },
  {
   "cell_type": "markdown",
   "id": "5417becb-a6d0-4e03-8eb2-0f6495961954",
   "metadata": {},
   "source": [
    "## Weak formulation for FEM\n",
    "\n",
    "Give the heat equation\n",
    "$$\n",
    "\\partial_t  T = k a \\nabla^2 T + a \\dot{Q}\n",
    "$$\n",
    "where $a=\\frac{1}{c \\rho}$ we can use the weak formulation by multiplying with a test function $u$ and integrating over the the domain $\\Omega$\n",
    "$$\n",
    "\\int_{\\Omega} \\partial_t  T v\\, \\mathrm{d}\\Omega = \\int_{\\Omega} k a \\nabla^2 T v\\, \\mathrm{d}\\Omega + \\int_{\\Omega}a \\dot{Q} v\\, \\mathrm{d}\\Omega.\n",
    "$$ \n",
    "For a temporaly steady heat equation we get\n",
    "$$\n",
    "\\int_{\\Omega} \\nabla^2 T v\\, \\mathrm{d}\\Omega = -\\int_{\\Omega} \\frac{1}{k} \\dot{Q} v\\, \\mathrm{d}\\Omega.\n",
    "$$\n",
    "Using integration by parts and assimung that $k$ is peacewise constant we can write using $\\xi = -\\frac{1}{k}$\n",
    "$$\n",
    "\\sum_k \\left\\{\\int_{\\Omega_k} (\\nabla T \\cdot \\nabla v)\\, \\mathrm{d}\\vec{x} + \\left[\\left(\\sum_i \\partial_i T\\right) v \\right]_{\\Omega_k} \\right\\} = \\sum_k \\xi_k \\int_{\\Omega_k} \\dot{Q} v\\, \\mathrm{d}\\vec{x}.\n",
    "$$\n",
    "We know define an approximation for $T$ in the form of\n",
    "$$\n",
    "\\tilde{T} = \\sum_{i \\in \\Omega \\setminus \\partial \\Omega} T_i \\phi_i + \\sum_{k \\in \\partial \\Omega} T_k \\phi_k\n",
    "$$\n",
    "while using test function\n",
    "$$\n",
    "v = \\sum_{j \\in \\Omega \\setminus \\partial \\Omega} \\phi_j.\n",
    "$$\n",
    "Here $T_i$ are constant values (degrees of freedom on designated points of the discretization.\n",
    "The functions $\\phi$ are picewise constant triangular (pyramidig) functions which only non-zero cloes to the discritization points.\n",
    "\n",
    "Finaly we get\n",
    "$$\n",
    "\\int_{\\Omega_k} (\\nabla T \\cdot \\nabla v)\\, \\mathrm{d}\\vec{x} = \\sum_{i \\in \\Omega \\setminus \\partial \\Omega} T_i \\int_{\\Omega_k} (\\nabla\\phi_i \\cdot \\nabla\\phi_j) \\, \\mathrm{d}\\vec{x} + \\sum_{k \\in \\partial \\Omega} T_k \\int_{\\Omega_k} (\\nabla\\phi_k \\cdot \\nabla\\phi_j)\\, \\mathrm{d}\\vec{x} \\\\\n",
    "\\left[\\left(\\sum_i \\partial_i T\\right) v \\right]_{\\Omega_k} = 0\\\\\n",
    "\\xi_k \\int_{\\Omega_k} \\dot{Q} v\\, \\mathrm{d}\\vec{x} = ???\n",
    "$$"
   ]
  },
  {
   "cell_type": "markdown",
   "id": "225cfc20-a5c4-422d-b650-f56799429522",
   "metadata": {},
   "source": [
    "## 1D Cylindrical Homogeneous Heat Equation\n",
    "$$\n",
    "\\nabla^2 T = 0\n",
    "$$\n",
    "which is in cylindrical coordinates\n",
    "$$\n",
    "\\frac{1}{r} \\frac{\\partial}{\\partial r}\\left(r \\frac{\\partial T}{\\partial r} \\right) = 0\\\\\n",
    "\\frac{\\partial T}{\\partial t} + r \\frac{\\partial^2 T}{\\partial r^2} = 0.\n",
    "$$\n",
    "Assuling $T_h = \\sum_{i=1}^{N-1} T_i \\phi_i$ and using $\\phi$ as basisfunctions we get for the weak formulation\n",
    "$$\n",
    "\\sum_{i=1}^{N-1} T_i\\underbrace{\\int_{\\Omega} \\phi'_i \\phi_k + r \\phi'_i \\phi'_k\\,\\mathrm{d}r}_{[r, \\phi_i, \\phi_k]} = 0\n",
    "$$\n",
    "Using the basis functions $\\phi(r)$ where\n",
    "$$\n",
    "\\phi(r)=\n",
    "\\begin{cases}\n",
    "0 &\\text{ for } r < r_{i-1}\\\\\n",
    "\\frac{r - r_{i-1}}{h} &\\text{ for } r_{i-1} < r < r_{i}\\\\\n",
    "\\frac{r_{i+2} - r}{h} &\\text{ for } r_{i} < r < r_{i+1}\\\\\n",
    "0 &\\text{ for } r_{i+1} < r\n",
    "\\end{cases}\n",
    "$$\n",
    "and\n",
    "$$\n",
    "\\phi'(r)=\n",
    "\\begin{cases}\n",
    "0 &\\text{ for } r < r_{i-1}\\\\\n",
    "\\frac{1}{h} &\\text{ for } r_{i-1} < r < r_{i}\\\\\n",
    "\\frac{-1}{h} &\\text{ for } r_{i} < r < r_{i+1}\\\\\n",
    "0 &\\text{ for } r_{i+1} < r\n",
    "\\end{cases}\n",
    "$$\n",
    "we have to solve 3 integrals\n",
    "$$\n",
    "[r, \\phi_{i-1}, \\phi_i] = ?\\\\\n",
    "[r, \\phi_i, \\phi_i] = ?\\\\\n",
    "[r, \\phi_{i+1}, \\phi_i] = ?\\\\\n",
    "$$"
   ]
  },
  {
   "cell_type": "code",
   "execution_count": 2,
   "id": "dc4c429e-9572-4d36-8836-b55634b02de7",
   "metadata": {},
   "outputs": [],
   "source": [
    "r, rim, ri, rip, h = symbols('r r_{i-1} r_{i} r_{i+1} h', real=True, positive=True)"
   ]
  },
  {
   "cell_type": "code",
   "execution_count": 3,
   "id": "e8aae53e-b4a6-410f-b327-c518ab269078",
   "metadata": {
    "tags": []
   },
   "outputs": [
    {
     "data": {
      "image/png": "[encoded data removed]",
      "text/latex": [
       "$\\displaystyle - \\frac{r_{i}}{h}$"
      ],
      "text/plain": [
       "-r_{i} \n",
       "───────\n",
       "   h   "
      ]
     },
     "execution_count": 3,
     "metadata": {},
     "output_type": "execute_result"
    }
   ],
   "source": [
    "eq_im_i = factor(integrate((-1/h)*(r-rim)/h + r*(-1/h)*(1/h), (r, rim, ri)))\n",
    "eq_im_i = eq_im_i.subs(ri - rim, h)\n",
    "eq_im_i"
   ]
  },
  {
   "cell_type": "code",
   "execution_count": 4,
   "id": "4ca95332-6f54-4a4a-9aa6-4dd63c4fef88",
   "metadata": {},
   "outputs": [
    {
     "data": {
      "image/png": "[encoded data removed]",
      "text/latex": [
       "$\\displaystyle \\frac{r_{i}}{h}$"
      ],
      "text/plain": [
       "r_{i}\n",
       "─────\n",
       "  h  "
      ]
     },
     "execution_count": 4,
     "metadata": {},
     "output_type": "execute_result"
    }
   ],
   "source": [
    "eq_i_i_0 = factor(integrate((1/h)*(r-rim)/h + r*(1/h)*(1/h), (r, rim, ri)))\n",
    "eq_i_i_0 = eq_i_i_0.subs(ri - rim, h)\n",
    "eq_i_i_0"
   ]
  },
  {
   "cell_type": "code",
   "execution_count": 5,
   "id": "0db21d65-2da7-4d4f-8aa2-6bbc09193972",
   "metadata": {},
   "outputs": [
    {
     "data": {
      "image/png": "[encoded data removed]",
      "text/latex": [
       "$\\displaystyle \\frac{r_{i}}{h}$"
      ],
      "text/plain": [
       "r_{i}\n",
       "─────\n",
       "  h  "
      ]
     },
     "execution_count": 5,
     "metadata": {},
     "output_type": "execute_result"
    }
   ],
   "source": [
    "eq_i_i_1 = factor(integrate((-1/h)*(rip - r)/h + r*(-1/h)*(-1/h), (r, ri, rip)))\n",
    "eq_i_i_1 = eq_i_i_1.subs(rip - ri, h)\n",
    "eq_i_i_1"
   ]
  },
  {
   "cell_type": "code",
   "execution_count": 6,
   "id": "7c648b34-6dd0-48a2-adf5-217a48d6e816",
   "metadata": {},
   "outputs": [
    {
     "data": {
      "image/png": "[encoded data removed]",
      "text/latex": [
       "$\\displaystyle - \\frac{r_{i}}{h}$"
      ],
      "text/plain": [
       "-r_{i} \n",
       "───────\n",
       "   h   "
      ]
     },
     "execution_count": 6,
     "metadata": {},
     "output_type": "execute_result"
    }
   ],
   "source": [
    "eq_ip_i = factor(integrate((1/h)*(rip - r)/h + r*(1/h)*(-1/h), (r, ri, rip)))\n",
    "eq_ip_i = eq_ip_i.subs(rip - ri, h)\n",
    "eq_ip_i"
   ]
  },
  {
   "cell_type": "markdown",
   "id": "fcd93416-bd79-473c-9cd0-5a1c3ab52be8",
   "metadata": {},
   "source": [
    "Which leads to\n",
    "we have to solve 3 integrals\n",
    "$$\n",
    "[r, \\phi_{i-1}, \\phi_i] = -\\frac{r_i}{h}\\\\\n",
    "[r, \\phi_i, \\phi_i] = 2\\frac{r_i}{h}\\\\\n",
    "[r, \\phi_{i+1}, \\phi_i] = -\\frac{r_i}{h}\\\\\n",
    "$$"
   ]
  },
  {
   "cell_type": "code",
   "execution_count": 7,
   "id": "406d4a07-fb38-411d-bdd6-eab33a7a1a1d",
   "metadata": {
    "tags": []
   },
   "outputs": [
    {
     "name": "stdout",
     "output_type": "stream",
     "text": [
      "[[ 1.          0.          0.          0.          0.        ]\n",
      " [-1.55555556  3.11111111 -1.55555556  0.          0.        ]\n",
      " [ 0.         -2.55555556  5.11111111 -2.55555556  0.        ]\n",
      " [ 0.          0.         -3.55555556  7.11111111 -3.55555556]\n",
      " [ 0.          0.          0.          0.          1.        ]]\n"
     ]
    },
    {
     "data": {
      "text/plain": [
       "[<matplotlib.lines.Line2D at 0x7f270d530bb0>]"
      ]
     },
     "execution_count": 7,
     "metadata": {},
     "output_type": "execute_result"
    },
    {
     "data": {
      "image/png": "[encoded data removed]",
      "text/plain": [
       "<Figure size 640x480 with 1 Axes>"
      ]
     },
     "metadata": {},
     "output_type": "display_data"
    }
   ],
   "source": [
    "N = 5\n",
    "r0 = 1\n",
    "r1 = 10\n",
    "h = (r1 - r0)/N\n",
    "T0 = 150\n",
    "T1 = 300\n",
    "\n",
    "M = np.zeros((N, N))\n",
    "v = np.zeros(N)\n",
    "\n",
    "M[0, 0] = 1\n",
    "M[N-1, N-1] = 1\n",
    "\n",
    "v[0] = T0\n",
    "v[N-1] = T1\n",
    "\n",
    "for i in range(1, N-1):\n",
    "    for k in range(N):\n",
    "        if i == k:\n",
    "            M[i, k] = 2 * (r0 + i*h)/h\n",
    "        elif k == (i - 1):\n",
    "            M[i, k] = -(r0 + i*h)/h\n",
    "        elif k == (i + 1):\n",
    "            M[i, k] = -(r0 + i*h)/h\n",
    "    \n",
    "print(M)\n",
    "    \n",
    "a = np.linalg.solve(M, v)\n",
    "plt.plot(a)"
   ]
  },
  {
   "cell_type": "code",
   "execution_count": 8,
   "id": "91d9334f-6bb8-4d19-a813-a1ba3a8de142",
   "metadata": {},
   "outputs": [
    {
     "data": {
      "text/plain": [
       "[<matplotlib.lines.Line2D at 0x7f270d41f1c0>]"
      ]
     },
     "execution_count": 8,
     "metadata": {},
     "output_type": "execute_result"
    },
    {
     "data": {
      "image/png": "[encoded data removed]",
      "text/plain": [
       "<Figure size 640x480 with 1 Axes>"
      ]
     },
     "metadata": {},
     "output_type": "display_data"
    }
   ],
   "source": [
    "N = 50\n",
    "r0 = 1\n",
    "r1 = 10\n",
    "h = (r1 - r0)/N\n",
    "T0 = 150\n",
    "T1 = 300\n",
    "\n",
    "M = np.zeros((N, N))\n",
    "v = np.zeros(N)\n",
    "\n",
    "M[0, 0] = 1\n",
    "M[N-1, N-1] = 1\n",
    "\n",
    "v[0] = T0\n",
    "v[N-1] = T1\n",
    "\n",
    "for i in range(1, N-1):\n",
    "    for k in range(N):\n",
    "        if i == k:\n",
    "            M[i, k] = -2 * (r0 + i*h)/h**2\n",
    "        elif k == (i - 1):\n",
    "            M[i, k] = (-1/(2*h)) + (r0 + i*h)/h**2\n",
    "        elif k == (i + 1):\n",
    "            M[i, k] = (1/(2*h)) + (r0 + i*h)/h**2\n",
    "    \n",
    "a = np.linalg.solve(M, v)\n",
    "plt.plot(a)"
   ]
  },
  {
   "cell_type": "code",
   "execution_count": 9,
   "id": "540feeab-89ee-4993-8d12-bfd1b4be9bc2",
   "metadata": {},
   "outputs": [],
   "source": [
    "r, rim, ri, rip, h = symbols('r r_{i-1} r_{i} r_{i+1} h', real=True, positive=True)"
   ]
  },
  {
   "cell_type": "code",
   "execution_count": 10,
   "id": "140245ad-844c-4ec0-b053-4c5530713ca7",
   "metadata": {},
   "outputs": [
    {
     "data": {
      "image/png": "[encoded data removed]",
      "text/latex": [
       "$\\displaystyle - \\frac{r_{i-1} + r_{i}}{2 h}$"
      ],
      "text/plain": [
       "-(r_{i-1} + r_{i}) \n",
       "───────────────────\n",
       "        2⋅h        "
      ]
     },
     "execution_count": 10,
     "metadata": {},
     "output_type": "execute_result"
    }
   ],
   "source": [
    "eq_im_i = factor(integrate(r*(-1/h)*(1/h), (r, rim, ri)))\n",
    "eq_im_i.subs(ri - rim, h)"
   ]
  },
  {
   "cell_type": "code",
   "execution_count": 11,
   "id": "8e631916-3c96-4a60-9000-a93a234c62d3",
   "metadata": {},
   "outputs": [
    {
     "data": {
      "image/png": "[encoded data removed]",
      "text/latex": [
       "$\\displaystyle - \\frac{r_{i+1} + r_{i}}{2 h}$"
      ],
      "text/plain": [
       "-(r_{i+1} + r_{i}) \n",
       "───────────────────\n",
       "        2⋅h        "
      ]
     },
     "execution_count": 11,
     "metadata": {},
     "output_type": "execute_result"
    }
   ],
   "source": [
    "eq_ip_i = factor(integrate(r*(1/h)*(-1/h), (r, ri, rip)))\n",
    "eq_ip_i.subs(rip - ri,h)"
   ]
  },
  {
   "cell_type": "code",
   "execution_count": 12,
   "id": "7704eb0c-a0a9-4213-931a-e69b33b82b2c",
   "metadata": {},
   "outputs": [],
   "source": [
    "eq_i_i_l = factor(integrate(r*(1/h)*(1/h), (r, rim, ri)))\n",
    "eq_i_i_l = eq_i_i_l.subs(ri - rim, h)"
   ]
  },
  {
   "cell_type": "code",
   "execution_count": 13,
   "id": "a52a471c-d92c-4c6f-bc31-841dc10d65c5",
   "metadata": {},
   "outputs": [],
   "source": [
    "eq_i_i_r = factor(integrate(r*(1/h)*(1/h), (r, ri, rip)))\n",
    "eq_i_i_r = eq_i_i_r.subs(rip - ri, h)"
   ]
  },
  {
   "cell_type": "code",
   "execution_count": 14,
   "id": "41ce7bc3-378e-420c-b13e-9fd1de1841af",
   "metadata": {},
   "outputs": [
    {
     "data": {
      "image/png": "[encoded data removed]",
      "text/latex": [
       "$\\displaystyle \\frac{r_{i+1} + r_{i-1} + 2 r_{i}}{2 h}$"
      ],
      "text/plain": [
       "r_{i+1} + r_{i-1} + 2⋅r_{i}\n",
       "───────────────────────────\n",
       "            2⋅h            "
      ]
     },
     "execution_count": 14,
     "metadata": {},
     "output_type": "execute_result"
    }
   ],
   "source": [
    "factor(eq_i_i_l + eq_i_i_r)"
   ]
  },
  {
   "cell_type": "code",
   "execution_count": 15,
   "id": "c93ea5f2-a955-4529-92e8-5edd4436affc",
   "metadata": {},
   "outputs": [
    {
     "data": {
      "text/plain": [
       "[<matplotlib.lines.Line2D at 0x7f270d4c9e70>]"
      ]
     },
     "execution_count": 15,
     "metadata": {},
     "output_type": "execute_result"
    },
    {
     "data": {
      "image/png": "[encoded data removed]",
      "text/plain": [
       "<Figure size 640x480 with 1 Axes>"
      ]
     },
     "metadata": {},
     "output_type": "display_data"
    }
   ],
   "source": [
    "N = 50\n",
    "r0 = 1\n",
    "r1 = 10\n",
    "h = (r1 - r0)/N\n",
    "T0 = 150\n",
    "T1 = 300\n",
    "\n",
    "M = np.zeros((N, N))\n",
    "v = np.zeros(N)\n",
    "\n",
    "M[0, 0] = 1\n",
    "M[N-1, N-1] = 1\n",
    "\n",
    "v[0] = T0\n",
    "v[N-1] = T1\n",
    "\n",
    "for i in range(1, N-1):\n",
    "    for k in range(N):\n",
    "        if i == k:\n",
    "            M[i, k] = ((r0 + (i+1)*h) + 2*(r0 + i*h) + (r0 + (i-1)*h))/(2*h)\n",
    "        elif k == (i - 1):\n",
    "            M[i, k] = -((r0 + i*h) + (r0 + (i - 1)*h))/(2*h)\n",
    "        elif k == (i + 1):\n",
    "            M[i, k] = -((r0 + i*h) + (r0 + (i + 1)*h))/(2*h)\n",
    "    \n",
    "a = np.linalg.solve(M, v)\n",
    "\n",
    "c = (T1 - T0)/np.log(r1/r0)\n",
    "r = np.linspace(r0, r1, N)\n",
    "T = [T0 + c*np.log(ri/r0) for ri in r]\n",
    "\n",
    "plt.plot(r, a)\n",
    "plt.plot(r, T)"
   ]
  },
  {
   "cell_type": "code",
   "execution_count": 16,
   "id": "3e6dd327-468d-4dc2-9a2a-a3a1de78dbfc",
   "metadata": {},
   "outputs": [],
   "source": [
    "r, rim, ri, rip, h = symbols('r r_{i-1} r_{i} r_{i+1} h', real=True, positive=True)"
   ]
  },
  {
   "cell_type": "code",
   "execution_count": 17,
   "id": "312611dd-8794-4a70-ae82-ef1e33819800",
   "metadata": {},
   "outputs": [],
   "source": [
    "phi_im = (r-rim)/h\n",
    "phi_ip = (rip-r)/h"
   ]
  },
  {
   "cell_type": "markdown",
   "id": "290bde63-792a-4bd5-88a9-0eee4424319c",
   "metadata": {},
   "source": [
    "equation\n",
    "$$\n",
    "\\int \\phi'_i \\phi_i dr = 0\n",
    "$$"
   ]
  },
  {
   "cell_type": "code",
   "execution_count": 18,
   "id": "c41ff7af-3fc3-44a4-a177-bca0d2c50c06",
   "metadata": {},
   "outputs": [
    {
     "data": {
      "image/png": "[encoded data removed]",
      "text/latex": [
       "$\\displaystyle - \\frac{1}{2}$"
      ],
      "text/plain": [
       "-1/2"
      ]
     },
     "execution_count": 18,
     "metadata": {},
     "output_type": "execute_result"
    }
   ],
   "source": [
    "factor(integrate(-(1/h)*phi_im, (r, rim, ri))).subs(ri - rim, h)"
   ]
  },
  {
   "cell_type": "code",
   "execution_count": 19,
   "id": "1ea5542b-5e07-4ff1-9904-3b9bb834b8b8",
   "metadata": {},
   "outputs": [
    {
     "data": {
      "image/png": "[encoded data removed]",
      "text/latex": [
       "$\\displaystyle \\frac{1}{2}$"
      ],
      "text/plain": [
       "1/2"
      ]
     },
     "execution_count": 19,
     "metadata": {},
     "output_type": "execute_result"
    }
   ],
   "source": [
    "factor(integrate((1/h)*phi_ip, (r, ri, rip))).subs(rip - ri, h)"
   ]
  },
  {
   "cell_type": "code",
   "execution_count": 20,
   "id": "88f7d7ea-313a-4e62-9b60-57803acb1c2d",
   "metadata": {},
   "outputs": [
    {
     "data": {
      "text/plain": [
       "[<matplotlib.lines.Line2D at 0x7f270d339510>]"
      ]
     },
     "execution_count": 20,
     "metadata": {},
     "output_type": "execute_result"
    },
    {
     "data": {
      "image/png": "[encoded data removed]",
      "text/plain": [
       "<Figure size 640x480 with 1 Axes>"
      ]
     },
     "metadata": {},
     "output_type": "display_data"
    }
   ],
   "source": [
    "N = 50\n",
    "r0 = 1\n",
    "r1 = 10\n",
    "h = (r1 - r0)/N\n",
    "T0 = 150\n",
    "T1 = 300\n",
    "\n",
    "M = np.zeros((N, N))\n",
    "v = np.zeros(N)\n",
    "\n",
    "M[0, 0] = 1\n",
    "M[N-1, N-1] = 1\n",
    "\n",
    "v[0] = T0\n",
    "v[N-1] = T1\n",
    "\n",
    "for i in range(1, N-1):\n",
    "    for k in range(N):\n",
    "        if i == k:\n",
    "            M[i, k] = ((r0 + (i+1)*h) + 2*(r0 + i*h) + (r0 + (i-1)*h))/(2*h)\n",
    "        elif k == (i - 1):\n",
    "            M[i, k] = -((r0 + i*h) + (r0 + (i - 1)*h))/(2*h) +0.5\n",
    "        elif k == (i + 1):\n",
    "            M[i, k] = -((r0 + i*h) + (r0 + (i + 1)*h))/(2*h) -0.5\n",
    "    \n",
    "a = np.linalg.solve(M, v)\n",
    "plt.plot(a)"
   ]
  },
  {
   "cell_type": "code",
   "execution_count": null,
   "id": "0a9c62bb-e0fd-4c3f-9359-e18a6a8518e7",
   "metadata": {},
   "outputs": [],
   "source": []
  }
 ],
 "metadata": {
  "kernelspec": {
   "display_name": "Python 3 (ipykernel)",
   "language": "python",
   "name": "python3"
  },
  "language_info": {
   "codemirror_mode": {
    "name": "ipython",
    "version": 3
   },
   "file_extension": ".py",
   "mimetype": "text/x-python",
   "name": "python",
   "nbconvert_exporter": "python",
   "pygments_lexer": "ipython3",
   "version": "3.10.12"
  }
 },
 "nbformat": 4,
 "nbformat_minor": 5
}
