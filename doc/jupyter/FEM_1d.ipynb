{
 "cells": [
  {
   "cell_type": "code",
   "execution_count": 1,
   "id": "308ae32c-c6e9-404f-8d2e-e5ce202189ca",
   "metadata": {},
   "outputs": [],
   "source": [
    "import matplotlib.pyplot as plt"
   ]
  },
  {
   "cell_type": "markdown",
   "id": "5417becb-a6d0-4e03-8eb2-0f6495961954",
   "metadata": {},
   "source": [
    "## Weak formulation for FEM\n",
    "\n",
    "Give the heat equation\n",
    "$$\n",
    "\\partial_t  T = k a \\nabla^2 T + a \\dot{Q}\n",
    "$$\n",
    "where $a=\\frac{1}{c \\rho}$ we can use the weak formulation by multiplying with a test function $u$ and integrating over the the domain $\\Omega$\n",
    "$$\n",
    "\\int_{\\Omega} \\partial_t  T v\\, \\mathrm{d}\\Omega = \\int_{\\Omega} k a \\nabla^2 T v\\, \\mathrm{d}\\Omega + \\int_{\\Omega}a \\dot{Q} v\\, \\mathrm{d}\\Omega.\n",
    "$$ \n",
    "For a temporaly steady heat equation we get\n",
    "$$\n",
    "\\int_{\\Omega} \\nabla^2 T v\\, \\mathrm{d}\\Omega = -\\int_{\\Omega} \\frac{1}{k} \\dot{Q} v\\, \\mathrm{d}\\Omega.\n",
    "$$\n",
    "Using integration by parts and assimung that $k$ is peacewise constant we can write using $\\xi = -\\frac{1}{k}$\n",
    "$$\n",
    "\\sum_k \\left\\{\\int_{\\Omega_k} (\\nabla T \\cdot \\nabla v)\\, \\mathrm{d}\\vec{x} + \\left[\\left(\\sum_i \\partial_i T\\right) v \\right]_{\\Omega_k} \\right\\} = \\sum_k \\xi_k \\int_{\\Omega_k} \\dot{Q} v\\, \\mathrm{d}\\vec{x}.\n",
    "$$\n",
    "We know define an approximation for $T$ in the form of\n",
    "$$\n",
    "\\tilde{T} = \\sum_{i \\in \\Omega \\setminus \\partial \\Omega} T_i \\phi_i + \\sum_{k \\in \\partial \\Omega} T_k \\phi_k\n",
    "$$\n",
    "while using test function\n",
    "$$\n",
    "v = \\sum_{j \\in \\Omega \\setminus \\partial \\Omega} \\phi_j.\n",
    "$$\n",
    "Here $T_i$ are constant values (degrees of freedom on designated points of the discretization.\n",
    "The functions $\\phi$ are picewise constant triangular (pyramidig) functions which only non-zero cloes to the discritization points.\n",
    "\n",
    "Finaly we get\n",
    "$$\n",
    "\\int_{\\Omega_k} (\\nabla T \\cdot \\nabla v)\\, \\mathrm{d}\\vec{x} = \\sum_{i \\in \\Omega \\setminus \\partial \\Omega} T_i \\int_{\\Omega_k} (\\nabla\\phi_i \\cdot \\nabla\\phi_j) \\, \\mathrm{d}\\vec{x} + \\sum_{k \\in \\partial \\Omega} T_k \\int_{\\Omega_k} (\\nabla\\phi_k \\cdot \\nabla\\phi_j)\\, \\mathrm{d}\\vec{x} \\\\\n",
    "\\left[\\left(\\sum_i \\partial_i T\\right) v \\right]_{\\Omega_k} = ???\\\\\n",
    "\\xi_k \\int_{\\Omega_k} \\dot{Q} v\\, \\mathrm{d}\\vec{x} = ???\n",
    "$$"
   ]
  },
  {
   "cell_type": "markdown",
   "id": "225cfc20-a5c4-422d-b650-f56799429522",
   "metadata": {},
   "source": [
    "## 1D Cartesian Homogeneous Heat Equation\n",
    "$$\n",
    "\\nabla^2 T = 0\n",
    "$$"
   ]
  },
  {
   "cell_type": "code",
   "execution_count": null,
   "id": "dc4c429e-9572-4d36-8836-b55634b02de7",
   "metadata": {},
   "outputs": [],
   "source": []
  }
 ],
 "metadata": {
  "kernelspec": {
   "display_name": "Python 3 (ipykernel)",
   "language": "python",
   "name": "python3"
  },
  "language_info": {
   "codemirror_mode": {
    "name": "ipython",
    "version": 3
   },
   "file_extension": ".py",
   "mimetype": "text/x-python",
   "name": "python",
   "nbconvert_exporter": "python",
   "pygments_lexer": "ipython3",
   "version": "3.10.12"
  }
 },
 "nbformat": 4,
 "nbformat_minor": 5
}
