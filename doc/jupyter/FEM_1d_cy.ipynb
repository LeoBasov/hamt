{
 "cells": [
  {
   "cell_type": "code",
   "execution_count": 1,
   "id": "69ec1ac2-4dd4-4973-a541-c90ba39745c3",
   "metadata": {},
   "outputs": [],
   "source": [
    "import matplotlib.pyplot as plt\n",
    "import numpy as np\n",
    "from sympy import*"
   ]
  },
  {
   "cell_type": "markdown",
   "id": "f396d854-8854-43a9-92f7-a739bcb96787",
   "metadata": {},
   "source": [
    "$$\n",
    "\\int r \\phi'_i \\phi'_k dr\n",
    "$$"
   ]
  },
  {
   "cell_type": "code",
   "execution_count": 2,
   "id": "9d27f59b-99f7-4f88-afef-4e20dd180654",
   "metadata": {},
   "outputs": [],
   "source": [
    "rim, ri, rip, h, r, cim, cip = symbols(\"r_{i-1} r_i, r_{i+1}, h, r, c_{i-1}, c_{i+1}\", real=True, positive=True)"
   ]
  },
  {
   "cell_type": "code",
   "execution_count": 3,
   "id": "ab4161ad-017e-4a8c-b575-62177938103d",
   "metadata": {},
   "outputs": [
    {
     "data": {
      "text/latex": [
       "$\\displaystyle \\frac{c_{i-1} \\left(r_{i} + r_{i-1}\\right)}{2 h}$"
      ],
      "text/plain": [
       "c_{i-1}*(r_i + r_{i-1})/(2*h)"
      ]
     },
     "execution_count": 3,
     "metadata": {},
     "output_type": "execute_result"
    }
   ],
   "source": [
    "eq_i_i_l = factor(integrate(cim*r*(1/h)*(1/h), (r, rim, ri)))\n",
    "eq_i_i_l = eq_i_i_l.subs(ri - rim, h)\n",
    "eq_i_i_l"
   ]
  },
  {
   "cell_type": "code",
   "execution_count": 4,
   "id": "db630e30-1572-4adb-9030-ab693972a107",
   "metadata": {},
   "outputs": [
    {
     "data": {
      "text/latex": [
       "$\\displaystyle \\frac{c_{i+1} \\left(r_{i} + r_{i+1}\\right)}{2 h}$"
      ],
      "text/plain": [
       "c_{i+1}*(r_i + r_{i+1})/(2*h)"
      ]
     },
     "execution_count": 4,
     "metadata": {},
     "output_type": "execute_result"
    }
   ],
   "source": [
    "eq_i_i_r = factor(integrate(cip*r*(1/h)*(1/h), (r, ri, rip)))\n",
    "eq_i_i_r = eq_i_i_r.subs(rip - ri, h)\n",
    "eq_i_i_r"
   ]
  },
  {
   "cell_type": "code",
   "execution_count": 5,
   "id": "337a1c43-066b-49b1-9374-65f0ad4717c8",
   "metadata": {},
   "outputs": [
    {
     "data": {
      "text/latex": [
       "$\\displaystyle \\frac{c_{i+1}}{2} + \\frac{c_{i+1} r_{i}}{h} - \\frac{c_{i-1}}{2} + \\frac{c_{i-1} r_{i}}{h}$"
      ],
      "text/plain": [
       "c_{i+1}/2 + c_{i+1}*r_i/h - c_{i-1}/2 + c_{i-1}*r_i/h"
      ]
     },
     "execution_count": 5,
     "metadata": {},
     "output_type": "execute_result"
    }
   ],
   "source": [
    "simplify(factor(eq_i_i_l + eq_i_i_r).subs(rim, ri - h).subs(rip, h + ri))"
   ]
  },
  {
   "cell_type": "code",
   "execution_count": 6,
   "id": "c83b4cc5-2730-44d9-a040-fc9be573cc1d",
   "metadata": {},
   "outputs": [
    {
     "data": {
      "text/latex": [
       "$\\displaystyle - \\frac{c_{i-1} \\left(- h + 2 r_{i}\\right)}{2 h}$"
      ],
      "text/plain": [
       "-c_{i-1}*(-h + 2*r_i)/(2*h)"
      ]
     },
     "execution_count": 6,
     "metadata": {},
     "output_type": "execute_result"
    }
   ],
   "source": [
    "eq_im_i = factor(integrate(cim* r*(-1/h)*(1/h), (r, rim, ri)))\n",
    "eq_im_i = eq_im_i.subs(ri - rim, h).subs(rim, ri - h)\n",
    "eq_im_i"
   ]
  },
  {
   "cell_type": "code",
   "execution_count": 7,
   "id": "871a933b-ec7c-473f-8303-390ebf594d4a",
   "metadata": {},
   "outputs": [
    {
     "data": {
      "text/latex": [
       "$\\displaystyle - \\frac{c_{i+1} \\left(h + 2 r_{i}\\right)}{2 h}$"
      ],
      "text/plain": [
       "-c_{i+1}*(h + 2*r_i)/(2*h)"
      ]
     },
     "execution_count": 7,
     "metadata": {},
     "output_type": "execute_result"
    }
   ],
   "source": [
    "eq_ip_i = factor(integrate(cip* r*(1/h)*(-1/h), (r, ri, rip)))\n",
    "eq_ip_i = simplify(eq_ip_i.subs(rip - ri, h).subs(rip, ri + h))\n",
    "factor(eq_ip_i)"
   ]
  },
  {
   "cell_type": "code",
   "execution_count": 8,
   "id": "fcc086ca-8dda-4254-9860-f914932c33cd",
   "metadata": {},
   "outputs": [
    {
     "data": {
      "text/plain": [
       "[<matplotlib.lines.Line2D at 0x1df94b02380>]"
      ]
     },
     "execution_count": 8,
     "metadata": {},
     "output_type": "execute_result"
    },
    {
     "data": {
      "image/png": "[encoded data removed]",
      "text/plain": [
       "<Figure size 640x480 with 1 Axes>"
      ]
     },
     "metadata": {},
     "output_type": "display_data"
    }
   ],
   "source": [
    "N = 50\n",
    "r0 = 10\n",
    "r1 = 20\n",
    "h = (r1 - r0)/N\n",
    "T0 = 150\n",
    "T1 = 300\n",
    "c0 = 2\n",
    "c1 = 4\n",
    "\n",
    "M = np.zeros((N, N))\n",
    "v = np.zeros(N)\n",
    "\n",
    "M[0, 0] = 1\n",
    "M[N-1, N-1] = 1\n",
    "\n",
    "v[0] = T0\n",
    "v[N-1] = T1\n",
    "\n",
    "for i in range(1, N-1):\n",
    "    for k in range(N):\n",
    "        if k < N/2:\n",
    "            cim = c0\n",
    "            cip = c0\n",
    "        elif k > N/2:\n",
    "            cim = c1\n",
    "            cip = c1\n",
    "        elif k == N/2:\n",
    "            cim = c1\n",
    "            cip = c0\n",
    "        \n",
    "        ri = (r0 + i*h)\n",
    "        if i == k:\n",
    "            M[i, k] = 0.5*(-cip + cim) + (cip*ri + cim*ri)/h\n",
    "        elif k == (i - 1):\n",
    "            M[i, k] = -cim * (-h + 2*ri)/(2*h)\n",
    "        elif k == (i + 1):\n",
    "            M[i, k] = -cip * (h + 2*ri)/(2*h)\n",
    "    \n",
    "a = np.linalg.solve(M, v)\n",
    "\n",
    "c = (T1 - T0)/np.log(r1/r0)\n",
    "r = np.linspace(r0, r1, N)\n",
    "T = [T0 + c*np.log(ri/r0) for ri in r]\n",
    "\n",
    "plt.plot(r, a)\n",
    "plt.plot(r, T)"
   ]
  },
  {
   "cell_type": "code",
   "execution_count": null,
   "id": "8d9efb82-eabb-461b-9f3c-93dbb7b04f7d",
   "metadata": {},
   "outputs": [],
   "source": []
  },
  {
   "cell_type": "code",
   "execution_count": null,
   "id": "ae09ce9d-54ae-4224-842e-ac7474efdc9b",
   "metadata": {},
   "outputs": [],
   "source": []
  }
 ],
 "metadata": {
  "kernelspec": {
   "display_name": "Python 3 (ipykernel)",
   "language": "python",
   "name": "python3"
  },
  "language_info": {
   "codemirror_mode": {
    "name": "ipython",
    "version": 3
   },
   "file_extension": ".py",
   "mimetype": "text/x-python",
   "name": "python",
   "nbconvert_exporter": "python",
   "pygments_lexer": "ipython3",
   "version": "3.10.4"
  }
 },
 "nbformat": 4,
 "nbformat_minor": 5
}
