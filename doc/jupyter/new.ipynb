{
 "cells": [
  {
   "cell_type": "code",
   "execution_count": 1,
   "id": "b2e5fadf-3592-49ed-96b2-3d9b58e344e9",
   "metadata": {},
   "outputs": [],
   "source": [
    "from sympy import *\n",
    "from sympy.vector import CoordSys3D\n",
    "N = CoordSys3D('N')"
   ]
  },
  {
   "cell_type": "markdown",
   "id": "0ec70f2d-c60c-4f12-9d4b-4619c74d7a51",
   "metadata": {},
   "source": [
    "# Setup\n",
    "\n",
    "This time\n",
    "\n",
    "$$\n",
    "\\int_V \\nabla f \\mathrm{d}V = \\oint_S f \\vec{n} \\mathrm{d}S\n",
    "$$"
   ]
  },
  {
   "cell_type": "markdown",
   "id": "7f0d6b9d-c4ca-405a-8eae-fc29007e3ba6",
   "metadata": {},
   "source": [
    "# Left-Hand Side\n",
    "\n",
    "$$\n",
    "\\nabla f \\int \\int \\int \\rho\\, \\mathrm{d}\\rho \\mathrm{d}\\phi \\mathrm{d}z = 2 \\pi \\nabla f \\int_{\\rho_0}^{\\rho_1} \\int_{z_0}^{z(\\rho)} \\rho\\,  \\mathrm{d}z \\mathrm{d}\\rho\n",
    "$$\n",
    "\n",
    "where \n",
    "\n",
    "$$\n",
    "z(\\rho) = z_0 + (\\rho - \\rho_0) \\frac{z_1 - z_0}{\\rho_1 - \\rho_0}\n",
    "$$\n",
    "\n",
    "so we have \n",
    "\n",
    "$$\n",
    "2 \\pi \\nabla f \\int_{\\rho_0}^{\\rho_1} \\int_{z_0}^{z(\\rho)} \\rho\\,  \\mathrm{d}z \\mathrm{d}\\rho = 2 \\pi \\nabla f \\int_{\\rho_0}^{\\rho_1} \\rho (\\rho - \\rho_0) \\frac{z_1 - z_0}{\\rho_1 - \\rho_0} \\mathrm{d}\\rho\n",
    "$$"
   ]
  },
  {
   "cell_type": "code",
   "execution_count": 2,
   "id": "73698223-45bc-4a15-9a81-0778bb89081c",
   "metadata": {},
   "outputs": [],
   "source": [
    "r, r0, r1, r2, z0, z1, z2 = symbols(\"r r0 r1 r2 z0 z1 z2\", real=True)"
   ]
  },
  {
   "cell_type": "code",
   "execution_count": 3,
   "id": "2e0ee99a-fe09-423f-895a-3712ee60b295",
   "metadata": {},
   "outputs": [
    {
     "data": {
      "text/latex": [
       "$\\displaystyle \\frac{r \\left(r - r_{0}\\right) \\left(- z_{0} + z_{1}\\right)}{- r_{0} + r_{1}}$"
      ],
      "text/plain": [
       "r*(r - r0)*(-z0 + z1)/(-r0 + r1)"
      ]
     },
     "execution_count": 3,
     "metadata": {},
     "output_type": "execute_result"
    }
   ],
   "source": [
    "expr = r*(r - r0)*(z1 - z0)/(r1 - r0)\n",
    "expr"
   ]
  },
  {
   "cell_type": "code",
   "execution_count": 4,
   "id": "d91291b6-9a72-4eb1-87a9-c00a230f3e10",
   "metadata": {},
   "outputs": [],
   "source": [
    "A=simplify(integrate(expr, (r, r0, r1))).factor()"
   ]
  },
  {
   "cell_type": "code",
   "execution_count": 5,
   "id": "c5eef0ed-46a2-4ee0-8662-501a06543e8e",
   "metadata": {},
   "outputs": [
    {
     "name": "stdout",
     "output_type": "stream",
     "text": [
      "(r0 - r1)*(r0 + 2*r1)*(z0 - z1)/6\n"
     ]
    }
   ],
   "source": [
    "print(A)"
   ]
  },
  {
   "cell_type": "code",
   "execution_count": 6,
   "id": "b60c7e55-e8b8-4828-bfce-5600ffda5a89",
   "metadata": {},
   "outputs": [],
   "source": [
    "A1 = (r0 - r1)*(r0 + 2*r1)*(z0 - z1)/6\n",
    "A2 = (r1 - r2)*(r1 + 2*r2)*(z1 - z2)/6\n",
    "A3 = (r2 - r0)*(r2 + 2*r0)*(z2 - z0)/6\n",
    "\n",
    "Atot = simplify(A1 + A2 + A3)"
   ]
  },
  {
   "cell_type": "code",
   "execution_count": 7,
   "id": "8b6b3de1-dd87-4da3-bfc8-82fd0c31b53d",
   "metadata": {},
   "outputs": [
    {
     "data": {
      "text/latex": [
       "$\\displaystyle \\frac{\\left(r_{0} - r_{1}\\right) \\left(r_{0} + 2 r_{1}\\right) \\left(z_{0} - z_{1}\\right)}{6} + \\frac{\\left(r_{0} - r_{2}\\right) \\left(2 r_{0} + r_{2}\\right) \\left(z_{0} - z_{2}\\right)}{6} + \\frac{\\left(r_{1} - r_{2}\\right) \\left(r_{1} + 2 r_{2}\\right) \\left(z_{1} - z_{2}\\right)}{6}$"
      ],
      "text/plain": [
       "(r0 - r1)*(r0 + 2*r1)*(z0 - z1)/6 + (r0 - r2)*(2*r0 + r2)*(z0 - z2)/6 + (r1 - r2)*(r1 + 2*r2)*(z1 - z2)/6"
      ]
     },
     "execution_count": 7,
     "metadata": {},
     "output_type": "execute_result"
    }
   ],
   "source": [
    "Atot"
   ]
  },
  {
   "cell_type": "code",
   "execution_count": 8,
   "id": "e55dca25-bea0-48e9-98d9-10086666f2d4",
   "metadata": {},
   "outputs": [
    {
     "name": "stdout",
     "output_type": "stream",
     "text": [
      "(r0 - r1)*(r0 + 2*r1)*(z0 - z1)/6 + (r0 - r2)*(2*r0 + r2)*(z0 - z2)/6 + (r1 - r2)*(r1 + 2*r2)*(z1 - z2)/6\n"
     ]
    }
   ],
   "source": [
    "print(Atot)"
   ]
  },
  {
   "cell_type": "markdown",
   "id": "a1d20734-fc6c-418e-b7f4-ccb819247374",
   "metadata": {},
   "source": [
    "# Right-Hand Side\n",
    "\n",
    "$$\n",
    "\\oint_S f\\vec{n} \\mathrm{d}S = \\oint_S f(\\vec{r}(s, t)) \\rho(\\vec{r}(s, t))  \\left( \\frac{\\partial \\vec{r}(s, t)}{\\partial s} \\times \\frac{\\partial \\vec{r}(s, t)}{\\partial t} \\right) \\mathrm{d}s\\mathrm{d}t\n",
    "$$\n",
    "\n",
    "with\n",
    "\n",
    "$$\n",
    "\\vec{r}(s, t) = \n",
    "\\begin{pmatrix}\n",
    "\\rho(s, t)\\\\\n",
    "\\phi(s, t)\\\\\n",
    "z(s, t)\n",
    "\\end{pmatrix}\n",
    "=\n",
    "\\begin{pmatrix}\n",
    "\\rho_0 + s(\\rho_1 - \\rho_0)\\\\\n",
    "t\\\\\n",
    "z_0 + s(z_1 - z_0)\n",
    "\\end{pmatrix}\n",
    "$$\n",
    "\n",
    "For the function $f$ we have\n",
    "\n",
    "$$\n",
    "f(\\vec{r}(s, t)) = \\frac{f_1 + f_0}{2}\n",
    "$$"
   ]
  },
  {
   "cell_type": "code",
   "execution_count": 9,
   "id": "187391b7-c983-415b-94d3-2d1151cf4a60",
   "metadata": {},
   "outputs": [],
   "source": [
    "f0, f1, f2, r0, r1, r2, z0, z1, z2 = symbols(\"f0 f1 f2 r0 r1 r2 z0 z1 z2\", real=True)\n",
    "s, t, L = symbols(\"s t L\", real=True, positive=True)"
   ]
  },
  {
   "cell_type": "code",
   "execution_count": 10,
   "id": "7c71440e-96d4-4eb0-8164-49b9240e47dc",
   "metadata": {},
   "outputs": [],
   "source": [
    "r = (r0 + s*(r1 - r0))*N.i + t*N.j + (z0 + s*(z1 - z0))*N.k"
   ]
  },
  {
   "cell_type": "code",
   "execution_count": 11,
   "id": "3a69a5c2-3a9c-40d8-9e0d-fa0f84044433",
   "metadata": {},
   "outputs": [
    {
     "data": {
      "text/latex": [
       "$\\displaystyle (z_{0} - z_{1})\\mathbf{\\hat{i}_{N}} + (- r_{0} + r_{1})\\mathbf{\\hat{k}_{N}}$"
      ],
      "text/plain": [
       "(z0 - z1)*N.i + (-r0 + r1)*N.k"
      ]
     },
     "execution_count": 11,
     "metadata": {},
     "output_type": "execute_result"
    }
   ],
   "source": [
    "drds = diff(r, s).doit()\n",
    "drdt = diff(r, t).doit()\n",
    "drcr = simplify(drds.cross(drdt))\n",
    "drcr"
   ]
  },
  {
   "cell_type": "code",
   "execution_count": 12,
   "id": "36e4956a-1fa8-4c50-891d-9ad5b38ef0e0",
   "metadata": {},
   "outputs": [
    {
     "data": {
      "text/latex": [
       "$\\displaystyle (\\left(r_{0} - s \\left(r_{0} - r_{1}\\right)\\right) \\left(z_{0} - z_{1}\\right))\\mathbf{\\hat{i}_{N}} + (- \\left(r_{0} - r_{1}\\right) \\left(r_{0} - s \\left(r_{0} - r_{1}\\right)\\right))\\mathbf{\\hat{k}_{N}}$"
      ],
      "text/plain": [
       "((r0 - s*(r0 - r1))*(z0 - z1))*N.i + (-(r0 - r1)*(r0 - s*(r0 - r1)))*N.k"
      ]
     },
     "execution_count": 12,
     "metadata": {},
     "output_type": "execute_result"
    }
   ],
   "source": [
    "inner = simplify((r0 + s*(r1 - r0))*drcr)\n",
    "inner"
   ]
  },
  {
   "cell_type": "code",
   "execution_count": 13,
   "id": "68baaad7-d9c4-45ad-8204-032fbfe8338d",
   "metadata": {},
   "outputs": [
    {
     "data": {
      "text/latex": [
       "$\\displaystyle (\\frac{\\pi \\left(f_{0} + f_{1}\\right) \\left(r_{0} z_{0} - r_{0} z_{1} + r_{1} z_{0} - r_{1} z_{1}\\right)}{2})\\mathbf{\\hat{i}_{N}} + (- \\frac{\\pi \\left(f_{0} + f_{1}\\right) \\left(r_{0}^{2} - r_{1}^{2}\\right)}{2})\\mathbf{\\hat{k}_{N}}$"
      ],
      "text/plain": [
       "(pi*(f0 + f1)*(r0*z0 - r0*z1 + r1*z0 - r1*z1)/2)*N.i + (-pi*(f0 + f1)*(r0**2 - r1**2)/2)*N.k"
      ]
     },
     "execution_count": 13,
     "metadata": {},
     "output_type": "execute_result"
    }
   ],
   "source": [
    "rhs = simplify(((f1 + f0)/2)*simplify(integrate(integrate(inner, (t, 0, 2*pi)), (s, 0, 1)).doit()))\n",
    "rhs"
   ]
  },
  {
   "cell_type": "code",
   "execution_count": 14,
   "id": "26d6d940-ea91-49dc-84e7-729382317cbe",
   "metadata": {},
   "outputs": [
    {
     "name": "stdout",
     "output_type": "stream",
     "text": [
      "(pi*(f0 + f1)*(r0*z0 - r0*z1 + r1*z0 - r1*z1)/2)*N.i + (-pi*(f0 + f1)*(r0**2 - r1**2)/2)*N.k\n"
     ]
    }
   ],
   "source": [
    "print(rhs)"
   ]
  },
  {
   "cell_type": "code",
   "execution_count": 15,
   "id": "37a21dff-28d1-466c-b0eb-6b02b85bb8a1",
   "metadata": {},
   "outputs": [],
   "source": [
    "rhs_r1 = (pi*(f0 + f1)*(r0*z0 - r0*z1 + r1*z0 - r1*z1)/2)\n",
    "rhs_r2 = (pi*(f1 + f2)*(r1*z1 - r1*z2 + r2*z1 - r2*z2)/2)\n",
    "rhs_r3 = (pi*(f2 + f0)*(r2*z2 - r2*z0 + r0*z2 - r0*z0)/2)\n",
    "\n",
    "rhs_z1 = (-pi*(f0 + f1)*(r0**2 - r1**2)/2)\n",
    "rhs_z2 = (-pi*(f1 + f2)*(r1**2 - r2**2)/2)\n",
    "rhs_z3 = (-pi*(f2 + f0)*(r2**2 - r0**2)/2)"
   ]
  },
  {
   "cell_type": "code",
   "execution_count": 16,
   "id": "c3f712dd-56b7-4d86-b41a-60fdd171a3d5",
   "metadata": {},
   "outputs": [],
   "source": [
    "rhs_r = simplify(rhs_r1 + rhs_r2 + rhs_r3)\n",
    "rhs_z = simplify(rhs_z1 + rhs_z2 + rhs_z3)"
   ]
  },
  {
   "cell_type": "code",
   "execution_count": 17,
   "id": "6f463172-a109-4f2e-b212-e81774e6a31a",
   "metadata": {},
   "outputs": [
    {
     "data": {
      "text/latex": [
       "$\\displaystyle \\frac{\\pi \\left(\\left(f_{0} + f_{1}\\right) \\left(r_{0} z_{0} - r_{0} z_{1} + r_{1} z_{0} - r_{1} z_{1}\\right) - \\left(f_{0} + f_{2}\\right) \\left(r_{0} z_{0} - r_{0} z_{2} + r_{2} z_{0} - r_{2} z_{2}\\right) + \\left(f_{1} + f_{2}\\right) \\left(r_{1} z_{1} - r_{1} z_{2} + r_{2} z_{1} - r_{2} z_{2}\\right)\\right)}{2}$"
      ],
      "text/plain": [
       "pi*((f0 + f1)*(r0*z0 - r0*z1 + r1*z0 - r1*z1) - (f0 + f2)*(r0*z0 - r0*z2 + r2*z0 - r2*z2) + (f1 + f2)*(r1*z1 - r1*z2 + r2*z1 - r2*z2))/2"
      ]
     },
     "execution_count": 17,
     "metadata": {},
     "output_type": "execute_result"
    }
   ],
   "source": [
    "rhs_r"
   ]
  },
  {
   "cell_type": "code",
   "execution_count": 18,
   "id": "c219eed8-c8bf-42fe-8188-b148deea90d2",
   "metadata": {},
   "outputs": [
    {
     "data": {
      "text/latex": [
       "$\\displaystyle \\frac{\\pi \\left(- \\left(f_{0} + f_{1}\\right) \\left(r_{0}^{2} - r_{1}^{2}\\right) + \\left(f_{0} + f_{2}\\right) \\left(r_{0}^{2} - r_{2}^{2}\\right) - \\left(f_{1} + f_{2}\\right) \\left(r_{1}^{2} - r_{2}^{2}\\right)\\right)}{2}$"
      ],
      "text/plain": [
       "pi*(-(f0 + f1)*(r0**2 - r1**2) + (f0 + f2)*(r0**2 - r2**2) - (f1 + f2)*(r1**2 - r2**2))/2"
      ]
     },
     "execution_count": 18,
     "metadata": {},
     "output_type": "execute_result"
    }
   ],
   "source": [
    "rhs_z"
   ]
  },
  {
   "cell_type": "code",
   "execution_count": 19,
   "id": "5901c892-06d5-4ca4-84bb-925f377405c4",
   "metadata": {},
   "outputs": [
    {
     "name": "stdout",
     "output_type": "stream",
     "text": [
      "pi*((f0 + f1)*(r0*z0 - r0*z1 + r1*z0 - r1*z1) - (f0 + f2)*(r0*z0 - r0*z2 + r2*z0 - r2*z2) + (f1 + f2)*(r1*z1 - r1*z2 + r2*z1 - r2*z2))/2\n"
     ]
    }
   ],
   "source": [
    "print(rhs_r)"
   ]
  },
  {
   "cell_type": "code",
   "execution_count": 20,
   "id": "5e394313-01a1-4c0d-96a4-fd2db6b0d2ff",
   "metadata": {},
   "outputs": [
    {
     "name": "stdout",
     "output_type": "stream",
     "text": [
      "pi*(-(f0 + f1)*(r0**2 - r1**2) + (f0 + f2)*(r0**2 - r2**2) - (f1 + f2)*(r1**2 - r2**2))/2\n"
     ]
    }
   ],
   "source": [
    "print(rhs_z)"
   ]
  },
  {
   "cell_type": "code",
   "execution_count": 21,
   "id": "048c8bbc-cbc4-48c5-8b47-4b8970276d13",
   "metadata": {},
   "outputs": [
    {
     "name": "stdout",
     "output_type": "stream",
     "text": [
      "\\frac{\\pi \\left(\\left(f_{0} + f_{1}\\right) \\left(r_{0} z_{0} - r_{0} z_{1} + r_{1} z_{0} - r_{1} z_{1}\\right) - \\left(f_{0} + f_{2}\\right) \\left(r_{0} z_{0} - r_{0} z_{2} + r_{2} z_{0} - r_{2} z_{2}\\right) + \\left(f_{1} + f_{2}\\right) \\left(r_{1} z_{1} - r_{1} z_{2} + r_{2} z_{1} - r_{2} z_{2}\\right)\\right)}{2}\n",
      "\\frac{\\pi \\left(- \\left(f_{0} + f_{1}\\right) \\left(r_{0}^{2} - r_{1}^{2}\\right) + \\left(f_{0} + f_{2}\\right) \\left(r_{0}^{2} - r_{2}^{2}\\right) - \\left(f_{1} + f_{2}\\right) \\left(r_{1}^{2} - r_{2}^{2}\\right)\\right)}{2}\n"
     ]
    }
   ],
   "source": [
    "print(latex(rhs_r))\n",
    "print(latex(rhs_z))"
   ]
  },
  {
   "cell_type": "markdown",
   "id": "b621c1de-d0ff-40ab-b6f7-722784ab1af6",
   "metadata": {
    "tags": []
   },
   "source": [
    "We get\n",
    "\n",
    "$$\n",
    "\\nabla f = \\frac{1}{4 A_{\\phi}}\n",
    "\\begin{pmatrix}\n",
    "(f_{0} + f_{1}) (r_0 + r_1)(z_0 - z_1) - (f_{0} + f_{2}) (r_0 + r_2)(z_0 - z_2) + (f_{1} + f_{2}) (r_1 + r_2)(z_1 - z_2)\\\\\n",
    "0\\\\\n",
    "- \\left(f_{0} + f_{1}\\right) \\left(r_{0}^{2} - r_{1}^{2}\\right) + \\left(f_{0} + f_{2}\\right) \\left(r_{0}^{2} - r_{2}^{2}\\right) - \\left(f_{1} + f_{2}\\right) \\left(r_{1}^{2} - r_{2}^{2}\\right)\n",
    "\\end{pmatrix}\n",
    "$$\n",
    "\n",
    "where\n",
    "\n",
    "$$\n",
    "A_{\\phi} = \n",
    "$$"
   ]
  },
  {
   "cell_type": "code",
   "execution_count": 22,
   "id": "42b2e335-8b7a-41b5-88c9-ef85a2b1155b",
   "metadata": {},
   "outputs": [
    {
     "data": {
      "text/latex": [
       "$\\displaystyle \\pi \\left(r_{0} + r_{1}\\right) \\left(z_{0} - z_{1}\\right)$"
      ],
      "text/plain": [
       "pi*(r0 + r1)*(z0 - z1)"
      ]
     },
     "execution_count": 22,
     "metadata": {},
     "output_type": "execute_result"
    }
   ],
   "source": [
    "test_r = pi*(r0*z0 - r0*z1 + r1*z0 - r1*z1)\n",
    "test_r.factor()"
   ]
  },
  {
   "cell_type": "code",
   "execution_count": 23,
   "id": "50bbe38f-ad5d-4746-84f6-9239bccb29b9",
   "metadata": {},
   "outputs": [
    {
     "data": {
      "text/latex": [
       "$\\displaystyle - \\pi \\left(r_{0} - r_{1}\\right) \\left(r_{0} + r_{1}\\right)$"
      ],
      "text/plain": [
       "-pi*(r0 - r1)*(r0 + r1)"
      ]
     },
     "execution_count": 23,
     "metadata": {},
     "output_type": "execute_result"
    }
   ],
   "source": [
    "test_z = -pi*(r0**2 - r1**2)\n",
    "test_z.factor()"
   ]
  },
  {
   "cell_type": "code",
   "execution_count": 24,
   "id": "1d0a2149-ea3b-4a72-8502-c0b2159216b4",
   "metadata": {},
   "outputs": [
    {
     "data": {
      "text/latex": [
       "$\\displaystyle \\pi \\left(2 r_{1} z_{0} - 2 r_{1} z_{1}\\right)$"
      ],
      "text/plain": [
       "pi*(2*r1*z0 - 2*r1*z1)"
      ]
     },
     "execution_count": 24,
     "metadata": {},
     "output_type": "execute_result"
    }
   ],
   "source": [
    "test_r.subs(r0, r1)"
   ]
  },
  {
   "cell_type": "code",
   "execution_count": 25,
   "id": "37473b9c-2695-4d0a-ae5f-246f81457cce",
   "metadata": {},
   "outputs": [
    {
     "data": {
      "text/latex": [
       "$\\displaystyle - \\pi \\left(r_{0}^{2} - r_{1}^{2}\\right)$"
      ],
      "text/plain": [
       "-pi*(r0**2 - r1**2)"
      ]
     },
     "execution_count": 25,
     "metadata": {},
     "output_type": "execute_result"
    }
   ],
   "source": [
    "test_z.subs(z0, z1)"
   ]
  },
  {
   "cell_type": "markdown",
   "id": "630b8169-a1da-450e-aa62-85c21e652a77",
   "metadata": {},
   "source": [
    "Die flaechen stimmen."
   ]
  },
  {
   "cell_type": "code",
   "execution_count": 26,
   "id": "006ca9bb-46f1-4010-90ec-50e34801392e",
   "metadata": {},
   "outputs": [
    {
     "data": {
      "text/latex": [
       "$\\displaystyle r_{0} z_{0} + r_{0} z_{1} + r_{1} z_{1} - r_{1} z_{2} - r_{2} z_{0} - r_{2} z_{2}$"
      ],
      "text/plain": [
       "r0*z0 + r0*z1 + r1*z1 - r1*z2 - r2*z0 - r2*z2"
      ]
     },
     "execution_count": 26,
     "metadata": {},
     "output_type": "execute_result"
    }
   ],
   "source": [
    "simplify(factor((r0 + r1)*(z0 + z1) - (r1 + r2)*(z0  + z2)))"
   ]
  },
  {
   "cell_type": "code",
   "execution_count": null,
   "id": "d7c0bf2a-6b05-490f-9436-9c2d020dadd4",
   "metadata": {},
   "outputs": [],
   "source": []
  }
 ],
 "metadata": {
  "kernelspec": {
   "display_name": "Python 3 (ipykernel)",
   "language": "python",
   "name": "python3"
  },
  "language_info": {
   "codemirror_mode": {
    "name": "ipython",
    "version": 3
   },
   "file_extension": ".py",
   "mimetype": "text/x-python",
   "name": "python",
   "nbconvert_exporter": "python",
   "pygments_lexer": "ipython3",
   "version": "3.10.4"
  }
 },
 "nbformat": 4,
 "nbformat_minor": 5
}
