{
 "cells": [
  {
   "cell_type": "code",
   "execution_count": 1,
   "id": "f3767b50-c8ea-40d9-b816-404cba4ccc4d",
   "metadata": {
    "jupyter": {
     "source_hidden": true
    }
   },
   "outputs": [],
   "source": [
    "from sympy import *\n",
    "from sympy.vector import CoordSys3D\n",
    "N = CoordSys3D('N')"
   ]
  },
  {
   "cell_type": "markdown",
   "id": "ad4608fd-2bbb-4022-b431-6a985f1425f0",
   "metadata": {},
   "source": [
    "# Setup\n",
    "\n",
    "$$\n",
    "\\int_V \\nabla f \\mathrm{d}V = \\oint_S f(\\vec{r}(s, t)) \\vec{n} \\left| \\frac{\\partial \\vec{r}}{\\partial s} \\times \\frac{\\partial \\vec{r}}{\\partial t} \\right| \\mathrm{d}s \\mathrm{d}t\n",
    "$$\n",
    "\n",
    "# Right-Hand Side\n",
    "\n",
    "We start by calculating\n",
    "\n",
    "$$\n",
    "\\oint_S f(\\vec{r}(s, t)) \\vec{n} \\left| \\frac{\\partial \\vec{r}}{\\partial s} \\times \\frac{\\partial \\vec{r}}{\\partial t} \\right| \\mathrm{d}s \\mathrm{d}t\n",
    "$$\n",
    "\n",
    "which for cylinder coordinates and assuming $\\vec{n} \\left| \\frac{\\partial \\vec{r}}{\\partial s} \\times \\frac{\\partial \\vec{r}}{\\partial t} \\right| =  \\left( \\frac{\\partial \\vec{r}}{\\partial s} \\times \\frac{\\partial \\vec{r}}{\\partial t} \\right)$ can be written as\n",
    "\n",
    "$$\n",
    "\\oint_S f(\\vec{r}(s, t)) \\rho(\\vec{r}(s, t)) \\left( \\frac{\\partial \\vec{r}(s, t)}{\\partial s} \\times \\frac{\\partial \\vec{r}(s, t)}{\\partial t} \\right) \\mathrm{d}s \\mathrm{d}t.\n",
    "$$\n",
    "\n",
    "Assuming a polygonal structure in cylinder coordinates\n",
    "\n",
    "$$\n",
    "\\oint_S f(\\vec{r}(s, t)) \\rho(\\vec{r}(s, t)) \\left( \\frac{\\partial \\vec{r}(s, t)}{\\partial s} \\times \\frac{\\partial \\vec{r}(s, t)}{\\partial t} \\right) \\mathrm{d}s \\mathrm{d}t = \\sum_e \\int \\int f(\\vec{r}(s, t)) \\rho(\\vec{r}(s, t)) \\left( \\frac{\\partial \\vec{r}(s, t)}{\\partial s} \\times \\frac{\\partial \\vec{r}(s, t)}{\\partial t} \\right) \\mathrm{d}s \\mathrm{d}t \n",
    "$$\n",
    "\n",
    "with the parametrization\n",
    "\n",
    "$$\n",
    "\\begin{pmatrix}\n",
    "\\rho \\\\\n",
    "\\phi \\\\\n",
    "z\n",
    "\\end{pmatrix}\n",
    "=\n",
    "\\begin{pmatrix}\n",
    "\\rho_0 + s (\\rho_1 - \\rho_0) \\\\\n",
    "t \\\\\n",
    "z_0 + s (z_1 - z_0)\n",
    "\\end{pmatrix}\n",
    "= \\vec{r}(s, t)\n",
    "$$\n",
    "\n",
    "which leads to\n",
    "\n",
    "$$\n",
    "\\frac{\\partial \\vec{r}}{\\partial s}\n",
    "=\n",
    "\\begin{pmatrix}\n",
    "\\rho_1 - \\rho_0 \\\\\n",
    "0 \\\\\n",
    "z_1 - z_0\n",
    "\\end{pmatrix}\n",
    "$$\n",
    "\n",
    "and \n",
    "\n",
    "$$\n",
    "\\frac{\\partial \\vec{r}}{\\partial t}\n",
    "=\n",
    "\\begin{pmatrix}\n",
    "0 \\\\\n",
    "1 \\\\\n",
    "0\n",
    "\\end{pmatrix}\n",
    "$$\n",
    "and thus we get\n",
    "\n",
    "$$\n",
    "\\left( \\frac{\\partial \\vec{r}(s, t)}{\\partial s} \\times \\frac{\\partial \\vec{r}(s, t)}{\\partial t} \\right) =\n",
    "\\begin{pmatrix}\n",
    "z_1 - z_0 \\\\\n",
    "0 \\\\\n",
    "\\rho_0 - \\rho_1\n",
    "\\end{pmatrix}\n",
    "$$\n",
    "\n",
    "We assule the linear shape function for the values of the edge for the polygon such as\n",
    "\n",
    "$$\n",
    "f(\\vec{r}(s, t)) = f_0 + s (f_1 - f_0).\n",
    "$$\n",
    "\n",
    "Hence we get\n",
    "\n",
    "$$\n",
    "\\int \\int f(\\vec{r}(s, t)) \\rho(\\vec{r}(s, t)) \\left( \\frac{\\partial \\vec{r}(s, t)}{\\partial s} \\times \\frac{\\partial \\vec{r}(s, t)}{\\partial t} \\right) \\mathrm{d}s \\mathrm{d}t  = 2 \\pi \\int_0^1 (f_0 + s (f_1 - f_0)) \\, (\\rho_0 + s (\\rho_1 - \\rho_0)) \\,\\begin{pmatrix}\n",
    "z_1 - z_0 \\\\\n",
    "0 \\\\\n",
    "\\rho_0 - \\rho_1\n",
    "\\end{pmatrix} \\mathrm{d}s\n",
    "$$"
   ]
  },
  {
   "cell_type": "code",
   "execution_count": 2,
   "id": "1be3665a-0d94-4302-a6da-d5c71134b5b7",
   "metadata": {
    "jupyter": {
     "source_hidden": true
    }
   },
   "outputs": [],
   "source": [
    "s = symbols(\"s\", real=True, positive=True)\n",
    "f0, f1, f2, r0, r1, r2, z0, z1, z2 = symbols(\"f0 f1 f2 r0 r1 r2 z0 z1 z2\", real=True)"
   ]
  },
  {
   "cell_type": "code",
   "execution_count": 3,
   "id": "02a53556-3792-4371-a1ba-ff83d2d0b081",
   "metadata": {
    "jupyter": {
     "source_hidden": true
    }
   },
   "outputs": [
    {
     "data": {
      "text/latex": [
       "$\\displaystyle \\left(f_{0} + s \\left(- f_{0} + f_{1}\\right)\\right) \\left(r_{0} + s \\left(- r_{0} + r_{1}\\right)\\right)$"
      ],
      "text/plain": [
       "(f0 + s*(-f0 + f1))*(r0 + s*(-r0 + r1))"
      ]
     },
     "execution_count": 3,
     "metadata": {},
     "output_type": "execute_result"
    }
   ],
   "source": [
    "expr_inner = (r0 + s*(r1 - r0))*(f0 + s*(f1 - f0))\n",
    "expr_inner"
   ]
  },
  {
   "cell_type": "code",
   "execution_count": 4,
   "id": "c71db4cc-74e6-40a7-b54d-6f64604a2beb",
   "metadata": {
    "jupyter": {
     "source_hidden": true
    }
   },
   "outputs": [
    {
     "data": {
      "text/latex": [
       "$\\displaystyle \\frac{2 f_{0} r_{0} + f_{0} r_{1} + f_{1} r_{0} + 2 f_{1} r_{1}}{6}$"
      ],
      "text/plain": [
       "(2*f0*r0 + f0*r1 + f1*r0 + 2*f1*r1)/6"
      ]
     },
     "execution_count": 4,
     "metadata": {},
     "output_type": "execute_result"
    }
   ],
   "source": [
    "res_inner = integrate(expr_inner, (s, 0, 1)).factor()\n",
    "res_inner"
   ]
  },
  {
   "cell_type": "code",
   "execution_count": 5,
   "id": "6d799e0f-ff0a-4f0d-8781-426295c2cb8d",
   "metadata": {
    "jupyter": {
     "source_hidden": true
    }
   },
   "outputs": [
    {
     "name": "stdout",
     "output_type": "stream",
     "text": [
      "\\frac{2 f_{0} r_{0} + f_{0} r_{1} + f_{1} r_{0} + 2 f_{1} r_{1}}{6}\n"
     ]
    }
   ],
   "source": [
    "print(latex(res_inner))"
   ]
  },
  {
   "cell_type": "markdown",
   "id": "06153700-c5a9-4a23-90c0-1fc1a9cf98e1",
   "metadata": {},
   "source": [
    "Thus we have by **by movid** $2 \\pi$ **on the right left-hand side**\n",
    "\n",
    "$$\n",
    "\\int \\int f(\\vec{r}(s, t)) \\rho(\\vec{r}(s, t)) \\left( \\frac{\\partial \\vec{r}(s, t)}{\\partial s} \\times \\frac{\\partial \\vec{r}(s, t)}{\\partial t} \\right) \\mathrm{d}s \\mathrm{d}t  = \\frac{1}{6} (2 f_{0} r_{0} + f_{0} r_{1} + f_{1} r_{0} + 2 f_{1} r_{1})\\begin{pmatrix}\n",
    "z_1 - z_0 \\\\\n",
    "0 \\\\\n",
    "\\rho_0 - \\rho_1\n",
    "\\end{pmatrix}.\n",
    "$$\n",
    "\n",
    "For a traingle we can now sum over the 3 edges as"
   ]
  },
  {
   "cell_type": "code",
   "execution_count": 6,
   "id": "67f973e9-ae79-40f7-b1be-7763cd7b6329",
   "metadata": {
    "jupyter": {
     "source_hidden": true
    }
   },
   "outputs": [
    {
     "name": "stdout",
     "output_type": "stream",
     "text": [
      "(2*f0*r0 + f0*r1 + f1*r0 + 2*f1*r1)/6\n"
     ]
    }
   ],
   "source": [
    "print(res_inner)"
   ]
  },
  {
   "cell_type": "code",
   "execution_count": 7,
   "id": "988b55ce-572e-4a5d-b425-0a5d44e28c06",
   "metadata": {
    "jupyter": {
     "source_hidden": true
    }
   },
   "outputs": [],
   "source": [
    "er1 = (z1 - z0)*(2*f0*r0 + f0*r1 + f1*r0 + 2*f1*r1)/6\n",
    "ez1 = (r0 - r1)*(2*f0*r0 + f0*r1 + f1*r0 + 2*f1*r1)/6\n",
    "\n",
    "er2 = (z2 - z1)*(2*f1*r1 + f1*r2 + f2*r1 + 2*f2*r2)/6\n",
    "ez2 = (r1 - r2)*(2*f1*r1 + f1*r2 + f2*r1 + 2*f2*r2)/6\n",
    "\n",
    "er3 = (z0 - z2)*(2*f2*r2 + f2*r0 + f0*r2 + 2*f0*r0)/6\n",
    "ez3 = (r2 - r0)*(2*f2*r2 + f2*r0 + f0*r2 + 2*f0*r0)/6"
   ]
  },
  {
   "cell_type": "code",
   "execution_count": 8,
   "id": "2d1d2203-dba5-49ef-8b1c-c4a9758e7c9e",
   "metadata": {
    "jupyter": {
     "source_hidden": true
    }
   },
   "outputs": [],
   "source": [
    "er = (er1 + er2 + er3).factor().simplify()\n",
    "ez = (ez1 + ez2 + ez3).factor().simplify()"
   ]
  },
  {
   "cell_type": "code",
   "execution_count": 9,
   "id": "94a07cee-c68d-4acb-b369-19820af2ef8e",
   "metadata": {
    "jupyter": {
     "source_hidden": true
    }
   },
   "outputs": [
    {
     "data": {
      "text/latex": [
       "$\\displaystyle \\frac{f_{0} r_{0} z_{1}}{3} - \\frac{f_{0} r_{0} z_{2}}{3} - \\frac{f_{0} r_{1} z_{0}}{6} + \\frac{f_{0} r_{1} z_{1}}{6} + \\frac{f_{0} r_{2} z_{0}}{6} - \\frac{f_{0} r_{2} z_{2}}{6} - \\frac{f_{1} r_{0} z_{0}}{6} + \\frac{f_{1} r_{0} z_{1}}{6} - \\frac{f_{1} r_{1} z_{0}}{3} + \\frac{f_{1} r_{1} z_{2}}{3} - \\frac{f_{1} r_{2} z_{1}}{6} + \\frac{f_{1} r_{2} z_{2}}{6} + \\frac{f_{2} r_{0} z_{0}}{6} - \\frac{f_{2} r_{0} z_{2}}{6} - \\frac{f_{2} r_{1} z_{1}}{6} + \\frac{f_{2} r_{1} z_{2}}{6} + \\frac{f_{2} r_{2} z_{0}}{3} - \\frac{f_{2} r_{2} z_{1}}{3}$"
      ],
      "text/plain": [
       "f0*r0*z1/3 - f0*r0*z2/3 - f0*r1*z0/6 + f0*r1*z1/6 + f0*r2*z0/6 - f0*r2*z2/6 - f1*r0*z0/6 + f1*r0*z1/6 - f1*r1*z0/3 + f1*r1*z2/3 - f1*r2*z1/6 + f1*r2*z2/6 + f2*r0*z0/6 - f2*r0*z2/6 - f2*r1*z1/6 + f2*r1*z2/6 + f2*r2*z0/3 - f2*r2*z1/3"
      ]
     },
     "execution_count": 9,
     "metadata": {},
     "output_type": "execute_result"
    }
   ],
   "source": [
    "er"
   ]
  },
  {
   "cell_type": "code",
   "execution_count": 10,
   "id": "56d36ec3-7b50-4f74-b8b0-18d03800b5c2",
   "metadata": {
    "jupyter": {
     "source_hidden": true
    }
   },
   "outputs": [
    {
     "data": {
      "text/latex": [
       "$\\displaystyle - \\frac{\\left(r_{0} + r_{1} + r_{2}\\right) \\left(f_{0} r_{1} - f_{0} r_{2} - f_{1} r_{0} + f_{1} r_{2} + f_{2} r_{0} - f_{2} r_{1}\\right)}{6}$"
      ],
      "text/plain": [
       "-(r0 + r1 + r2)*(f0*r1 - f0*r2 - f1*r0 + f1*r2 + f2*r0 - f2*r1)/6"
      ]
     },
     "execution_count": 10,
     "metadata": {},
     "output_type": "execute_result"
    }
   ],
   "source": [
    "ez"
   ]
  },
  {
   "cell_type": "code",
   "execution_count": 11,
   "id": "898046a7-847c-445e-a9a2-aa5f75c532a0",
   "metadata": {
    "jupyter": {
     "source_hidden": true
    }
   },
   "outputs": [
    {
     "name": "stdout",
     "output_type": "stream",
     "text": [
      "2 f_{0} r_{0} z_{1} - 2 f_{0} r_{0} z_{2} - f_{0} r_{1} z_{0} + f_{0} r_{1} z_{1} + f_{0} r_{2} z_{0} - f_{0} r_{2} z_{2} - f_{1} r_{0} z_{0} + f_{1} r_{0} z_{1} - 2 f_{1} r_{1} z_{0} + 2 f_{1} r_{1} z_{2} - f_{1} r_{2} z_{1} + f_{1} r_{2} z_{2} + f_{2} r_{0} z_{0} - f_{2} r_{0} z_{2} - f_{2} r_{1} z_{1} + f_{2} r_{1} z_{2} + 2 f_{2} r_{2} z_{0} - 2 f_{2} r_{2} z_{1}\n"
     ]
    }
   ],
   "source": [
    "print(latex(6*er))"
   ]
  },
  {
   "cell_type": "code",
   "execution_count": 12,
   "id": "e6b97ea4-92ab-4264-94c5-23829fd42002",
   "metadata": {
    "jupyter": {
     "source_hidden": true
    }
   },
   "outputs": [
    {
     "name": "stdout",
     "output_type": "stream",
     "text": [
      "- \\left(r_{0} + r_{1} + r_{2}\\right) \\left(f_{0} r_{1} - f_{0} r_{2} - f_{1} r_{0} + f_{1} r_{2} + f_{2} r_{0} - f_{2} r_{1}\\right)\n"
     ]
    }
   ],
   "source": [
    "print(latex(6*ez))"
   ]
  },
  {
   "cell_type": "markdown",
   "id": "577c9091-c60f-4f71-89a1-99756328daed",
   "metadata": {},
   "source": [
    "Thus we get\n",
    "\n",
    "$$\n",
    "\\frac{1}{6} = \n",
    "\\begin{pmatrix}\n",
    "2 f_{0} r_{0} z_{1} - 2 f_{0} r_{0} z_{2} - f_{0} r_{1} z_{0} + f_{0} r_{1} z_{1} + f_{0} r_{2} z_{0} - f_{0} r_{2} z_{2} - f_{1} r_{0} z_{0} + f_{1} r_{0} z_{1} - 2 f_{1} r_{1} z_{0} + 2 f_{1} r_{1} z_{2} - f_{1} r_{2} z_{1} + f_{1} r_{2} z_{2} + f_{2} r_{0} z_{0} - f_{2} r_{0} z_{2} - f_{2} r_{1} z_{1} + f_{2} r_{1} z_{2} + 2 f_{2} r_{2} z_{0} - 2 f_{2} r_{2} z_{1}\n",
    "\\\\\n",
    "0 \\\\\n",
    "- \\left(r_{0} + r_{1} + r_{2}\\right) \\left(f_{0} r_{1} - f_{0} r_{2} - f_{1} r_{0} + f_{1} r_{2} + f_{2} r_{0} - f_{2} r_{1}\\right)\n",
    "\\end{pmatrix}\n",
    "$$"
   ]
  },
  {
   "cell_type": "code",
   "execution_count": 13,
   "id": "2d0af124-c126-4a9a-a0c1-27fc510e6619",
   "metadata": {
    "jupyter": {
     "source_hidden": true
    }
   },
   "outputs": [
    {
     "name": "stdout",
     "output_type": "stream",
     "text": [
      "2*f0*r0*z1 - 2*f0*r0*z2 - f0*r1*z0 + f0*r1*z1 + f0*r2*z0 - f0*r2*z2 - f1*r0*z0 + f1*r0*z1 - 2*f1*r1*z0 + 2*f1*r1*z2 - f1*r2*z1 + f1*r2*z2 + f2*r0*z0 - f2*r0*z2 - f2*r1*z1 + f2*r1*z2 + 2*f2*r2*z0 - 2*f2*r2*z1\n"
     ]
    }
   ],
   "source": [
    "print(6*er)"
   ]
  },
  {
   "cell_type": "code",
   "execution_count": 14,
   "id": "e2a52476-283f-4fb8-b81b-f3f83c8d763b",
   "metadata": {
    "jupyter": {
     "source_hidden": true
    }
   },
   "outputs": [
    {
     "name": "stdout",
     "output_type": "stream",
     "text": [
      "f_{0} \\cdot \\left(2 r_{0} z_{1} - 2 r_{0} z_{2} - r_{1} z_{0} + r_{1} z_{1} + r_{2} z_{0} - r_{2} z_{2}\\right)\n"
     ]
    }
   ],
   "source": [
    "print(latex(simplify(2*f0*r0*z1 - 2*f0*r0*z2 - f0*r1*z0 + f0*r1*z1 + f0*r2*z0 - f0*r2*z2)))"
   ]
  },
  {
   "cell_type": "code",
   "execution_count": 15,
   "id": "b3e123e2-5f61-4250-9af0-b9d4af63955e",
   "metadata": {
    "jupyter": {
     "source_hidden": true
    }
   },
   "outputs": [
    {
     "name": "stdout",
     "output_type": "stream",
     "text": [
      "f_{1} \\left(- r_{0} z_{0} + r_{0} z_{1} - 2 r_{1} z_{0} + 2 r_{1} z_{2} - r_{2} z_{1} + r_{2} z_{2}\\right)\n"
     ]
    }
   ],
   "source": [
    "print(latex(simplify(- f1*r0*z0 + f1*r0*z1 - 2*f1*r1*z0 + 2*f1*r1*z2 - f1*r2*z1 + f1*r2*z2)))"
   ]
  },
  {
   "cell_type": "code",
   "execution_count": 16,
   "id": "ec5ed54f-8de1-423b-93d5-98bdbc7f2c0c",
   "metadata": {
    "jupyter": {
     "source_hidden": true
    }
   },
   "outputs": [
    {
     "name": "stdout",
     "output_type": "stream",
     "text": [
      "f_{2} \\left(r_{0} z_{0} - r_{0} z_{2} - r_{1} z_{1} + r_{1} z_{2} + 2 r_{2} z_{0} - 2 r_{2} z_{1}\\right)\n"
     ]
    }
   ],
   "source": [
    "print(latex(simplify(f2*r0*z0 - f2*r0*z2 - f2*r1*z1 + f2*r1*z2 + 2*f2*r2*z0 - 2*f2*r2*z1)))"
   ]
  },
  {
   "cell_type": "code",
   "execution_count": 17,
   "id": "6fa588f5-22e5-49e7-9878-7a78b55366cd",
   "metadata": {
    "jupyter": {
     "source_hidden": true
    }
   },
   "outputs": [
    {
     "name": "stdout",
     "output_type": "stream",
     "text": [
      "-(r0 + r1 + r2)*(f0*r1 - f0*r2 - f1*r0 + f1*r2 + f2*r0 - f2*r1)\n"
     ]
    }
   ],
   "source": [
    "print(6*ez)"
   ]
  },
  {
   "cell_type": "code",
   "execution_count": 18,
   "id": "999791fb-3410-48a3-acaf-2bb8c1e04053",
   "metadata": {
    "jupyter": {
     "source_hidden": true
    }
   },
   "outputs": [
    {
     "name": "stdout",
     "output_type": "stream",
     "text": [
      "- f_{0} \\left(r_{1} - r_{2}\\right) \\left(r_{0} + r_{1} + r_{2}\\right)\n"
     ]
    }
   ],
   "source": [
    "print(latex(simplify(-(r0 + r1 + r2)*(f0*r1 - f0*r2))))"
   ]
  },
  {
   "cell_type": "code",
   "execution_count": 19,
   "id": "2aec93f6-df10-4ed9-b7a7-75d87c15a985",
   "metadata": {
    "jupyter": {
     "source_hidden": true
    }
   },
   "outputs": [
    {
     "name": "stdout",
     "output_type": "stream",
     "text": [
      "f_{1} \\left(r_{0} - r_{2}\\right) \\left(r_{0} + r_{1} + r_{2}\\right)\n"
     ]
    }
   ],
   "source": [
    "print(latex(simplify(-(r0 + r1 + r2)*(- f1*r0 + f1*r2))))"
   ]
  },
  {
   "cell_type": "code",
   "execution_count": 20,
   "id": "33ba0c48-ffe0-47b1-a846-3e5d248409db",
   "metadata": {
    "jupyter": {
     "source_hidden": true
    }
   },
   "outputs": [
    {
     "name": "stdout",
     "output_type": "stream",
     "text": [
      "- f_{2} \\left(r_{0} - r_{1}\\right) \\left(r_{0} + r_{1} + r_{2}\\right)\n"
     ]
    }
   ],
   "source": [
    "print(latex(simplify(-(r0 + r1 + r2)*(f2*r0 - f2*r1))))"
   ]
  },
  {
   "cell_type": "markdown",
   "id": "dfa29896-0ec1-40ac-bbc3-bd3c8520affd",
   "metadata": {},
   "source": [
    "Thus we get\n",
    "\n",
    "$$\n",
    "\\frac{1}{6} = \n",
    "\\begin{pmatrix}\n",
    "f_{0} \\left(2 r_{0} z_{1} - 2 r_{0} z_{2} - r_{1} z_{0} + r_{1} z_{1} + r_{2} z_{0} - r_{2} z_{2}\\right) + f_{1} \\left(- r_{0} z_{0} + r_{0} z_{1} - 2 r_{1} z_{0} + 2 r_{1} z_{2} - r_{2} z_{1} + r_{2} z_{2}\\right) + f_{2} \\left(r_{0} z_{0} - r_{0} z_{2} - r_{1} z_{1} + r_{1} z_{2} + 2 r_{2} z_{0} - 2 r_{2} z_{1}\\right)\\\\\n",
    "0 \\\\\n",
    "- f_{0} \\left(r_{1} - r_{2}\\right) \\left(r_{0} + r_{1} + r_{2}\\right) + f_{1} \\left(r_{0} - r_{2}\\right) \\left(r_{0} + r_{1} + r_{2}\\right) - f_{2} \\left(r_{0} - r_{1}\\right) \\left(r_{0} + r_{1} + r_{2}\\right)\n",
    "\\end{pmatrix}\n",
    "$$\n",
    "\n",
    "with\n",
    "\n",
    "$$\n",
    "\\vec{A} = \n",
    "\\begin{pmatrix}\n",
    "2 r_{0} z_{1} - 2 r_{0} z_{2} - r_{1} z_{0} + r_{1} z_{1} + r_{2} z_{0} - r_{2} z_{2}\\\\\n",
    "0\\\\\n",
    "- \\left(r_{1} - r_{2}\\right) \\left(r_{0} + r_{1} + r_{2}\\right)\n",
    "\\end{pmatrix}\n",
    "$$\n",
    "\n",
    "$$\n",
    "\\vec{B} = \n",
    "\\begin{pmatrix}\n",
    "- r_{0} z_{0} + r_{0} z_{1} - 2 r_{1} z_{0} + 2 r_{1} z_{2} - r_{2} z_{1} + r_{2} z_{2}\\\\\n",
    "0\\\\\n",
    "\\left(r_{0} - r_{2}\\right) \\left(r_{0} + r_{1} + r_{2}\\right)\n",
    "\\end{pmatrix}\n",
    "$$\n",
    "\n",
    "$$\n",
    "\\vec{C} = \n",
    "\\begin{pmatrix}\n",
    "r_{0} z_{0} - r_{0} z_{2} - r_{1} z_{1} + r_{1} z_{2} + 2 r_{2} z_{0} - 2 r_{2} z_{1}\\\\\n",
    "0\\\\\n",
    "- \\left(r_{0} - r_{1}\\right) \\left(r_{0} + r_{1} + r_{2}\\right)\n",
    "\\end{pmatrix}\n",
    "$$\n",
    "\n",
    "we can write\n",
    "\n",
    "$$\n",
    "\\int \\int f(\\vec{r}(s, t)) \\rho(\\vec{r}(s, t)) \\left( \\frac{\\partial \\vec{r}(s, t)}{\\partial s} \\times \\frac{\\partial \\vec{r}(s, t)}{\\partial t} \\right) \\mathrm{d}s \\mathrm{d}t  = \\frac{1}{6} \\left(f_0 \\vec{A} + f_1 \\vec{B} + f_2 \\vec{C} \\right)\n",
    "$$\n",
    "\n",
    "including the left hand side\n",
    "\n",
    "$$\n",
    "\\nabla f = \\frac{1}{6 A_{\\phi}} \\left(f_0 \\vec{A} + f_1 \\vec{B} + f_2 \\vec{C} \\right).\n",
    "$$"
   ]
  },
  {
   "cell_type": "code",
   "execution_count": 21,
   "id": "c1580345-e378-4310-8b7f-a1eb209f2d0c",
   "metadata": {
    "jupyter": {
     "source_hidden": true
    },
    "tags": []
   },
   "outputs": [
    {
     "data": {
      "text/latex": [
       "$\\displaystyle \\frac{\\left(r_{0} + r_{1} + r_{2}\\right) \\left(- r_{0} z_{1} + r_{0} z_{2} + r_{1} z_{0} - r_{1} z_{2} - r_{2} z_{0} + r_{2} z_{1}\\right)}{6}$"
      ],
      "text/plain": [
       "(r0 + r1 + r2)*(-r0*z1 + r0*z2 + r1*z0 - r1*z2 - r2*z0 + r2*z1)/6"
      ]
     },
     "execution_count": 21,
     "metadata": {},
     "output_type": "execute_result"
    }
   ],
   "source": [
    "A1 = -Rational(1, 6)*(r0 - r1)*(2*r0*z0 + r0*z1 + r1*z0 + 2*r1*z1)\n",
    "A2 = -Rational(1, 6)*(r1 - r2)*(2*r1*z1 + r1*z2 + r2*z1 + 2*r2*z2)\n",
    "A3 = -Rational(1, 6)*(r2 - r0)*(2*r2*z2 + r2*z0 + r0*z2 + 2*r0*z0)\n",
    "\n",
    "A = (A1 + A2 + A3).simplify().factor()\n",
    "A"
   ]
  },
  {
   "cell_type": "code",
   "execution_count": 22,
   "id": "61874f96-2a98-4b85-b79c-256e28e6996f",
   "metadata": {
    "jupyter": {
     "source_hidden": true
    }
   },
   "outputs": [
    {
     "name": "stdout",
     "output_type": "stream",
     "text": [
      "\\frac{\\left(r_{0} + r_{1} + r_{2}\\right) \\left(- r_{0} z_{1} + r_{0} z_{2} + r_{1} z_{0} - r_{1} z_{2} - r_{2} z_{0} + r_{2} z_{1}\\right)}{6}\n"
     ]
    }
   ],
   "source": [
    "print(latex(A))"
   ]
  },
  {
   "cell_type": "markdown",
   "id": "e2c4ce36-c6fd-4cbb-ac08-703e6875e79a",
   "metadata": {},
   "source": [
    "Given a triangular cell we have\n",
    "\n",
    "$$\n",
    "A_{\\phi} = \\frac{1}{6}\\left(r_{0} + r_{1} + r_{2}\\right) \\left(- r_{0} z_{1} + r_{0} z_{2} + r_{1} z_{0} - r_{1} z_{2} - r_{2} z_{0} + r_{2} z_{1}\\right)\n",
    "$$"
   ]
  },
  {
   "cell_type": "code",
   "execution_count": null,
   "id": "585a1e62-e6be-4db0-87e4-9119de42d12b",
   "metadata": {
    "jupyter": {
     "source_hidden": true
    }
   },
   "outputs": [],
   "source": []
  }
 ],
 "metadata": {
  "kernelspec": {
   "display_name": "Python 3 (ipykernel)",
   "language": "python",
   "name": "python3"
  },
  "language_info": {
   "codemirror_mode": {
    "name": "ipython",
    "version": 3
   },
   "file_extension": ".py",
   "mimetype": "text/x-python",
   "name": "python",
   "nbconvert_exporter": "python",
   "pygments_lexer": "ipython3",
   "version": "3.10.4"
  }
 },
 "nbformat": 4,
 "nbformat_minor": 5
}
