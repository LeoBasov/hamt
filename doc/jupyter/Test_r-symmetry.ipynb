{
 "cells": [
  {
   "cell_type": "code",
   "execution_count": 1,
   "id": "a0601a7e-6b1a-4c5c-8de1-6159c48ef2ef",
   "metadata": {},
   "outputs": [],
   "source": [
    "import numpy as np"
   ]
  },
  {
   "cell_type": "code",
   "execution_count": 2,
   "id": "a02bf596-aade-4f2b-b925-935b6bcffc8e",
   "metadata": {},
   "outputs": [],
   "source": [
    "class Triangle:\n",
    "    def __init__(self, points, point_ids):\n",
    "        pass\n",
    "        self.points = np.array(points)\n",
    "        self.point_ids = point_ids\n",
    "        self.R = np.empty(3)\n",
    "        self.Z = np.empty(3)\n",
    "        self.centre = (self.points[0] + self.points[1] + self.points[2])/3.0\n",
    "        \n",
    "        self.calc_vals()\n",
    "    \n",
    "    def calc_vals(self):\n",
    "        self.R[0] = (2.0*self.points[0][0] + self.points[1][0])*(self.points[0][1] - self.points[1][1]) + (self.points[2][0] + 2.0*self.points[0][0])*(self.points[2][1] - self.points[0][1])\n",
    "        self.R[1] = (self.points[0][0] + 2.0*self.points[1][0])*(self.points[0][1] - self.points[1][1]) + (2.0*self.points[1][0] + self.points[2][0])*(self.points[1][1] - self.points[2][1])\n",
    "        self.R[2] = (self.points[1][0] + 2.0*self.points[2][0])*(self.points[1][1] - self.points[2][1]) + (2.0*self.points[2][0] + self.points[0][0])*(self.points[2][1] - self.points[0][1])\n",
    "        \n",
    "        self.Z[0] = -((2.0*self.points[0][0] + self.points[1][0])*(self.points[0][0] - self.points[1][0]) - (self.points[2][0] + 2.0*self.points[0][0])*(self.points[2][0] - self.points[0][0]))\n",
    "        self.Z[1] = -((self.points[0][0] + 2.0*self.points[1][0])*(self.points[0][0] - self.points[1][0]) - (2.0*self.points[1][0] + self.points[2][0])*(self.points[1][0] - self.points[2][0]))\n",
    "        self.Z[2] = -((self.points[1][0] + 2.0*self.points[2][0])*(self.points[1][0] - self.points[2][0]) - (2.0*self.points[2][0] + self.points[0][0])*(self.points[2][0] - self.points[0][0]))\n",
    "        \n",
    "class Mesh:\n",
    "    def __init__(self):\n",
    "        self.points = []\n",
    "        self.triangles = []\n",
    "        \n",
    "    def add_point(self, point):\n",
    "        self.points.append(point)\n",
    "        return len(self.points) - 1\n",
    "        \n",
    "    def add_triangle(self, id1, id2, id3):\n",
    "        self.triangles.append(Triangle((self.points[id1], self.points[id2], self.points[id3]), (id1, id2, id3)))\n",
    "        \n",
    "    def calc_C(self, tr1, tr2):\n",
    "        C = np.emtpy(4)\n",
    "        \n",
    "        C[0] = 0 #(2  \\rho_{c} z_{c} - 2  \\rho_{c} z_{c + 1} + \\rho_{c + 1} z_{c} - \\rho_{c + 1} z_{c + 1})\n",
    "        C[1] = 0 #(- 2  \\rho_{c}^{2} +  \\rho_{c} \\rho_{c + 1} + \\rho_{c + 1}^{2})\n",
    "        C[2] = 0 #(\\rho_{c} z_{c} -  \\rho_{c} z_{c + 1} + 2  \\rho_{c + 1} z_{c} - 2 \\rho_{c + 1} z_{c + 1})\n",
    "        C[3] = 0 #(-\\rho_{c}^{2} - \\rho_{c} \\rho_{c + 1} + 2 \\rho_{c + 1}^{2}) \n",
    "        \n",
    "        return C"
   ]
  },
  {
   "cell_type": "code",
   "execution_count": 3,
   "id": "fa46055a-5739-4f1e-b0ff-f8cb6f3173a3",
   "metadata": {},
   "outputs": [
    {
     "name": "stdout",
     "output_type": "stream",
     "text": [
      "[0.33333333 0.33333333]\n"
     ]
    }
   ],
   "source": [
    "mesh = Mesh()\n",
    "\n",
    "id1 = mesh.add_point((0.0, 0.0))\n",
    "id2 = mesh.add_point((1.0, 0.0))\n",
    "id3 = mesh.add_point((0.0, 1.0))\n",
    "id4 = mesh.add_point((-1.0, 0.0))\n",
    "id5 = mesh.add_point((0.0, -1.0))\n",
    "\n",
    "mesh.add_triangle(id1, id2, id3)\n",
    "mesh.add_triangle(id1, id3, id4)\n",
    "mesh.add_triangle(id1, id5, id5)\n",
    "mesh.add_triangle(id1, id5, id2)\n",
    "\n",
    "print(mesh.triangles[0].centre)"
   ]
  },
  {
   "cell_type": "code",
   "execution_count": null,
   "id": "434c85f2-937b-42f7-b3bf-017f7d940a9e",
   "metadata": {},
   "outputs": [],
   "source": []
  }
 ],
 "metadata": {
  "kernelspec": {
   "display_name": "Python 3 (ipykernel)",
   "language": "python",
   "name": "python3"
  },
  "language_info": {
   "codemirror_mode": {
    "name": "ipython",
    "version": 3
   },
   "file_extension": ".py",
   "mimetype": "text/x-python",
   "name": "python",
   "nbconvert_exporter": "python",
   "pygments_lexer": "ipython3",
   "version": "3.10.4"
  }
 },
 "nbformat": 4,
 "nbformat_minor": 5
}
