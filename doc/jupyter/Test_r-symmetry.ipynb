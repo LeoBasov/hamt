{
 "cells": [
  {
   "cell_type": "code",
   "execution_count": 1,
   "id": "a0601a7e-6b1a-4c5c-8de1-6159c48ef2ef",
   "metadata": {},
   "outputs": [],
   "source": [
    "import numpy as np"
   ]
  },
  {
   "cell_type": "code",
   "execution_count": 2,
   "id": "a02bf596-aade-4f2b-b925-935b6bcffc8e",
   "metadata": {},
   "outputs": [],
   "source": [
    "class Triangle:\n",
    "    def __init__(self, p0, p1, p2):\n",
    "        pass\n",
    "        self.p0 = np.array(p0)\n",
    "        self.p1 = np.array(p1)\n",
    "        self.p2 = np.array(p2)\n",
    "        self.A = np.zeros(3)\n",
    "        self.B = np.zeros(3)\n",
    "        self.C = np.zeros(3)\n",
    "        self.surf = 0.0\n",
    "        \n",
    "        self._calc_vals()\n",
    "    \n",
    "    def _calc_vals(self):\n",
    "        self._calc_A()\n",
    "        self._calc_B()\n",
    "        self._calc_C()\n",
    "        self._calc_surf()\n",
    "    \n",
    "    def _calc_A(self):\n",
    "        r0 = self.p0[0]\n",
    "        r1 = self.p1[0]\n",
    "        r2 = self.p2[0]\n",
    "        z0 = self.p0[1]\n",
    "        z1 = self.p1[1]\n",
    "        z2 = self.p2[1]\n",
    "        \n",
    "        \n",
    "        self.A[0] = 2*r0*z1 - 2*r0*z2 - r1*z0 + r1*z1 + r2*z0 - r2*z2\n",
    "        self.A[2] = -(r1 - r2)*(r0 + r1 + r2)\n",
    "    \n",
    "    def _calc_B(self):\n",
    "        r0 = self.p0[0]\n",
    "        r1 = self.p1[0]\n",
    "        r2 = self.p2[0]\n",
    "        z0 = self.p0[1]\n",
    "        z1 = self.p1[1]\n",
    "        z2 = self.p2[1]\n",
    "        \n",
    "        self.B[0] = (-r0*z0 + r0*z1 - 2*r1*z0 + 2*r1*z2 - r2*z1 + r2*z2)\n",
    "        self.B[2] = (r0 - r2)*(r0 + r1 + r2)\n",
    "    \n",
    "    def _calc_C(self):\n",
    "        r0 = self.p0[0]\n",
    "        r1 = self.p1[0]\n",
    "        r2 = self.p2[0]\n",
    "        z0 = self.p0[1]\n",
    "        z1 = self.p1[1]\n",
    "        z2 = self.p2[1]\n",
    "        \n",
    "        self.C[0] = (r0*z0 - r0*z2 - r1*z1 + r1*z2 + 2*r2*z0 - 2*r2*z1)\n",
    "        self.C[2] = -(r0 - r1)*(r0 + r1 + r2)\n",
    "    \n",
    "    def _calc_surf(self):\n",
    "        r0 = self.p0[0]\n",
    "        r1 = self.p1[0]\n",
    "        r2 = self.p2[0]\n",
    "        z0 = self.p0[1]\n",
    "        z1 = self.p1[1]\n",
    "        z2 = self.p2[1]\n",
    "        \n",
    "        self.surf = (r0 + r1 + r2)*((r1 - r0)*(z2 - z0) - (r2 - r0)*(z1 - z0))/3.0\n",
    "    \n",
    "    def calc_gradient(self, f0, f1, f2):\n",
    "        r0 = self.p0[0]\n",
    "        r1 = self.p1[0]\n",
    "        r2 = self.p2[0]\n",
    "        z0 = self.p0[1]\n",
    "        z1 = self.p1[1]\n",
    "        z2 = self.p2[1]\n",
    "        Gamma = np.zeros(3)\n",
    "        \n",
    "        Gamma[0] = ((z0 - z1)*(2*f0*r0 + f0*r1 + f1*r0 + 2*f1*r1) - (z0 - z2)*(2*f0*r0 + f0*r2 + f2*r0 + 2*f2*r2) + (z1 - z2)*(2*f1*r1 + f1*r2 + f2*r1 + 2*f2*r2))/3\n",
    "        Gamma[2] = (-(r0 - r1)*(2*f0*r0 + f0*r1 + f1*r0 + 2*f1*r1) + (r0 - r2)*(2*f0*r0 + f0*r2 + f2*r0 + 2*f2*r2) - (r1 - r2)*(2*f1*r1 + f1*r2 + f2*r1 + 2*f2*r2))/3\n",
    "        \n",
    "        return Gamma/(self.surf)\n",
    "\n"
   ]
  },
  {
   "cell_type": "code",
   "execution_count": 3,
   "id": "d24e5db2-0e37-4735-a282-3e33c684becb",
   "metadata": {},
   "outputs": [
    {
     "name": "stdout",
     "output_type": "stream",
     "text": [
      "[-1.99999983  0.          0.        ]\n",
      "[-1.00000092e-10  0.00000000e+00 -2.00000000e+00]\n"
     ]
    }
   ],
   "source": [
    "dz = 1e-10\n",
    "\n",
    "tr1 = Triangle((1.0, 0.0), (1.0 + dz, 0.0), (1.0, 0.0 + dz))\n",
    "tr2 = Triangle((1.0 + dz, 0.0), (1.0 + dz, 0.0 + dz), (1.0, 0.0 + dz))\n",
    "\n",
    "gr1 = tr1.calc_gradient(0.0, 2*dz, 0.0)\n",
    "gr2 = tr2.calc_gradient(2*dz, 2*dz, 0.0)\n",
    "\n",
    "gr3 = tr1.calc_gradient(0.0, 0.0, 2*dz)\n",
    "gr4 = tr2.calc_gradient(0.0, 2*dz, 2*dz)\n",
    "\n",
    "\n",
    "print(0.5*(gr1 + gr2))\n",
    "\n",
    "\n",
    "print(0.5*(gr3 + gr4))"
   ]
  },
  {
   "cell_type": "code",
   "execution_count": 4,
   "id": "3a22c6ba-3963-41ac-a125-424bcfa89ad9",
   "metadata": {},
   "outputs": [
    {
     "name": "stdout",
     "output_type": "stream",
     "text": [
      "1.0000000827737043e-20\n",
      "1.0000000828070377e-20\n"
     ]
    }
   ],
   "source": [
    "print(tr1.surf)\n",
    "print(tr2.surf)"
   ]
  },
  {
   "cell_type": "code",
   "execution_count": 5,
   "id": "c9392d75-6900-4a26-84cf-52afc1f6c77e",
   "metadata": {},
   "outputs": [
    {
     "data": {
      "text/plain": [
       "7.999992319999693"
      ]
     },
     "execution_count": 5,
     "metadata": {},
     "output_type": "execute_result"
    }
   ],
   "source": [
    "0.666666/0.08333333"
   ]
  },
  {
   "cell_type": "code",
   "execution_count": null,
   "id": "0ecdd8f4-135a-42b2-aa47-bb1a964994a6",
   "metadata": {},
   "outputs": [],
   "source": []
  }
 ],
 "metadata": {
  "kernelspec": {
   "display_name": "Python 3 (ipykernel)",
   "language": "python",
   "name": "python3"
  },
  "language_info": {
   "codemirror_mode": {
    "name": "ipython",
    "version": 3
   },
   "file_extension": ".py",
   "mimetype": "text/x-python",
   "name": "python",
   "nbconvert_exporter": "python",
   "pygments_lexer": "ipython3",
   "version": "3.10.4"
  }
 },
 "nbformat": 4,
 "nbformat_minor": 5
}
