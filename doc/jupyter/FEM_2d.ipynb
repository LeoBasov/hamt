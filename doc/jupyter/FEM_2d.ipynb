{
 "cells": [
  {
   "cell_type": "code",
   "execution_count": 1,
   "id": "9d35bb36-4376-4b41-bf86-131aacec1b9b",
   "metadata": {},
   "outputs": [],
   "source": [
    "from sympy import *\n",
    "init_printing()"
   ]
  },
  {
   "cell_type": "markdown",
   "id": "19d08d92-86e2-486b-8948-7a56d83a21be",
   "metadata": {},
   "source": [
    "## Tetrahedron FEM\n",
    "For 2d of 3d FEM using triangular or tetrahedron cells we use the following base function\n",
    "$$\n",
    "\\phi(\\vec{x}) = \\vec{a} \\cdot \\vec{x} + b\n",
    "$$\n",
    "with the derivatives\n",
    "$$\n",
    "\\frac{\\partial \\phi}{\\partial x_i} = a_i\n",
    "$$\n",
    "\n",
    "### 2d Triangular FEM\n",
    "Given a cell $(\\bullet)_c$ the coefficients $\\vec{a}_v$ and $b_v$ of a $\\phi_{c, v}$ centered on a vertec $v$ can be found as\n",
    "$$\n",
    "\\phi_{c, v}(\\vec{x}_k) = 1\\\\\n",
    "\\phi_{c, v}(\\vec{x}_{k + 1}) = 0\\\\\n",
    "\\phi_{c, v}(\\vec{x}_{k + 2}) = 0\n",
    "$$\n",
    "\n",
    "### Cartesian homegeneous heat equation\n",
    "Given the heat equation\n",
    "$$\n",
    "T_{xx} + T_{yy} = 0\n",
    "$$\n",
    "we can write\n",
    "$$\n",
    "\\sum_{i = 1}^{N - 1} T_i \\underbrace{\\int_{\\Omega} \\frac{\\partial\\phi_{i}}{\\partial x} \\frac{\\partial\\phi}{\\partial x} +  \\frac{\\partial\\phi_{i}}{\\partial y} \\frac{\\partial\\phi}{\\partial y}\\mathrm{d}x \\mathrm{d}y}_{[\\phi_i, \\phi]_x + [\\phi_i, \\phi]_y} = 0\n",
    "$$\n",
    "Thus we have to solve\n",
    "$$\n",
    "[\\phi_i, \\phi_i]_{x_i} = ???\\\\\n",
    "[\\phi_{i + 1}, \\phi_i]_{x_i} = ???\\\\\n",
    "[\\phi_{i + 2}, \\phi_i]_{x_i} = ???\n",
    "$$\n",
    "\n",
    "On a unit triagle we get\n",
    "$$\n",
    "x = x_i + (x_{i + 1} - x_i) \\xi + (x_{i + 2} - x_i) \\eta\\\\\n",
    "y = y_i + (y_{i + 1} - y_i) \\xi + (y_{i + 2} - y_i) \\eta\n",
    "$$\n",
    "which gets as\n",
    "$$\n",
    "\\phi(\\xi, \\eta) = \\tilde{a}_0 \\xi + \\tilde{a}_1 \\eta + \\tilde{b}\n",
    "$$\n",
    "where\n",
    "$$\n",
    "\\tilde{a}_0 = a_0(x_{i+1} - x_i) + a_1(y_{i+1} - y_i)\\\\\n",
    "\\tilde{a}_1 = a_0(x_{i+2} - x_i) + a_1(y_{i+2} - y_i)\\\\\n",
    "\\tilde{b} = a_0 x_i + a_1 y_i + b\n",
    "$$\n",
    "and\n",
    "$$\n",
    "a_0 = \\frac{y_{i+1} - y_{i+2}}{x_i(y_{i+1} - y_{i+2}) + x_{i+1}(-y_i + y_{i+2}) + x_{i+2}(y_i - y_{i+1})}\\\\\n",
    "a_1 = -\\frac{x_{i+1} - x_{i+2}}{x_i(y_{i+1} - y_{i+2}) + x_{i+1}(-y_i + y_{i+2}) + x_{i+2}(y_i - y_{i+1})}\\\\\n",
    "b = \\frac{x_{i+1} y_{i+2} - x_{i+2} y_{i+1}}{x_i (y_{i+1} - y_{i+2}) + x_{i+1} (-y_i + y_{i+2}) + x_{i+2} (y_i - y_{i+1})}\n",
    "$$"
   ]
  },
  {
   "cell_type": "code",
   "execution_count": 2,
   "id": "f2c52f23-b666-4249-9ed4-f920aedd2503",
   "metadata": {},
   "outputs": [],
   "source": [
    "a0, a1, b = symbols(\"a_0 a_1 b\", real=True)\n",
    "xi, yi = symbols(\"x_i y_i\", real=True)\n",
    "xip, yip= symbols(\"x_{i+1} y_{i+1}\", real=True)\n",
    "xipp, yipp= symbols(\"x_{i+2} y_{i+2}\", real=True)\n",
    "x, y = symbols(\"x y\", real=True)"
   ]
  },
  {
   "cell_type": "code",
   "execution_count": 3,
   "id": "1517e189-6615-41fb-925c-12facfd58730",
   "metadata": {},
   "outputs": [],
   "source": [
    "phi_i = a0*xi + a1*yi + b - 1\n",
    "phi_ip = a0*xip + a1*yip + b\n",
    "phi_ipp = a0*xipp + a1*yipp + b"
   ]
  },
  {
   "cell_type": "code",
   "execution_count": 4,
   "id": "a19f35d9-68dd-4cbd-87f6-71e743e75366",
   "metadata": {},
   "outputs": [],
   "source": [
    "res = solve([phi_i, phi_ip, phi_ipp], [a0, a1, b])"
   ]
  },
  {
   "cell_type": "code",
   "execution_count": 5,
   "id": "073b6996-bbee-4075-9149-91d8c615890a",
   "metadata": {},
   "outputs": [
    {
     "name": "stdout",
     "output_type": "stream",
     "text": [
      "(y_{i+1} - y_{i+2})/(x_i*(y_{i+1} - y_{i+2}) + x_{i+1}*(-y_i + y_{i+2}) + x_{i+2}*(y_i - y_{i+1}))\n"
     ]
    }
   ],
   "source": [
    "print(factor(res[a0], (xi, xip, xipp)))"
   ]
  },
  {
   "cell_type": "code",
   "execution_count": 6,
   "id": "5b12bbe1-1775-41bc-8dbc-4cf6966e9c5c",
   "metadata": {},
   "outputs": [
    {
     "name": "stdout",
     "output_type": "stream",
     "text": [
      "-(x_{i+1} - x_{i+2})/(x_i*(y_{i+1} - y_{i+2}) + x_{i+1}*(-y_i + y_{i+2}) + x_{i+2}*(y_i - y_{i+1}))\n"
     ]
    }
   ],
   "source": [
    "print(factor(res[a1], (xi, xip, xipp)))"
   ]
  },
  {
   "cell_type": "code",
   "execution_count": 7,
   "id": "d2e6fbc5-7882-4282-9996-8cf8be86aa83",
   "metadata": {},
   "outputs": [
    {
     "name": "stdout",
     "output_type": "stream",
     "text": [
      "(x_{i+1}*y_{i+2} - x_{i+2}*y_{i+1})/(x_i*(y_{i+1} - y_{i+2}) + x_{i+1}*(-y_i + y_{i+2}) + x_{i+2}*(y_i - y_{i+1}))\n"
     ]
    }
   ],
   "source": [
    "print(factor(res[b], (xi, xip, xipp)))"
   ]
  },
  {
   "cell_type": "code",
   "execution_count": 8,
   "id": "4b1ba540-8575-4ad0-985f-43424de61d14",
   "metadata": {},
   "outputs": [],
   "source": [
    "xxi, eta = symbols(\"xi eta\", real=True)"
   ]
  },
  {
   "cell_type": "code",
   "execution_count": 9,
   "id": "3c82fd23-b4d8-42dd-88f7-9df08f5d6b48",
   "metadata": {},
   "outputs": [],
   "source": [
    "phi = a0 * x + a1*y + b\n",
    "phi = factor(phi)"
   ]
  },
  {
   "cell_type": "code",
   "execution_count": 10,
   "id": "3bb2b057-3aa4-42ec-8ec5-524a7adc5d45",
   "metadata": {},
   "outputs": [
    {
     "data": {
      "image/png": "[encoded data removed]",
      "text/latex": [
       "$\\displaystyle a_{0} x_{i} + a_{1} y_{i} + b - \\eta \\left(a_{0} x_{i} - a_{0} x_{i+2} + a_{1} y_{i} - a_{1} y_{i+2}\\right) - \\xi \\left(a_{0} x_{i} - a_{0} x_{i+1} + a_{1} y_{i} - a_{1} y_{i+1}\\right)$"
      ],
      "text/plain": [
       "a₀⋅xᵢ + a₁⋅yᵢ + b - η⋅(a₀⋅xᵢ - a₀⋅x_{i+2} + a₁⋅yᵢ - a₁⋅y_{i+2}) - ξ⋅(a₀⋅xᵢ - a\n",
       "₀⋅x_{i+1} + a₁⋅yᵢ - a₁⋅y_{i+1})"
      ]
     },
     "execution_count": 10,
     "metadata": {},
     "output_type": "execute_result"
    }
   ],
   "source": [
    "phi = factor(simplify(phi.subs(x, xi + (xip-xi)*xxi + (xipp - xi)*eta)))\n",
    "phi = factor(simplify(phi.subs(y, yi + (yip-yi)*xxi + (yipp - yi)*eta)))\n",
    "phi = factor(phi, (xxi, eta))\n",
    "phi"
   ]
  },
  {
   "cell_type": "code",
   "execution_count": 11,
   "id": "697fa65c-5bc7-42d2-a80e-1622b76ac9b4",
   "metadata": {},
   "outputs": [
    {
     "name": "stdout",
     "output_type": "stream",
     "text": [
      "a_0*x_i + a_1*y_i + b - eta*(a_0*x_i - a_0*x_{i+2} + a_1*y_i - a_1*y_{i+2}) - xi*(a_0*x_i - a_0*x_{i+1} + a_1*y_i - a_1*y_{i+1})\n"
     ]
    }
   ],
   "source": [
    "print(phi)"
   ]
  },
  {
   "cell_type": "code",
   "execution_count": null,
   "id": "c9485aa7-c109-4799-a51f-f5937632cfb0",
   "metadata": {},
   "outputs": [],
   "source": []
  }
 ],
 "metadata": {
  "kernelspec": {
   "display_name": "Python 3 (ipykernel)",
   "language": "python",
   "name": "python3"
  },
  "language_info": {
   "codemirror_mode": {
    "name": "ipython",
    "version": 3
   },
   "file_extension": ".py",
   "mimetype": "text/x-python",
   "name": "python",
   "nbconvert_exporter": "python",
   "pygments_lexer": "ipython3",
   "version": "3.10.12"
  }
 },
 "nbformat": 4,
 "nbformat_minor": 5
}
