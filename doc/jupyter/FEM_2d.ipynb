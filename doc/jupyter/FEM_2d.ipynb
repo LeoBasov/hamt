{
 "cells": [
  {
   "cell_type": "code",
   "execution_count": 1,
   "id": "9d35bb36-4376-4b41-bf86-131aacec1b9b",
   "metadata": {},
   "outputs": [],
   "source": [
    "from sympy import *\n",
    "init_printing()"
   ]
  },
  {
   "cell_type": "markdown",
   "id": "19d08d92-86e2-486b-8948-7a56d83a21be",
   "metadata": {},
   "source": [
    "## Tetrahedron FEM\n",
    "For 2d of 3d FEM using triangular or tetrahedron cells we use the following base function\n",
    "$$\n",
    "\\phi(\\vec{x}) = \\vec{a} \\cdot \\vec{x} + b\n",
    "$$\n",
    "with the derivatives\n",
    "$$\n",
    "\\frac{\\partial \\phi}{\\partial x_i} = a_i\n",
    "$$\n",
    "\n",
    "### 2d Triangular FEM\n",
    "Given a cell $(\\bullet)_c$ the coefficients $\\vec{a}_v$ and $b_v$ of a $\\phi_{c, v}$ centered on a vertec $v$ can be found as\n",
    "$$\n",
    "\\phi_{c, v}(\\vec{x}_k) = 1\\\\\n",
    "\\phi_{c, v}(\\vec{x}_{k + 1}) = 0\\\\\n",
    "\\phi_{c, v}(\\vec{x}_{k + 2}) = 0\n",
    "$$\n",
    "\n",
    "### Cartesian homegeneous heat equation\n",
    "Given the heat equation\n",
    "$$\n",
    "T_{xx} + T_{yy} = 0\n",
    "$$\n",
    "we can write\n",
    "$$\n",
    "\\sum_{i = 1}^{N - 1} T_i \\underbrace{\\int_{\\Omega} \\frac{\\partial\\phi_{i}}{\\partial x} \\frac{\\partial\\phi}{\\partial x} +  \\frac{\\partial\\phi_{i}}{\\partial y} \\frac{\\partial\\phi}{\\partial y}\\mathrm{d}x \\mathrm{d}y}_{[\\phi_i, \\phi]_x + [\\phi_i, \\phi]_y} = 0\n",
    "$$\n",
    "Thus we have to solve\n",
    "$$\n",
    "[\\phi_i, \\phi_i]_{x_i} = ???\\\\\n",
    "[\\phi_{i + 1}, \\phi_i]_{x_i} = ???\\\\\n",
    "[\\phi_{i + 2}, \\phi_i]_{x_i} = ???\n",
    "$$\n",
    "\n",
    "### Solution on a Unit triangle\n",
    "On a unit triagle we get using the definitions\n",
    "\\begin{align}\n",
    "\\Delta x_{10} &= x_{i + 1} - x_i\\\\\n",
    "\\Delta x_{20} &= x_{i + 2} - x_i\\\\\n",
    "\\Delta y_{10} &= y_{i + 1} - y_i\\\\\n",
    "\\Delta y_{20} &= y_{i + 2} - y_i\n",
    "\\end{align}\n",
    "we get\n",
    "$$\n",
    "x(\\xi, \\eta) = x_i + \\Delta x_{10} \\xi + \\Delta x_{20} \\eta\\\\\n",
    "y(\\xi, \\eta) = y_i + \\Delta y_{10} \\xi + \\Delta y_{20} \\eta\n",
    "$$\n",
    "and\n",
    "\\begin{align}\n",
    "\\xi(x, y) &=\\frac{1}{det(J(x,y))} \\bigg(\\Delta y_{20}(x - x_i) - \\Delta x_{20}(y - y_i)\\bigg)\\\\\n",
    "\\eta(x, y) &=\\frac{1}{det(J(x,y))} \\bigg(-\\Delta y_{10}(x - x_i) + \\Delta x_{10}(y - y_i)\\bigg)\n",
    "\\end{align}\n",
    "This gives as the base functions\n",
    "\\begin{align}\n",
    "\\phi_i(\\xi, \\eta) &=-\\xi -\\eta +1\\\\\n",
    "\\phi_{i+1}(\\xi, \\eta) &=\\xi\\\\\n",
    "\\phi_{i+2}(\\xi, \\eta) &=\\eta\n",
    "\\end{align}\n",
    "with the derivations for the base coordinates\n",
    "$$\n",
    "J(x,y)=\n",
    "\\begin{pmatrix}\n",
    "x_{\\xi} & x_{\\eta}\\\\\n",
    "y_{\\xi} & y_{\\eta}\n",
    "\\end{pmatrix}\n",
    "=\n",
    "\\begin{pmatrix}\n",
    "\\Delta x_{10} & \\Delta x_{20}\\\\\n",
    "\\Delta y_{10} & \\Delta y_{20}\n",
    "\\end{pmatrix}\n",
    "$$\n",
    "with the derivations for the derived coordinates\n",
    "$$\n",
    "J(\\xi,\\eta)=\n",
    "\\begin{pmatrix}\n",
    "\\xi_{x} & \\xi_{y}\\\\\n",
    "\\eta_{x} & \\eta_{y}\n",
    "\\end{pmatrix}\n",
    "=\\frac{1}{det(J(x, y))}\n",
    "\\begin{pmatrix}\n",
    "\\Delta y_{20} & -\\Delta x_{20}\\\\\n",
    "-\\Delta y_{10} & \\Delta x_{10}\n",
    "\\end{pmatrix}\n",
    "$$\n",
    "and the derivations for the base functions\n",
    "\\begin{align}\n",
    "J(\\phi_i) &=\n",
    "\\begin{pmatrix}\n",
    "(\\phi_i)_{\\xi} & (\\phi_i)_{\\eta}\n",
    "\\end{pmatrix}\n",
    "=\n",
    "\\begin{pmatrix}\n",
    "-1 & -1\n",
    "\\end{pmatrix}\\\\\n",
    "J(x,y) &=\n",
    "\\begin{pmatrix}\n",
    "(\\phi_{i+1})_{\\xi} & (\\phi_{i+1})_{\\eta}\n",
    "\\end{pmatrix}\n",
    "=\n",
    "\\begin{pmatrix}\n",
    "1 & 0\n",
    "\\end{pmatrix}\\\\\n",
    "J(x,y) &=\n",
    "\\begin{pmatrix}\n",
    "(\\phi_{i+2})_{\\xi} & (\\phi_{i+1})_{\\eta}\n",
    "\\end{pmatrix}\n",
    "=\n",
    "\\begin{pmatrix}\n",
    "0 & 1\n",
    "\\end{pmatrix}\n",
    "\\end{align}\n",
    "This gives us the determinant of the Jacobina as\n",
    "$$\n",
    "\\mathrm{det}(J) = \\Delta x_{10} \\Delta y_{20} - \\Delta x_{20} \\Delta y_{10}\n",
    "$$\n",
    "\n",
    "We need also to transform the derevatives as\n",
    "$$\n",
    "\\frac{\\partial u}{\\partial x} = \\frac{\\partial u}{\\partial \\xi}\\frac{\\partial \\xi}{\\partial x} + \\frac{\\partial u}{\\partial \\eta}\\frac{\\partial \\eta}{\\partial x}\\\\\n",
    "\\frac{\\partial u}{\\partial y} = \\frac{\\partial u}{\\partial \\xi}\\frac{\\partial \\xi}{\\partial y} + \\frac{\\partial u}{\\partial \\eta}\\frac{\\partial \\eta}{\\partial y}\n",
    "$$\n",
    "and the integral\n",
    "$$\n",
    "\\int_0^1 \\int_0^{1 - \\eta}U\\,\\mathrm{det}(J)\\,\\mathrm{d}\\xi\\mathrm{d}\\eta\n",
    "$$"
   ]
  },
  {
   "cell_type": "markdown",
   "id": "1f769306-fccf-4388-bb7c-f4f3e69999bb",
   "metadata": {},
   "source": [
    "### Integrals\n",
    "The integrals can now be calculated as\n",
    "Which leads to\n",
    "\\begin{align}\n",
    "[\\phi_i, \\phi_i]_{x} &= \\frac{1}{det(J(x,y))} \\int_0^1 \\int_0^{1 - \\eta} \\left(\\frac{\\partial \\phi_i}{\\partial \\xi}\\frac{\\partial \\xi}{\\partial x} + \\frac{\\partial \\phi_i}{\\partial \\eta}\\frac{\\partial \\eta}{\\partial x}\\right)^2 d\\xi d\\eta\\\\\n",
    "&= \\frac{1}{det(J(x,y))} \\int_0^1 \\int_0^{1 - \\eta} \\left(-\\Delta y_{20} + \\Delta y_{10}\\right)^2 d\\xi d\\eta\\\\\n",
    "&= \\frac{1}{2}\\frac{\\left(-\\Delta y_{20} + \\Delta y_{10}\\right)^2}{det(J(x,y))}\n",
    "\\end{align}\n",
    "and\n",
    "\\begin{align}\n",
    "[\\phi_i, \\phi_i]_{y} &= \\frac{1}{det(J(x,y))} \\int_0^1 \\int_0^{1 - \\eta} \\left(\\frac{\\partial \\phi_i}{\\partial \\xi}\\frac{\\partial \\xi}{\\partial y} + \\frac{\\partial \\phi_i}{\\partial \\eta}\\frac{\\partial \\eta}{\\partial y}\\right)^2 d\\xi d\\eta\\\\\n",
    "&= \\frac{1}{det(J(x,y))} \\int_0^1 \\int_0^{1 - \\eta} \\left(\\Delta x_{20} - \\Delta x_{10}\\right)^2 d\\xi d\\eta\\\\\n",
    "&= \\frac{1}{2}\\frac{\\left(\\Delta x_{20} - \\Delta x_{10}\\right)^2}{det(J(x,y))}\n",
    "\\end{align}\n",
    "and\n",
    "\\begin{align}\n",
    "[\\phi_{i}, \\phi_{i+1}]_{x} &= \\frac{1}{det(J(x,y))} \\int_0^1 \\int_0^{1 - \\eta} \\left(\\frac{\\partial \\phi_i}{\\partial \\xi}\\frac{\\partial \\xi}{\\partial x} + \\frac{\\partial \\phi_i}{\\partial \\eta}\\frac{\\partial \\eta}{\\partial x}\\right)\\left(\\frac{\\partial \\phi_{i+1}}{\\partial \\xi}\\frac{\\partial \\xi}{\\partial x} + \\frac{\\partial \\phi_{i+1}}{\\partial \\eta}\\frac{\\partial \\eta}{\\partial x}\\right) d\\xi d\\eta\\\\\n",
    "&= \\frac{1}{det(J(x,y))} \\int_0^1 \\int_0^{1 - \\eta} \\left(-\\Delta y_{20} + \\Delta y_{10}\\right)(\\Delta y_{20}) d\\xi d\\eta\\\\\n",
    "&= \\frac{1}{2}\\frac{\\left(-\\Delta y_{20} + \\Delta y_{10}\\right)\\Delta y_{20}}{det(J(x,y))}\n",
    "\\end{align}\n",
    "and\n",
    "\\begin{align}\n",
    "[\\phi_{i}, \\phi_{i+1}]_{y} &= \\frac{1}{det(J(x,y))} \\int_0^1 \\int_0^{1 - \\eta} \\left(\\frac{\\partial \\phi_i}{\\partial \\xi}\\frac{\\partial \\xi}{\\partial y} + \\frac{\\partial \\phi_i}{\\partial \\eta}\\frac{\\partial \\eta}{\\partial y}\\right)\\left(\\frac{\\partial \\phi_{i+1}}{\\partial \\xi}\\frac{\\partial \\xi}{\\partial y} + \\frac{\\partial \\phi_{i+1}}{\\partial \\eta}\\frac{\\partial \\eta}{\\partial y}\\right) d\\xi d\\eta\\\\\n",
    "&= \\frac{1}{det(J(x,y))} \\int_0^1 \\int_0^{1 - \\eta} \\left(\\Delta x_{20} - \\Delta x_{10}\\right)(-\\Delta x_{20}) d\\xi d\\eta\\\\\n",
    "&= -\\frac{1}{2}\\frac{\\left(\\Delta x_{20} - \\Delta x_{10}\\right)\\Delta x_{20}}{det(J(x,y))}\n",
    "\\end{align}\n",
    "and\n",
    "\\begin{align}\n",
    "[\\phi_i, \\phi_i]_{x} &= \\frac{1}{2}\\frac{\\left(-\\Delta y_{20} + \\Delta y_{10}\\right)^2}{det(J(x,y))}\\\\\n",
    "[\\phi_i, \\phi_i]_{y} &=\\frac{1}{2}\\frac{\\left(\\Delta x_{20} - \\Delta x_{10}\\right)^2}{det(J(x,y))}\\\\\n",
    "[\\phi_{i}, \\phi_{i+1}]_{x} &=\\frac{1}{2}\\frac{\\left(-\\Delta y_{20} + \\Delta y_{10}\\right)\\Delta y_{20}}{det(J(x,y))}\\\\\n",
    "[\\phi_{i}, \\phi_{i+1}]_{y} &=-\\frac{1}{2}\\frac{\\left(\\Delta x_{20} - \\Delta x_{10}\\right)\\Delta x_{20}}{det(J(x,y))}\\\\\n",
    "[\\phi_{i+2}, \\phi_i]_{x} &= -\\frac{1}{2}\\frac{\\left(-\\Delta y_{20} + \\Delta y_{10}\\right)\\Delta y_{10}}{det(J(x,y))}\\\\\n",
    "[\\phi_{i+2}, \\phi_i]_{y} &= \\frac{1}{2}\\frac{\\left(\\Delta x_{20} - \\Delta x_{10}\\right)\\Delta x_{10}}{det(J(x,y))}\n",
    "\\end{align}"
   ]
  },
  {
   "cell_type": "markdown",
   "id": "9335afb3-1985-42dc-b1a4-52f019b36170",
   "metadata": {},
   "source": [
    "## Rotational FEM\n",
    "For the version with cyldrical coordinaes the the values have to be multiplied by a factor that comes from the inclusion of $r$ in the integral \n",
    "$$\n",
    "\\int r U d\\xi d\\eta = (\\Delta y_{10}/6 + \\Delta y_{20}/6 + y_i/2) \\int U d\\xi d\\eta\n",
    "$$\n",
    "**instead** of $\\frac{1}{2}$."
   ]
  },
  {
   "cell_type": "markdown",
   "id": "fb9e8d53-7c4b-4baf-b3e8-4f6fdb9b0ae9",
   "metadata": {},
   "source": [
    "## Neumann Boundary conditions\n",
    "We use the simplistic approach of weighted gradients over the cell boundary as\n",
    "$$\n",
    "\\vec{n} \\cdot \\nabla T = \\frac{L_0 \\left(\\vec{n}_0 \\cdot \\nabla T_0\\right) + L_1 \\left(\\vec{n}_1 \\cdot \\nabla T_1\\right)}{L_0 + L_1}\n",
    "$$\n",
    "were $L$ is the side length of the triangle.\n",
    "For the temperature we have\n",
    "\n",
    "$$\n",
    "T(\\xi, \\eta) = T_i (1 - \\xi - \\eta) + T_{i+1} \\xi + T_{i + 2} \\eta.\n",
    "$$\n",
    "\n",
    "For the gradient $\\nabla_{x, y} T(\\xi, \\eta)$ we use the transformed derivatives from section aboove and get\n",
    "\n",
    "\\begin{align}\n",
    "\\frac{\\partial T(\\xi, \\eta)}{\\partial x} &= \\frac{\\partial T(\\xi, \\eta)}{\\partial \\xi}\\frac{\\partial \\xi}{\\partial x} + \\frac{\\partial T(\\xi, \\eta)}{\\partial \\eta}\\frac{\\partial \\eta}{\\partial x}\\\\\n",
    "\\frac{\\partial T(\\xi, \\eta)}{\\partial y} &= \\frac{\\partial T(\\xi, \\eta)}{\\partial \\xi}\\frac{\\partial \\xi}{\\partial y} + \\frac{\\partial T(\\xi, \\eta)}{\\partial \\eta}\\frac{\\partial \\eta}{\\partial y}.\n",
    "\\end{align}\n",
    "\n",
    "And therefore we get\n",
    "\n",
    "\\begin{align}\n",
    "\\frac{\\partial T(\\xi, \\eta)}{\\partial x} &= \\frac{1}{\\mathrm{det}(J(x, y))}\\big(T_i (\\Delta y_{10} - \\Delta y_{20}) + T_{i+1} \\Delta y_{20} - T_{i+2} \\Delta y_{10} \\big)\\\\\n",
    "\\frac{\\partial T(\\xi, \\eta)}{\\partial y} &= \\frac{1}{\\mathrm{det}(J(x, y))}\\big(T_i (\\Delta x_{20} - \\Delta x_{10}) - T_{i+1} \\Delta x_{20} + T_{i+2} \\Delta x_{10} \\big).\n",
    "\\end{align}\n",
    "\n",
    "Therefore we have\n",
    "\n",
    "\\begin{align}\n",
    "\\vec{n} \\cdot \\nabla T = \\frac{1}{\\mathrm{det}(J(x, y))} \\left[ T_i \\big\\{n_0 (\\Delta y_{10} - \\Delta y_{20}) +  n_1 (\\Delta x_{20} - \\Delta x_{10})\\big\\} + T_{i+1} \\big\\{n_0 \\Delta y_{20}  - n_1 \\Delta x_{20} \\big\\} - T_{i+2} \\big\\{n_0 \\Delta y_{10}  - n_1 \\Delta x_{10} \\big\\} \\right].\n",
    "\\end{align}\n",
    "\n",
    "Now we can write as a shorthand\n",
    "$$\n",
    "\\vec{n} \\cdot \\nabla T = C_i T_i + C_{i + 1} T_{i + 1} + C_{i + 2} T_{i + 2}\n",
    "$$\n",
    "were\n",
    "\\begin{align}\n",
    "C_i &= \\frac{n_0 (\\Delta y_{10} - \\Delta y_{20}) +  n_1 (\\Delta x_{20} - \\Delta x_{10})}{\\mathrm{det}(J(x, y))}\\\\\n",
    "C_{i + 1} &= \\frac{n_0 \\Delta y_{20}  - n_1 \\Delta x_{20}}{\\mathrm{det}(J(x, y))}\\\\\n",
    "C_{i + 2} &= \\frac{-n_0 \\Delta y_{10}  + n_1 \\Delta x_{10}}{\\mathrm{det}(J(x, y))}.\n",
    "\\end{align}\n",
    "\n",
    "Now using $\\tilde{L}_0 = \\frac{L_0}{L_0 + L_1}$ we get\n",
    "\n",
    "$$\n",
    "\\vec{n} \\cdot \\nabla T = T_i (\\tilde{L}_0 C_{0, i} + \\tilde{L}_1 C_{1, i}) + T_{0, i + 1} \\tilde{L}_0 C_{0, i + 1} + T_{0, i + 2} \\tilde{L}_0 C_{0, i + 2} + T_{1, i + 1} \\tilde{L}_1 C_{1, i + 1} + T_{1, i + 2} \\tilde{L}_1 C_{1, i + 2}.\n",
    "$$"
   ]
  },
  {
   "cell_type": "code",
   "execution_count": 2,
   "id": "f2c52f23-b666-4249-9ed4-f920aedd2503",
   "metadata": {},
   "outputs": [],
   "source": [
    "a0, a1, b = symbols(\"a_0 a_1 b\", real=True)\n",
    "x_i, y_i = symbols(\"x_i y_i\", real=True)\n",
    "x_ip, y_ip= symbols(\"x_{i+1} y_{i+1}\", real=True)\n",
    "x_ipp, y_ipp= symbols(\"x_{i+2} y_{i+2}\", real=True)\n",
    "x, y = symbols(\"x y\", real=True)\n",
    "xi, eta = symbols(\"xi eta\")"
   ]
  },
  {
   "cell_type": "code",
   "execution_count": 3,
   "id": "9af25c57-3a06-416b-90a2-5ec3fb14d550",
   "metadata": {},
   "outputs": [
    {
     "data": {
      "image/png": "[encoded data removed]",
      "text/latex": [
       "$\\displaystyle x_{i} \\left(y_{i+1} - y_{i+2}\\right) + x_{i+1} \\left(- y_{i} + y_{i+2}\\right) + x_{i+2} \\left(y_{i} - y_{i+1}\\right)$"
      ],
      "text/plain": [
       "xᵢ⋅(y_{i+1} - y_{i+2}) + x_{i+1}⋅(-yᵢ + y_{i+2}) + x_{i+2}⋅(yᵢ - y_{i+1})"
      ]
     },
     "execution_count": 3,
     "metadata": {},
     "output_type": "execute_result"
    }
   ],
   "source": [
    "J = Matrix([[x_ip - x_i, x_ipp - x_i], [y_ip - y_i, y_ipp - y_i]])\n",
    "det_J = factor(J.det(), (x_i, x_ip, x_ipp))\n",
    "det_J"
   ]
  },
  {
   "cell_type": "code",
   "execution_count": 4,
   "id": "1517e189-6615-41fb-925c-12facfd58730",
   "metadata": {},
   "outputs": [],
   "source": [
    "phi_i = -xi - eta - 1\n",
    "phi_ip = xi\n",
    "phi_ipp = eta"
   ]
  },
  {
   "cell_type": "code",
   "execution_count": 5,
   "id": "e128598a-d4a4-4f3d-bc8b-a95db929bd05",
   "metadata": {},
   "outputs": [],
   "source": [
    "f_xi = (Matrix([[y_ipp - y_i, -(x_ipp - x_i)], [-(y_ip - y_i), x_ipp - x_i]]) * Matrix([x - x_i, y - y_i])/det_J)[0]\n",
    "f_eta = (Matrix([[y_ipp - y_i, -(x_ipp - x_i)], [-(y_ip - y_i), x_ipp - x_i]]) * Matrix([x - x_i, y - y_i])/det_J)[1]"
   ]
  },
  {
   "cell_type": "code",
   "execution_count": 6,
   "id": "595d07cd-4a0d-4b6e-974c-ff3850a24665",
   "metadata": {},
   "outputs": [
    {
     "data": {
      "image/png": "[encoded data removed]",
      "text/latex": [
       "$\\displaystyle \\frac{\\left(x - x_{i}\\right) \\left(- y_{i} + y_{i+2}\\right) + \\left(x_{i} - x_{i+2}\\right) \\left(y - y_{i}\\right)}{x_{i} \\left(y_{i+1} - y_{i+2}\\right) + x_{i+1} \\left(- y_{i} + y_{i+2}\\right) + x_{i+2} \\left(y_{i} - y_{i+1}\\right)}$"
      ],
      "text/plain": [
       "            (x - xᵢ)⋅(-yᵢ + y_{i+2}) + (xᵢ - x_{i+2})⋅(y - yᵢ)           \n",
       "─────────────────────────────────────────────────────────────────────────\n",
       "xᵢ⋅(y_{i+1} - y_{i+2}) + x_{i+1}⋅(-yᵢ + y_{i+2}) + x_{i+2}⋅(yᵢ - y_{i+1})"
      ]
     },
     "execution_count": 6,
     "metadata": {},
     "output_type": "execute_result"
    }
   ],
   "source": [
    "f_xi"
   ]
  },
  {
   "cell_type": "code",
   "execution_count": 7,
   "id": "751822bd-accc-45d8-8a4f-263abab7060f",
   "metadata": {},
   "outputs": [
    {
     "data": {
      "image/png": "[encoded data removed]",
      "text/latex": [
       "$\\displaystyle \\frac{\\left(x - x_{i}\\right) \\left(y_{i} - y_{i+1}\\right) + \\left(- x_{i} + x_{i+2}\\right) \\left(y - y_{i}\\right)}{x_{i} \\left(y_{i+1} - y_{i+2}\\right) + x_{i+1} \\left(- y_{i} + y_{i+2}\\right) + x_{i+2} \\left(y_{i} - y_{i+1}\\right)}$"
      ],
      "text/plain": [
       "            (x - xᵢ)⋅(yᵢ - y_{i+1}) + (-xᵢ + x_{i+2})⋅(y - yᵢ)           \n",
       "─────────────────────────────────────────────────────────────────────────\n",
       "xᵢ⋅(y_{i+1} - y_{i+2}) + x_{i+1}⋅(-yᵢ + y_{i+2}) + x_{i+2}⋅(yᵢ - y_{i+1})"
      ]
     },
     "execution_count": 7,
     "metadata": {},
     "output_type": "execute_result"
    }
   ],
   "source": [
    "f_eta"
   ]
  },
  {
   "cell_type": "code",
   "execution_count": 8,
   "id": "36ff49e9-08a5-4037-83a0-39265899a062",
   "metadata": {},
   "outputs": [
    {
     "data": {
      "image/png": "[encoded data removed]",
      "text/latex": [
       "$\\displaystyle \\frac{- y_{i} + y_{i+2}}{x_{i} \\left(y_{i+1} - y_{i+2}\\right) + x_{i+1} \\left(- y_{i} + y_{i+2}\\right) + x_{i+2} \\left(y_{i} - y_{i+1}\\right)}$"
      ],
      "text/plain": [
       "                              -yᵢ + y_{i+2}                              \n",
       "─────────────────────────────────────────────────────────────────────────\n",
       "xᵢ⋅(y_{i+1} - y_{i+2}) + x_{i+1}⋅(-yᵢ + y_{i+2}) + x_{i+2}⋅(yᵢ - y_{i+1})"
      ]
     },
     "execution_count": 8,
     "metadata": {},
     "output_type": "execute_result"
    }
   ],
   "source": [
    "dxi_dx = diff(f_xi, x)\n",
    "dxi_dx"
   ]
  },
  {
   "cell_type": "code",
   "execution_count": 9,
   "id": "91d5e8a0-d593-401f-a9a8-2c37e702df67",
   "metadata": {},
   "outputs": [
    {
     "data": {
      "image/png": "[encoded data removed]",
      "text/latex": [
       "$\\displaystyle \\frac{x_{i} - x_{i+2}}{x_{i} \\left(y_{i+1} - y_{i+2}\\right) + x_{i+1} \\left(- y_{i} + y_{i+2}\\right) + x_{i+2} \\left(y_{i} - y_{i+1}\\right)}$"
      ],
      "text/plain": [
       "                               xᵢ - x_{i+2}                              \n",
       "─────────────────────────────────────────────────────────────────────────\n",
       "xᵢ⋅(y_{i+1} - y_{i+2}) + x_{i+1}⋅(-yᵢ + y_{i+2}) + x_{i+2}⋅(yᵢ - y_{i+1})"
      ]
     },
     "execution_count": 9,
     "metadata": {},
     "output_type": "execute_result"
    }
   ],
   "source": [
    "dxi_dy = diff(f_xi, y)\n",
    "dxi_dy"
   ]
  },
  {
   "cell_type": "code",
   "execution_count": 10,
   "id": "74a980c9-7fae-4f6d-8dfb-8f362d2fbdd1",
   "metadata": {},
   "outputs": [
    {
     "data": {
      "image/png": "[encoded data removed]",
      "text/latex": [
       "$\\displaystyle \\frac{y_{i} - y_{i+1}}{x_{i} \\left(y_{i+1} - y_{i+2}\\right) + x_{i+1} \\left(- y_{i} + y_{i+2}\\right) + x_{i+2} \\left(y_{i} - y_{i+1}\\right)}$"
      ],
      "text/plain": [
       "                               yᵢ - y_{i+1}                              \n",
       "─────────────────────────────────────────────────────────────────────────\n",
       "xᵢ⋅(y_{i+1} - y_{i+2}) + x_{i+1}⋅(-yᵢ + y_{i+2}) + x_{i+2}⋅(yᵢ - y_{i+1})"
      ]
     },
     "execution_count": 10,
     "metadata": {},
     "output_type": "execute_result"
    }
   ],
   "source": [
    "deta_dx = diff(f_eta, x)\n",
    "deta_dx"
   ]
  },
  {
   "cell_type": "code",
   "execution_count": 11,
   "id": "161466a8-6b3d-4aeb-b9c2-39c07a0c1a71",
   "metadata": {},
   "outputs": [
    {
     "data": {
      "image/png": "[encoded data removed]",
      "text/latex": [
       "$\\displaystyle \\frac{- x_{i} + x_{i+2}}{x_{i} \\left(y_{i+1} - y_{i+2}\\right) + x_{i+1} \\left(- y_{i} + y_{i+2}\\right) + x_{i+2} \\left(y_{i} - y_{i+1}\\right)}$"
      ],
      "text/plain": [
       "                              -xᵢ + x_{i+2}                              \n",
       "─────────────────────────────────────────────────────────────────────────\n",
       "xᵢ⋅(y_{i+1} - y_{i+2}) + x_{i+1}⋅(-yᵢ + y_{i+2}) + x_{i+2}⋅(yᵢ - y_{i+1})"
      ]
     },
     "execution_count": 11,
     "metadata": {},
     "output_type": "execute_result"
    }
   ],
   "source": [
    "deta_dy = diff(f_eta, y)\n",
    "deta_dy"
   ]
  },
  {
   "cell_type": "code",
   "execution_count": 12,
   "id": "2e644d57-5c32-4cc5-98af-9233fadf8b21",
   "metadata": {},
   "outputs": [],
   "source": [
    "diff_phi_i_dx = diff(phi_i, xi)*dxi_dx + diff(phi_i, eta)*deta_dx\n",
    "diff_phi_i_dy = diff(phi_i, xi)*deta_dy + diff(phi_i, eta)*deta_dy\n",
    "\n",
    "diff_phi_ip_dx = diff(phi_ip, xi)*dxi_dx + diff(phi_ip, eta)*deta_dx\n",
    "diff_phi_ip_dy = diff(phi_ip, xi)*deta_dy + diff(phi_ip, eta)*deta_dy\n",
    "\n",
    "diff_phi_ipp_dx = diff(phi_ipp, xi)*dxi_dx + diff(phi_ipp, eta)*deta_dx\n",
    "diff_phi_ipp_dy = diff(phi_ipp, xi)*deta_dy + diff(phi_ipp, eta)*deta_dy"
   ]
  },
  {
   "cell_type": "code",
   "execution_count": 13,
   "id": "911eeec2-90fe-4508-b38c-49ff77442782",
   "metadata": {},
   "outputs": [],
   "source": [
    "int_ii = integrate(integrate(1, (xi, 0, 1 - eta)), (eta, 0, 1))\n",
    "#factor(int_ii, (x_i, x_ip, x_ipp))"
   ]
  },
  {
   "cell_type": "code",
   "execution_count": 14,
   "id": "72c34a24-b90a-48f8-8bb3-8bdc03271ba3",
   "metadata": {},
   "outputs": [
    {
     "data": {
      "image/png": "[encoded data removed]",
      "text/latex": [
       "$\\displaystyle \\frac{1}{2}$"
      ],
      "text/plain": [
       "1/2"
      ]
     },
     "execution_count": 14,
     "metadata": {},
     "output_type": "execute_result"
    }
   ],
   "source": [
    "int_ii"
   ]
  },
  {
   "cell_type": "code",
   "execution_count": 15,
   "id": "6c39c5ab-452d-45a3-825d-cb4e48fd9b0b",
   "metadata": {},
   "outputs": [
    {
     "name": "stdout",
     "output_type": "stream",
     "text": [
      "dy_{10}/6 + dy_{20}/6 + y_i/2\n"
     ]
    }
   ],
   "source": [
    "y_i, dy10, dy20, xi, eta = symbols(\"y_i dy_{10} dy_{20} xi eta\")\n",
    "r = y_i + xi*dy10 + eta*dy20\n",
    "print(integrate(integrate(r, (xi, 0, 1 - eta)), (eta, 0, 1)))"
   ]
  },
  {
   "cell_type": "code",
   "execution_count": 16,
   "id": "7f2f3854-61c0-4750-8518-9f190ba77a0d",
   "metadata": {},
   "outputs": [
    {
     "data": {
      "image/png": "[encoded data removed]",
      "text/latex": [
       "$\\displaystyle dy_{10} \\xi + dy_{20} \\eta + y_{i}$"
      ],
      "text/plain": [
       "dy_{10}⋅ξ + dy_{20}⋅η + yᵢ"
      ]
     },
     "execution_count": 16,
     "metadata": {},
     "output_type": "execute_result"
    }
   ],
   "source": [
    "r"
   ]
  },
  {
   "cell_type": "code",
   "execution_count": null,
   "id": "30d8514a-f0ec-4cbb-ad26-9ff139c71d4f",
   "metadata": {},
   "outputs": [],
   "source": []
  }
 ],
 "metadata": {
  "kernelspec": {
   "display_name": "Python 3 (ipykernel)",
   "language": "python",
   "name": "python3"
  },
  "language_info": {
   "codemirror_mode": {
    "name": "ipython",
    "version": 3
   },
   "file_extension": ".py",
   "mimetype": "text/x-python",
   "name": "python",
   "nbconvert_exporter": "python",
   "pygments_lexer": "ipython3",
   "version": "3.10.12"
  }
 },
 "nbformat": 4,
 "nbformat_minor": 5
}
