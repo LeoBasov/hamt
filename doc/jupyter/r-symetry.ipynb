{
 "cells": [
  {
   "cell_type": "code",
   "execution_count": 1,
   "id": "34c80e0b-ddb8-4398-a401-61c640d18472",
   "metadata": {},
   "outputs": [],
   "source": [
    "from sympy import *\n",
    "from sympy.vector import CoordSys3D\n",
    "import numpy as np"
   ]
  },
  {
   "cell_type": "markdown",
   "id": "6795733a-3106-4708-9a27-1f7c646148f8",
   "metadata": {},
   "source": [
    "Gaus rule\n",
    "\n",
    "$$\n",
    "\\iiint_V \\nabla f \\, \\mathrm{d}V= \\oint_S f\\, \\vec{n} \\,\\mathrm{d}S\n",
    "$$\n",
    "\n",
    "Assuming a polygon with an $N$ number of edges rotating around the y-axis we can define a parametrized curve\n",
    "\n",
    "$$\n",
    "\\oint_S f\\, \\vec{n} \\,\\mathrm{d}S = \\sum^N_e \\int_s \\int_t f(\\vec{r}_e(s, t))\\, \\vec{n}_e \\left| \\frac{\\partial \\vec{r}_e}{\\partial s} \\times \\frac{\\partial \\vec{r}_e}{\\partial t}\\right| \\, \\mathrm{d}s\\mathrm{d}t\n",
    "$$\n",
    "\n",
    "where $s \\in [0, 1]$ and $t \\in [0, 2 \\pi)$.\n",
    "We can write\n",
    "\n",
    "$$\n",
    "\\vec{r}_e(s, t) = \n",
    "\\begin{pmatrix}\n",
    "\\cos(t) \\big[v_x(e, 0) + s\\big\\{v_x(e, 1) - v_x(e, 0)\\big\\} \\big] \\\\\n",
    "v_y(e, 0) + s\\big\\{v_y(e, 1) - v_y(e, 0)\\big\\}  \\\\\n",
    "\\sin(t) \\big[v_x(e, 0) + s\\big\\{v_x(e, 1) - v_x(e, 0)\\big\\} \\big]\n",
    "\\end{pmatrix}\n",
    "=\n",
    "\\begin{pmatrix}\n",
    "\\cos(t) \\big[v_x(e, 0) + s \\Delta X_e \\big] \\\\\n",
    "v_y(e, 0) + s \\Delta Y_e \\\\\n",
    "\\sin(t) \\big[v_x(e, 0) + s \\Delta X_e \\big]\n",
    "\\end{pmatrix}\n",
    "$$\n",
    "\n",
    "and so we get\n",
    "\n",
    "$$\n",
    "\\frac{\\partial \\vec{r}_e}{\\partial s} = \n",
    "\\begin{pmatrix}\n",
    "\\cos(t)\\Delta X_e\\\\\n",
    "\\Delta Y_e  \\\\\n",
    "\\sin(t)\\Delta X_e\n",
    "\\end{pmatrix}\n",
    "$$\n",
    "\n",
    "and\n",
    "\n",
    "$$\n",
    "\\frac{\\partial \\vec{r}_e}{\\partial t} = \n",
    "\\begin{pmatrix}\n",
    "-\\sin(t) \\big[v_x(e, 0) + s\\Delta X_e\\big] \\\\\n",
    "0  \\\\\n",
    "\\cos(t) \\big[v_x(e, 0) + s\\Delta X_e\\big]\n",
    "\\end{pmatrix}\n",
    "$$\n",
    "\n",
    "Here $v_x(e, 1)$ is the $x$th componentn of the vertix $1$ of edge $e$."
   ]
  },
  {
   "cell_type": "code",
   "execution_count": 2,
   "id": "05ecd2d6-a0fd-4108-8fd3-d5557fd102bd",
   "metadata": {},
   "outputs": [],
   "source": [
    "N = CoordSys3D('N')\n",
    "v_x0, v_y0= symbols(\"v_x0 v_y0\", real=True, positive=True)\n",
    "s, t, L, n = symbols(\"s t L n\", real=True, positive=True)\n",
    "dx, dy, f0, f1  = symbols(\"dx dy f_0 f_1\", real=True)"
   ]
  },
  {
   "cell_type": "code",
   "execution_count": 3,
   "id": "c6553f96-abbf-46bf-ae1e-3d71b4d786ca",
   "metadata": {},
   "outputs": [],
   "source": [
    "dr_ds = cos(t)*dx*N.i + dy*N.j + sin(t)*dx*N.k\n",
    "dr_dt = -sin(t)*(v_x0 + s*dx)*N.i + 0*N.j + cos(t)*(v_x0 + s*dx)*N.k"
   ]
  },
  {
   "cell_type": "code",
   "execution_count": 4,
   "id": "ad4253dd-38e3-47af-81de-d08097b55865",
   "metadata": {},
   "outputs": [
    {
     "data": {
      "text/latex": [
       "$\\displaystyle (dx \\cos{\\left(t \\right)})\\mathbf{\\hat{i}_{N}} + (dy)\\mathbf{\\hat{j}_{N}} + (dx \\sin{\\left(t \\right)})\\mathbf{\\hat{k}_{N}}$"
      ],
      "text/plain": [
       "(dx*cos(t))*N.i + dy*N.j + (dx*sin(t))*N.k"
      ]
     },
     "execution_count": 4,
     "metadata": {},
     "output_type": "execute_result"
    }
   ],
   "source": [
    "dr_ds"
   ]
  },
  {
   "cell_type": "code",
   "execution_count": 5,
   "id": "9a195f60-8b80-4a82-99d3-ac49dda3aecc",
   "metadata": {},
   "outputs": [
    {
     "data": {
      "text/latex": [
       "$\\displaystyle (- \\left(dx s + v_{x0}\\right) \\sin{\\left(t \\right)})\\mathbf{\\hat{i}_{N}} + (\\left(dx s + v_{x0}\\right) \\cos{\\left(t \\right)})\\mathbf{\\hat{k}_{N}}$"
      ],
      "text/plain": [
       "(-(dx*s + v_x0)*sin(t))*N.i + ((dx*s + v_x0)*cos(t))*N.k"
      ]
     },
     "execution_count": 5,
     "metadata": {},
     "output_type": "execute_result"
    }
   ],
   "source": [
    "dr_dt"
   ]
  },
  {
   "cell_type": "code",
   "execution_count": 6,
   "id": "21c1972f-ad98-4eb2-9c8c-1f20869e15c1",
   "metadata": {},
   "outputs": [],
   "source": [
    "cr = dr_ds.cross(dr_dt).simplify()\n",
    "cr_dot = cr.dot(cr).simplify()"
   ]
  },
  {
   "cell_type": "code",
   "execution_count": 7,
   "id": "3ef14e6c-b627-4760-b7fc-8e255ae87bf0",
   "metadata": {},
   "outputs": [
    {
     "data": {
      "text/latex": [
       "$\\displaystyle \\left(dx^{2} + dy^{2}\\right) \\left(dx s + v_{x0}\\right)^{2}$"
      ],
      "text/plain": [
       "(dx**2 + dy**2)*(dx*s + v_x0)**2"
      ]
     },
     "execution_count": 7,
     "metadata": {},
     "output_type": "execute_result"
    }
   ],
   "source": [
    "cr_dot"
   ]
  },
  {
   "cell_type": "code",
   "execution_count": 8,
   "id": "e7ad3b09-3dbe-47cc-a4cd-6486e6925477",
   "metadata": {},
   "outputs": [
    {
     "data": {
      "text/latex": [
       "$\\displaystyle L^{2} \\left(dx s + v_{x0}\\right)^{2}$"
      ],
      "text/plain": [
       "L**2*(dx*s + v_x0)**2"
      ]
     },
     "execution_count": 8,
     "metadata": {},
     "output_type": "execute_result"
    }
   ],
   "source": [
    "cr_dot.subs((dx**2 + dy**2), L**2)"
   ]
  },
  {
   "cell_type": "code",
   "execution_count": 9,
   "id": "ca1e5a87-d4b9-4342-a01c-2745b052f00d",
   "metadata": {},
   "outputs": [],
   "source": [
    "cr_dot = cr_dot.subs((dx**2 + dy**2), L**2)"
   ]
  },
  {
   "cell_type": "code",
   "execution_count": 10,
   "id": "9a78aee0-a6f8-4cb9-bde7-5a5f83e4ba6a",
   "metadata": {},
   "outputs": [],
   "source": [
    "cr_norm = sqrt(cr_dot)"
   ]
  },
  {
   "cell_type": "code",
   "execution_count": 11,
   "id": "d205dbb0-9fa5-4267-a29b-b61a3a552598",
   "metadata": {},
   "outputs": [
    {
     "data": {
      "text/latex": [
       "$\\displaystyle L \\left|{dx s + v_{x0}}\\right|$"
      ],
      "text/plain": [
       "L*Abs(dx*s + v_x0)"
      ]
     },
     "execution_count": 11,
     "metadata": {},
     "output_type": "execute_result"
    }
   ],
   "source": [
    "cr_norm"
   ]
  },
  {
   "cell_type": "code",
   "execution_count": 12,
   "id": "1aeedaab-46f2-4b31-800c-c884cf8fe41b",
   "metadata": {},
   "outputs": [
    {
     "data": {
      "text/latex": [
       "$\\displaystyle \\begin{cases} \\pi L \\left(dx + 2 v_{x0}\\right) & \\text{for}\\: dx s + v_{x0} \\geq 0 \\\\- \\pi L \\left(dx + 2 v_{x0}\\right) & \\text{otherwise} \\end{cases}$"
      ],
      "text/plain": [
       "Piecewise((pi*L*(dx + 2*v_x0), dx*s + v_x0 >= 0), (-pi*L*(dx + 2*v_x0), True))"
      ]
     },
     "execution_count": 12,
     "metadata": {},
     "output_type": "execute_result"
    }
   ],
   "source": [
    "integrate(integrate(cr_norm, (s, 0, 1)), (t, 0, 2*pi)).simplify()"
   ]
  },
  {
   "cell_type": "markdown",
   "id": "bf42c6e1-2405-4160-8964-f79c929ddf25",
   "metadata": {},
   "source": [
    "We can write\n",
    "\n",
    "$$\n",
    "f(\\vec{r}_e(s, t)) = f(e, 0) + s \\cdot (f(e, 1) - f(e, 0))\n",
    "$$\n",
    "\n",
    "and thus\n",
    "\n",
    "$$\n",
    "\\vec{n}_e L_e \\oint \\big[ f(e, 0) + s \\cdot (f(e, 1) - f(e, 0)) \\big]\\, \\big| s \\cdot \\Delta X_e + v(e, 0) \\big| \\mathrm{d}s \\mathrm{d}t\n",
    "$$"
   ]
  },
  {
   "cell_type": "markdown",
   "id": "c671b110-1936-4e52-83b5-b3f990ced4bb",
   "metadata": {},
   "source": [
    "Since $s \\cdot \\Delta X_e + v_x(e, 0)$ is alway $>0$ we ca write\n",
    "\n"
   ]
  },
  {
   "cell_type": "code",
   "execution_count": 13,
   "id": "a411cbed-0fac-4293-a02b-ad54b6cfe1a0",
   "metadata": {},
   "outputs": [],
   "source": [
    "expr = n*L * (f0 + s*(f1 - f0))*(s*dx + v_x0)"
   ]
  },
  {
   "cell_type": "code",
   "execution_count": 14,
   "id": "60d41bca-0204-4062-a929-bed079a4efd7",
   "metadata": {},
   "outputs": [
    {
     "data": {
      "text/latex": [
       "$\\displaystyle L n \\left(f_{0} + s \\left(- f_{0} + f_{1}\\right)\\right) \\left(dx s + v_{x0}\\right)$"
      ],
      "text/plain": [
       "L*n*(f_0 + s*(-f_0 + f_1))*(dx*s + v_x0)"
      ]
     },
     "execution_count": 14,
     "metadata": {},
     "output_type": "execute_result"
    }
   ],
   "source": [
    "expr"
   ]
  },
  {
   "cell_type": "code",
   "execution_count": 15,
   "id": "93f45c7d-6d9b-4ef9-a077-b3b3404be190",
   "metadata": {},
   "outputs": [],
   "source": [
    "res = integrate(integrate(expr, (s, 0, 1)), (t, 0, 2*pi)).simplify()"
   ]
  },
  {
   "cell_type": "code",
   "execution_count": 16,
   "id": "48ee02ca-fa41-4892-a2ac-005d511124d1",
   "metadata": {},
   "outputs": [
    {
     "name": "stdout",
     "output_type": "stream",
     "text": [
      "\\frac{\\pi L n \\left(dx f_{0} + 2 dx f_{1} + 3 f_{0} v_{x0} + 3 f_{1} v_{x0}\\right)}{3}\n"
     ]
    }
   ],
   "source": [
    "print(latex(res))"
   ]
  },
  {
   "cell_type": "markdown",
   "id": "048b5c5f-8909-4364-a296-6a2ba193280e",
   "metadata": {},
   "source": [
    "We get\n",
    "\n",
    "$$\n",
    "\\frac{\\pi L n \\left(dx f_{0} + 2 dx f_{1} + 3 f_{0} v_{x0} + 3 f_{1} v_{x0}\\right)}{3}\n",
    "$$\n",
    "\n",
    "$$\n",
    "\\sum^N_e \\int_s \\int_t f(\\vec{r}_e(s, t))\\, \\vec{n}_e \\left| \\frac{\\partial \\vec{r}_e}{\\partial s} \\times \\frac{\\partial \\vec{r}_e}{\\partial t}\\right| \\, \\mathrm{d}s\\mathrm{d}t = \\sum_e \\frac{1}{3} L_e \\vec{n}_e \\bigg(f_0 \\big[\\Delta X_e + 3  v_x(e, 0)\\big] + f_1 \\big[3 v_{x}(e, 0) + 2 \\Delta X_e \\big] \\bigg)\n",
    "$$\n",
    "\n",
    "which is\n",
    "\n",
    "$$\n",
    "\\sum^N_e \\int_s \\int_t f(\\vec{r}_e(s, t))\\, \\vec{n}_e \\left| \\frac{\\partial \\vec{r}_e}{\\partial s} \\times \\frac{\\partial \\vec{r}_e}{\\partial t}\\right| \\, \\mathrm{d}s\\mathrm{d}t = \\frac{1}{3} \\sum_e  L_e \\vec{n}_e \\bigg(f_0 \\big[2\\,v_x(e, 0) + v_x(e, 1)\\big] + f_1 \\big[v_x(e, 0) + 2\\,v_{x}(e, 1)\\big] \\bigg)\n",
    "$$"
   ]
  },
  {
   "cell_type": "code",
   "execution_count": null,
   "id": "6fdb0e4d-bf62-42f4-ba36-9cd5e0b1f5e2",
   "metadata": {},
   "outputs": [],
   "source": []
  }
 ],
 "metadata": {
  "kernelspec": {
   "display_name": "Python 3 (ipykernel)",
   "language": "python",
   "name": "python3"
  },
  "language_info": {
   "codemirror_mode": {
    "name": "ipython",
    "version": 3
   },
   "file_extension": ".py",
   "mimetype": "text/x-python",
   "name": "python",
   "nbconvert_exporter": "python",
   "pygments_lexer": "ipython3",
   "version": "3.10.6"
  }
 },
 "nbformat": 4,
 "nbformat_minor": 5
}
