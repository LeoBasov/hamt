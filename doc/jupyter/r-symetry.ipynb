{
 "cells": [
  {
   "cell_type": "code",
   "execution_count": 1,
   "id": "34c80e0b-ddb8-4398-a401-61c640d18472",
   "metadata": {},
   "outputs": [],
   "source": [
    "from sympy import *\n",
    "from sympy.vector import CoordSys3D\n",
    "import numpy as np"
   ]
  },
  {
   "cell_type": "markdown",
   "id": "6795733a-3106-4708-9a27-1f7c646148f8",
   "metadata": {},
   "source": [
    "Gaus rule\n",
    "\n",
    "$$\n",
    "\\iiint_V \\nabla f \\, \\mathrm{d}V= \\oint_S f\\, \\vec{n} \\,\\mathrm{d}S\n",
    "$$\n",
    "\n",
    "Assuming a polygon with an $N$ number of edges rotating around the y-axis we can define a parametrized curve\n",
    "\n",
    "$$\n",
    "\\oint_S f\\, \\vec{n} \\,\\mathrm{d}S = \\sum^N_e \\int_s \\int_t f(\\vec{r}_e(s, t))\\, \\vec{n}_e \\left| \\frac{\\partial \\vec{r}_e}{\\partial s} \\times \\frac{\\partial \\vec{r}_e}{\\partial t}\\right| \\, \\mathrm{d}s\\mathrm{d}t = \\sum^N_e \\int_s \\int_t f(\\vec{r}_e(s, t))\\left(\\frac{\\partial \\vec{r}_e}{\\partial s} \\times \\frac{\\partial \\vec{r}_e}{\\partial t}\\right) \\, \\mathrm{d}s\\mathrm{d}t\n",
    "$$\n",
    "\n",
    "where $s \\in [0, 1]$ and $t \\in [0, 2 \\pi)$.\n",
    "We can write\n",
    "\n",
    "$$\n",
    "\\vec{r}_e(s, t) = \n",
    "\\begin{pmatrix}\n",
    "\\cos(t) \\big[v_x(e, 0) + s\\big\\{v_x(e, 1) - v_x(e, 0)\\big\\} \\big] \\\\\n",
    "v_y(e, 0) + s\\big\\{v_y(e, 1) - v_y(e, 0)\\big\\}  \\\\\n",
    "\\sin(t) \\big[v_x(e, 0) + s\\big\\{v_x(e, 1) - v_x(e, 0)\\big\\} \\big]\n",
    "\\end{pmatrix}\n",
    "=\n",
    "\\begin{pmatrix}\n",
    "\\cos(t) \\big[v_x(e, 0) + s \\Delta X_e \\big] \\\\\n",
    "v_y(e, 0) + s \\Delta Y_e \\\\\n",
    "\\sin(t) \\big[v_x(e, 0) + s \\Delta X_e \\big]\n",
    "\\end{pmatrix}\n",
    "$$\n",
    "\n",
    "and so we get\n",
    "\n",
    "$$\n",
    "\\frac{\\partial \\vec{r}_e}{\\partial s} = \n",
    "\\begin{pmatrix}\n",
    "\\cos(t)\\Delta X_e\\\\\n",
    "\\Delta Y_e  \\\\\n",
    "\\sin(t)\\Delta X_e\n",
    "\\end{pmatrix}\n",
    "$$\n",
    "\n",
    "and\n",
    "\n",
    "$$\n",
    "\\frac{\\partial \\vec{r}_e}{\\partial t} = \n",
    "\\begin{pmatrix}\n",
    "-\\sin(t) \\big[v_x(e, 0) + s\\Delta X_e\\big] \\\\\n",
    "0  \\\\\n",
    "\\cos(t) \\big[v_x(e, 0) + s\\Delta X_e\\big]\n",
    "\\end{pmatrix}\n",
    "$$\n",
    "\n",
    "Here $v_x(e, 1)$ is the $x$th componentn of the vertix $1$ of edge $e$."
   ]
  },
  {
   "cell_type": "code",
   "execution_count": 2,
   "id": "05ecd2d6-a0fd-4108-8fd3-d5557fd102bd",
   "metadata": {},
   "outputs": [],
   "source": [
    "N = CoordSys3D('N')\n",
    "v_x0, v_y0= symbols(\"v_x0 v_y0\", real=True, positive=True)\n",
    "s, t, L, n = symbols(\"s t L n\", real=True, positive=True)\n",
    "dx, dy, f0, f1  = symbols(\"dx dy f_0 f_1\", real=True)"
   ]
  },
  {
   "cell_type": "code",
   "execution_count": 3,
   "id": "c6553f96-abbf-46bf-ae1e-3d71b4d786ca",
   "metadata": {},
   "outputs": [],
   "source": [
    "dr_ds = cos(t)*dx*N.i + dy*N.j + sin(t)*dx*N.k\n",
    "dr_dt = -sin(t)*(v_x0 + s*dx)*N.i + 0*N.j + cos(t)*(v_x0 + s*dx)*N.k"
   ]
  },
  {
   "cell_type": "code",
   "execution_count": 4,
   "id": "ad4253dd-38e3-47af-81de-d08097b55865",
   "metadata": {},
   "outputs": [
    {
     "data": {
      "text/latex": [
       "$\\displaystyle (dx \\cos{\\left(t \\right)})\\mathbf{\\hat{i}_{N}} + (dy)\\mathbf{\\hat{j}_{N}} + (dx \\sin{\\left(t \\right)})\\mathbf{\\hat{k}_{N}}$"
      ],
      "text/plain": [
       "(dx*cos(t))*N.i + dy*N.j + (dx*sin(t))*N.k"
      ]
     },
     "execution_count": 4,
     "metadata": {},
     "output_type": "execute_result"
    }
   ],
   "source": [
    "dr_ds"
   ]
  },
  {
   "cell_type": "code",
   "execution_count": 5,
   "id": "9a195f60-8b80-4a82-99d3-ac49dda3aecc",
   "metadata": {},
   "outputs": [
    {
     "data": {
      "text/latex": [
       "$\\displaystyle (- \\left(dx s + v_{x0}\\right) \\sin{\\left(t \\right)})\\mathbf{\\hat{i}_{N}} + (\\left(dx s + v_{x0}\\right) \\cos{\\left(t \\right)})\\mathbf{\\hat{k}_{N}}$"
      ],
      "text/plain": [
       "(-(dx*s + v_x0)*sin(t))*N.i + ((dx*s + v_x0)*cos(t))*N.k"
      ]
     },
     "execution_count": 5,
     "metadata": {},
     "output_type": "execute_result"
    }
   ],
   "source": [
    "dr_dt"
   ]
  },
  {
   "cell_type": "code",
   "execution_count": 6,
   "id": "21c1972f-ad98-4eb2-9c8c-1f20869e15c1",
   "metadata": {},
   "outputs": [],
   "source": [
    "cr = dr_ds.cross(dr_dt).simplify()\n",
    "cr_dot = cr.dot(cr).simplify()"
   ]
  },
  {
   "cell_type": "code",
   "execution_count": 18,
   "id": "9f18fa98-0120-425b-9b09-669317403504",
   "metadata": {},
   "outputs": [
    {
     "data": {
      "text/latex": [
       "$\\displaystyle (dy \\left(dx s + v_{x0}\\right) \\cos{\\left(t \\right)})\\mathbf{\\hat{i}_{N}} + (- dx \\left(dx s + v_{x0}\\right))\\mathbf{\\hat{j}_{N}} + (dy \\left(dx s + v_{x0}\\right) \\sin{\\left(t \\right)})\\mathbf{\\hat{k}_{N}}$"
      ],
      "text/plain": [
       "(dy*(dx*s + v_x0)*cos(t))*N.i + (-dx*(dx*s + v_x0))*N.j + (dy*(dx*s + v_x0)*sin(t))*N.k"
      ]
     },
     "execution_count": 18,
     "metadata": {},
     "output_type": "execute_result"
    }
   ],
   "source": [
    "cr"
   ]
  },
  {
   "cell_type": "code",
   "execution_count": 19,
   "id": "bb18c943-8ea9-4e6a-8262-b33d3d0758a8",
   "metadata": {},
   "outputs": [
    {
     "name": "stdout",
     "output_type": "stream",
     "text": [
      "(dy*(dx*s + v_x0)*cos(t))*N.i + (-dx*(dx*s + v_x0))*N.j + (dy*(dx*s + v_x0)*sin(t))*N.k\n"
     ]
    }
   ],
   "source": [
    "print(cr)"
   ]
  },
  {
   "cell_type": "code",
   "execution_count": 7,
   "id": "3ef14e6c-b627-4760-b7fc-8e255ae87bf0",
   "metadata": {},
   "outputs": [
    {
     "data": {
      "text/latex": [
       "$\\displaystyle \\left(dx^{2} + dy^{2}\\right) \\left(dx s + v_{x0}\\right)^{2}$"
      ],
      "text/plain": [
       "(dx**2 + dy**2)*(dx*s + v_x0)**2"
      ]
     },
     "execution_count": 7,
     "metadata": {},
     "output_type": "execute_result"
    }
   ],
   "source": [
    "cr_dot"
   ]
  },
  {
   "cell_type": "code",
   "execution_count": 8,
   "id": "e7ad3b09-3dbe-47cc-a4cd-6486e6925477",
   "metadata": {},
   "outputs": [
    {
     "data": {
      "text/latex": [
       "$\\displaystyle L^{2} \\left(dx s + v_{x0}\\right)^{2}$"
      ],
      "text/plain": [
       "L**2*(dx*s + v_x0)**2"
      ]
     },
     "execution_count": 8,
     "metadata": {},
     "output_type": "execute_result"
    }
   ],
   "source": [
    "cr_dot.subs((dx**2 + dy**2), L**2)"
   ]
  },
  {
   "cell_type": "code",
   "execution_count": 9,
   "id": "ca1e5a87-d4b9-4342-a01c-2745b052f00d",
   "metadata": {},
   "outputs": [],
   "source": [
    "cr_dot = cr_dot.subs((dx**2 + dy**2), L**2)"
   ]
  },
  {
   "cell_type": "code",
   "execution_count": 10,
   "id": "9a78aee0-a6f8-4cb9-bde7-5a5f83e4ba6a",
   "metadata": {},
   "outputs": [],
   "source": [
    "cr_norm = sqrt(cr_dot)"
   ]
  },
  {
   "cell_type": "code",
   "execution_count": 11,
   "id": "d205dbb0-9fa5-4267-a29b-b61a3a552598",
   "metadata": {},
   "outputs": [
    {
     "data": {
      "text/latex": [
       "$\\displaystyle L \\left|{dx s + v_{x0}}\\right|$"
      ],
      "text/plain": [
       "L*Abs(dx*s + v_x0)"
      ]
     },
     "execution_count": 11,
     "metadata": {},
     "output_type": "execute_result"
    }
   ],
   "source": [
    "cr_norm"
   ]
  },
  {
   "cell_type": "code",
   "execution_count": 12,
   "id": "1aeedaab-46f2-4b31-800c-c884cf8fe41b",
   "metadata": {},
   "outputs": [
    {
     "data": {
      "text/latex": [
       "$\\displaystyle \\begin{cases} \\pi L \\left(dx + 2 v_{x0}\\right) & \\text{for}\\: dx s + v_{x0} \\geq 0 \\\\- \\pi L \\left(dx + 2 v_{x0}\\right) & \\text{otherwise} \\end{cases}$"
      ],
      "text/plain": [
       "Piecewise((pi*L*(dx + 2*v_x0), dx*s + v_x0 >= 0), (-pi*L*(dx + 2*v_x0), True))"
      ]
     },
     "execution_count": 12,
     "metadata": {},
     "output_type": "execute_result"
    }
   ],
   "source": [
    "integrate(integrate(cr_norm, (s, 0, 1)), (t, 0, 2*pi)).simplify()"
   ]
  },
  {
   "cell_type": "markdown",
   "id": "bf42c6e1-2405-4160-8964-f79c929ddf25",
   "metadata": {},
   "source": [
    "We can write\n",
    "\n",
    "$$\n",
    "f(\\vec{r}_e(s, t)) = f(e, 0) + s \\cdot (f(e, 1) - f(e, 0))\n",
    "$$\n",
    "\n",
    "and thus\n",
    "\n",
    "$$\n",
    "\\vec{n}_e L_e \\oint \\big[ f(e, 0) + s \\cdot (f(e, 1) - f(e, 0)) \\big]\\, \\big| s \\cdot \\Delta X_e + v(e, 0) \\big| \\mathrm{d}s \\mathrm{d}t\n",
    "$$"
   ]
  },
  {
   "cell_type": "markdown",
   "id": "c671b110-1936-4e52-83b5-b3f990ced4bb",
   "metadata": {},
   "source": [
    "Since $s \\cdot \\Delta X_e + v_x(e, 0)$ is alway $>0$ we ca write\n",
    "\n"
   ]
  },
  {
   "cell_type": "markdown",
   "id": "0e8aacbc-6567-4f9e-ae65-8af115de9079",
   "metadata": {},
   "source": [
    "We need to have\n",
    "\n",
    "$$\n",
    "\\sum^N_e \\int_0^1 \\int_0^{2\\pi} f(\\vec{r}_e(s, t))\\left(\\frac{\\partial \\vec{r}_e}{\\partial s} \\times \\frac{\\partial \\vec{r}_e}{\\partial t}\\right) \\, \\mathrm{d}t\\mathrm{d}s = \\sum^N_e \\int_0^1 \\int_0^{2\\pi}\n",
    "\\bigg[ f(e, 0) + s \\cdot (f(e, 1) - f(e, 0)) \\bigg]\n",
    "\\begin{pmatrix}\n",
    "\\Delta Y_e (\\Delta X_e \\cdot s + v_x(e, 0))\\cos(t) \\\\\n",
    "-\\Delta X_e(\\Delta X_e \\cdot s + v_x(e, 0)) \\\\\n",
    "\\Delta Y_e(\\Delta X_e \\cdot s + v_x(e, 0))\\sin(t)\n",
    "\\end{pmatrix}\n",
    "\\mathrm{d}t\\mathrm{d}s\n",
    "$$"
   ]
  },
  {
   "cell_type": "code",
   "execution_count": 20,
   "id": "7d9452ae-e8dd-4689-a566-f9d0542de0a9",
   "metadata": {},
   "outputs": [],
   "source": [
    "expr = cr*(f0 + s*(f1 - f0))"
   ]
  },
  {
   "cell_type": "code",
   "execution_count": 26,
   "id": "eaec72d0-e205-472b-bd5d-83a505321b5c",
   "metadata": {},
   "outputs": [
    {
     "name": "stdout",
     "output_type": "stream",
     "text": [
      "(dy*(f_0 + s*(-f_0 + f_1))*(dx*s + v_x0)*cos(t))*N.i + (-dx*(f_0 + s*(-f_0 + f_1))*(dx*s + v_x0))*N.j + (dy*(f_0 + s*(-f_0 + f_1))*(dx*s + v_x0)*sin(t))*N.k\n"
     ]
    }
   ],
   "source": [
    "print(expr)"
   ]
  },
  {
   "cell_type": "code",
   "execution_count": 32,
   "id": "e85b2ded-45fb-44b8-afad-d4626a192a59",
   "metadata": {},
   "outputs": [],
   "source": [
    "x = (dy*(f0 + s*(-f0 + f1))*(dx*s + v_x0)*cos(t))\n",
    "y = (-dx*(f0 + s*(-f0 + f1))*(dx*s + v_x0))\n",
    "z = (dy*(f0 + s*(-f0 + f1))*(dx*s + v_x0)*sin(t))"
   ]
  },
  {
   "cell_type": "code",
   "execution_count": 41,
   "id": "f3a3d844-4c94-4a1a-88dc-dd6f5241c2bd",
   "metadata": {},
   "outputs": [],
   "source": [
    "int_x = integrate(integrate(x, (s, 0, 1)), (t,0, 2*pi))\n",
    "int_y = integrate(integrate(y, (s, 0, 1)), (t,0, 2*pi)).simplify()\n",
    "int_z = integrate(integrate(z, (s, 0, 1)), (t,0, 2*pi))"
   ]
  },
  {
   "cell_type": "code",
   "execution_count": 43,
   "id": "42e0303c-58e1-4e37-84f1-b37ee2f3220c",
   "metadata": {},
   "outputs": [
    {
     "data": {
      "text/latex": [
       "$\\displaystyle 0$"
      ],
      "text/plain": [
       "0"
      ]
     },
     "execution_count": 43,
     "metadata": {},
     "output_type": "execute_result"
    }
   ],
   "source": [
    "int_x"
   ]
  },
  {
   "cell_type": "code",
   "execution_count": 44,
   "id": "922b283e-51f5-4360-9dea-7d4307fe18a9",
   "metadata": {},
   "outputs": [
    {
     "data": {
      "text/latex": [
       "$\\displaystyle - \\frac{\\pi dx \\left(dx f_{0} + 2 dx f_{1} + 3 f_{0} v_{x0} + 3 f_{1} v_{x0}\\right)}{3}$"
      ],
      "text/plain": [
       "-pi*dx*(dx*f_0 + 2*dx*f_1 + 3*f_0*v_x0 + 3*f_1*v_x0)/3"
      ]
     },
     "execution_count": 44,
     "metadata": {},
     "output_type": "execute_result"
    }
   ],
   "source": [
    "int_y"
   ]
  },
  {
   "cell_type": "code",
   "execution_count": 45,
   "id": "d631f723-a8ea-4710-8549-b9b45bc7d3fb",
   "metadata": {},
   "outputs": [
    {
     "data": {
      "text/latex": [
       "$\\displaystyle 0$"
      ],
      "text/plain": [
       "0"
      ]
     },
     "execution_count": 45,
     "metadata": {},
     "output_type": "execute_result"
    }
   ],
   "source": [
    "int_z"
   ]
  },
  {
   "cell_type": "code",
   "execution_count": null,
   "id": "6c58ec9e-3732-4239-a6c0-40ce8e7c2f56",
   "metadata": {},
   "outputs": [],
   "source": []
  }
 ],
 "metadata": {
  "kernelspec": {
   "display_name": "Python 3 (ipykernel)",
   "language": "python",
   "name": "python3"
  },
  "language_info": {
   "codemirror_mode": {
    "name": "ipython",
    "version": 3
   },
   "file_extension": ".py",
   "mimetype": "text/x-python",
   "name": "python",
   "nbconvert_exporter": "python",
   "pygments_lexer": "ipython3",
   "version": "3.10.6"
  }
 },
 "nbformat": 4,
 "nbformat_minor": 5
}
