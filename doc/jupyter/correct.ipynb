{
 "cells": [
  {
   "cell_type": "code",
   "execution_count": 1,
   "id": "d5c8b351-c010-47bc-b7b9-5190315d4168",
   "metadata": {},
   "outputs": [],
   "source": [
    "from sympy import *\n",
    "from sympy.vector import CoordSys3D\n",
    "N = CoordSys3D('N')"
   ]
  },
  {
   "cell_type": "code",
   "execution_count": 2,
   "id": "7fb7421c-27fc-4170-a505-05076cbdd50a",
   "metadata": {},
   "outputs": [],
   "source": [
    "f0, f1, f2, r0, r1, r2, z0, z1, z2 = symbols(\"f0 f1 f2 r0 r1 r2 z0 z1 z2\", real=True)\n",
    "s, t, L = symbols(\"s t L\", real=True, positive=True)"
   ]
  },
  {
   "cell_type": "code",
   "execution_count": 3,
   "id": "9dc6f2ad-5799-4c5e-91b1-daf570426e0e",
   "metadata": {},
   "outputs": [],
   "source": [
    "r = (r0 + s*(r1 - r0))*N.i + t*N.j + (z0 + s*(z1 - z0))*N.k"
   ]
  },
  {
   "cell_type": "code",
   "execution_count": 4,
   "id": "e2135f76-bafd-4cc1-b9ba-1a34f98a5bae",
   "metadata": {},
   "outputs": [
    {
     "data": {
      "text/latex": [
       "$\\displaystyle (z_{0} - z_{1})\\mathbf{\\hat{i}_{N}} + (- r_{0} + r_{1})\\mathbf{\\hat{k}_{N}}$"
      ],
      "text/plain": [
       "(z0 - z1)*N.i + (-r0 + r1)*N.k"
      ]
     },
     "execution_count": 4,
     "metadata": {},
     "output_type": "execute_result"
    }
   ],
   "source": [
    "drds = diff(r, s).doit()\n",
    "drdt = diff(r, t).doit()\n",
    "drcr = simplify(drds.cross(drdt))\n",
    "drcr"
   ]
  },
  {
   "cell_type": "code",
   "execution_count": 5,
   "id": "e0fe0c49-aaad-4a88-ad69-d673385695fa",
   "metadata": {},
   "outputs": [
    {
     "data": {
      "text/latex": [
       "$\\displaystyle (\\left(z_{0} - z_{1}\\right) \\left(f_{0} s - f_{0} - f_{1} s\\right) \\left(r_{0} s - r_{0} - r_{1} s\\right))\\mathbf{\\hat{i}_{N}} + (- \\left(r_{0} - r_{1}\\right) \\left(f_{0} s - f_{0} - f_{1} s\\right) \\left(r_{0} s - r_{0} - r_{1} s\\right))\\mathbf{\\hat{k}_{N}}$"
      ],
      "text/plain": [
       "((z0 - z1)*(f0*s - f0 - f1*s)*(r0*s - r0 - r1*s))*N.i + (-(r0 - r1)*(f0*s - f0 - f1*s)*(r0*s - r0 - r1*s))*N.k"
      ]
     },
     "execution_count": 5,
     "metadata": {},
     "output_type": "execute_result"
    }
   ],
   "source": [
    "inner = simplify((f0 + s*(f1 - f0))*(r0 + s*(r1 - r0))*drcr).factor()\n",
    "inner"
   ]
  },
  {
   "cell_type": "code",
   "execution_count": 6,
   "id": "9e2ad80a-6e08-4528-9a11-d50245f59957",
   "metadata": {},
   "outputs": [
    {
     "data": {
      "text/latex": [
       "$\\displaystyle \\frac{\\pi \\left(\\mathbf{\\hat{i}_{N}} z_{0} - \\mathbf{\\hat{i}_{N}} z_{1} - \\mathbf{\\hat{k}_{N}} r_{0} + \\mathbf{\\hat{k}_{N}} r_{1}\\right) \\left(2 f_{0} r_{0} + f_{0} r_{1} + f_{1} r_{0} + 2 f_{1} r_{1}\\right)}{3}$"
      ],
      "text/plain": [
       "pi*(N.i*z0 - N.i*z1 - N.k*r0 + N.k*r1)*(2*f0*r0 + f0*r1 + f1*r0 + 2*f1*r1)/3"
      ]
     },
     "execution_count": 6,
     "metadata": {},
     "output_type": "execute_result"
    }
   ],
   "source": [
    "rhs = factor(integrate(integrate(inner, (t, 0, 2*pi)).doit(), (s, 0, 1)).doit())\n",
    "rhs"
   ]
  },
  {
   "cell_type": "code",
   "execution_count": 7,
   "id": "50995b14-11fd-444a-a127-073f2059da14",
   "metadata": {},
   "outputs": [
    {
     "name": "stdout",
     "output_type": "stream",
     "text": [
      "pi*(N.i*z0 - N.i*z1 - N.k*r0 + N.k*r1)*(2*f0*r0 + f0*r1 + f1*r0 + 2*f1*r1)/3\n"
     ]
    }
   ],
   "source": [
    "print(rhs)"
   ]
  },
  {
   "cell_type": "code",
   "execution_count": 8,
   "id": "515699de-eb15-4ecd-9986-574522b5ff35",
   "metadata": {},
   "outputs": [],
   "source": [
    "rhs_r1 = pi*(z0 - z1)*(2*f0*r0 + f0*r1 + f1*r0 + 2*f1*r1)/3\n",
    "rhs_r2 = pi*(z1 - z2)*(2*f1*r1 + f1*r2 + f2*r1 + 2*f2*r2)/3\n",
    "rhs_r3 = pi*(z2 - z0)*(2*f2*r2 + f2*r0 + f0*r2 + 2*f0*r0)/3\n",
    "\n",
    "rhs_z1 = pi*(-r0 + r1)*(2*f0*r0 + f0*r1 + f1*r0 + 2*f1*r1)/3\n",
    "rhs_z2 = pi*(-r1 + r2)*(2*f1*r1 + f1*r2 + f2*r1 + 2*f2*r2)/3\n",
    "rhs_z3 = pi*(-r2 + r0)*(2*f2*r2 + f2*r0 + f0*r2 + 2*f0*r0)/3"
   ]
  },
  {
   "cell_type": "code",
   "execution_count": 9,
   "id": "5c82f0e5-7a64-4426-ba99-22d7194a6c31",
   "metadata": {},
   "outputs": [],
   "source": [
    "rhs_r = simplify(rhs_r1 + rhs_r2 + rhs_r3)\n",
    "rhs_z = simplify(rhs_z1 + rhs_z2 + rhs_z3)"
   ]
  },
  {
   "cell_type": "code",
   "execution_count": 10,
   "id": "57a47540-c57b-491e-8eda-1a31a0713fdd",
   "metadata": {},
   "outputs": [
    {
     "data": {
      "text/latex": [
       "$\\displaystyle \\frac{\\pi \\left(\\left(z_{0} - z_{1}\\right) \\left(2 f_{0} r_{0} + f_{0} r_{1} + f_{1} r_{0} + 2 f_{1} r_{1}\\right) - \\left(z_{0} - z_{2}\\right) \\left(2 f_{0} r_{0} + f_{0} r_{2} + f_{2} r_{0} + 2 f_{2} r_{2}\\right) + \\left(z_{1} - z_{2}\\right) \\left(2 f_{1} r_{1} + f_{1} r_{2} + f_{2} r_{1} + 2 f_{2} r_{2}\\right)\\right)}{3}$"
      ],
      "text/plain": [
       "pi*((z0 - z1)*(2*f0*r0 + f0*r1 + f1*r0 + 2*f1*r1) - (z0 - z2)*(2*f0*r0 + f0*r2 + f2*r0 + 2*f2*r2) + (z1 - z2)*(2*f1*r1 + f1*r2 + f2*r1 + 2*f2*r2))/3"
      ]
     },
     "execution_count": 10,
     "metadata": {},
     "output_type": "execute_result"
    }
   ],
   "source": [
    "rhs_r"
   ]
  },
  {
   "cell_type": "code",
   "execution_count": 11,
   "id": "67846927-32e7-4a42-b575-b2c7e6794b94",
   "metadata": {},
   "outputs": [
    {
     "data": {
      "text/latex": [
       "$\\displaystyle \\frac{\\pi \\left(- \\left(r_{0} - r_{1}\\right) \\left(2 f_{0} r_{0} + f_{0} r_{1} + f_{1} r_{0} + 2 f_{1} r_{1}\\right) + \\left(r_{0} - r_{2}\\right) \\left(2 f_{0} r_{0} + f_{0} r_{2} + f_{2} r_{0} + 2 f_{2} r_{2}\\right) - \\left(r_{1} - r_{2}\\right) \\left(2 f_{1} r_{1} + f_{1} r_{2} + f_{2} r_{1} + 2 f_{2} r_{2}\\right)\\right)}{3}$"
      ],
      "text/plain": [
       "pi*(-(r0 - r1)*(2*f0*r0 + f0*r1 + f1*r0 + 2*f1*r1) + (r0 - r2)*(2*f0*r0 + f0*r2 + f2*r0 + 2*f2*r2) - (r1 - r2)*(2*f1*r1 + f1*r2 + f2*r1 + 2*f2*r2))/3"
      ]
     },
     "execution_count": 11,
     "metadata": {},
     "output_type": "execute_result"
    }
   ],
   "source": [
    "rhs_z"
   ]
  },
  {
   "cell_type": "code",
   "execution_count": 12,
   "id": "bb66c2b9-5228-4621-a429-6f22d3ddd404",
   "metadata": {},
   "outputs": [
    {
     "name": "stdout",
     "output_type": "stream",
     "text": [
      "pi*((z0 - z1)*(2*f0*r0 + f0*r1 + f1*r0 + 2*f1*r1) - (z0 - z2)*(2*f0*r0 + f0*r2 + f2*r0 + 2*f2*r2) + (z1 - z2)*(2*f1*r1 + f1*r2 + f2*r1 + 2*f2*r2))/3\n"
     ]
    }
   ],
   "source": [
    "print(rhs_r)"
   ]
  },
  {
   "cell_type": "code",
   "execution_count": 13,
   "id": "be0941d4-468c-4c1f-9c3b-97c4cb73b8eb",
   "metadata": {},
   "outputs": [
    {
     "name": "stdout",
     "output_type": "stream",
     "text": [
      "pi*(-(r0 - r1)*(2*f0*r0 + f0*r1 + f1*r0 + 2*f1*r1) + (r0 - r2)*(2*f0*r0 + f0*r2 + f2*r0 + 2*f2*r2) - (r1 - r2)*(2*f1*r1 + f1*r2 + f2*r1 + 2*f2*r2))/3\n"
     ]
    }
   ],
   "source": [
    "print(rhs_z)"
   ]
  },
  {
   "cell_type": "code",
   "execution_count": null,
   "id": "694228d6-723d-42e8-a510-2a9dab19035f",
   "metadata": {},
   "outputs": [],
   "source": []
  }
 ],
 "metadata": {
  "kernelspec": {
   "display_name": "Python 3 (ipykernel)",
   "language": "python",
   "name": "python3"
  },
  "language_info": {
   "codemirror_mode": {
    "name": "ipython",
    "version": 3
   },
   "file_extension": ".py",
   "mimetype": "text/x-python",
   "name": "python",
   "nbconvert_exporter": "python",
   "pygments_lexer": "ipython3",
   "version": "3.10.4"
  }
 },
 "nbformat": 4,
 "nbformat_minor": 5
}
