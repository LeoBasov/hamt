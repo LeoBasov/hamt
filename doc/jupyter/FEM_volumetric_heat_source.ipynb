{
 "cells": [
  {
   "cell_type": "code",
   "execution_count": 1,
   "id": "d2c505c5-ec6e-406f-ad30-408876259e02",
   "metadata": {},
   "outputs": [],
   "source": [
    "from sympy import *"
   ]
  },
  {
   "cell_type": "code",
   "execution_count": 2,
   "id": "b5d93ab5-2ea4-4d70-8dd0-d589bdc59ea1",
   "metadata": {},
   "outputs": [],
   "source": [
    "xi, eta = symbols(\"xi eta\", real=True, positive=True)"
   ]
  },
  {
   "cell_type": "code",
   "execution_count": 3,
   "id": "604c00e4-8957-4834-b4a1-1d46f026217e",
   "metadata": {},
   "outputs": [
    {
     "data": {
      "text/latex": [
       "$\\displaystyle - \\eta - \\xi + 1$"
      ],
      "text/plain": [
       "-eta - xi + 1"
      ]
     },
     "execution_count": 3,
     "metadata": {},
     "output_type": "execute_result"
    }
   ],
   "source": [
    "phi = -xi - eta + 1\n",
    "phi"
   ]
  },
  {
   "cell_type": "code",
   "execution_count": 4,
   "id": "20f9aacc-37a3-45ce-b1f2-f6f27746a1ef",
   "metadata": {},
   "outputs": [
    {
     "data": {
      "text/latex": [
       "$\\displaystyle \\frac{1}{6}$"
      ],
      "text/plain": [
       "1/6"
      ]
     },
     "execution_count": 4,
     "metadata": {},
     "output_type": "execute_result"
    }
   ],
   "source": [
    "integrate(integrate(phi, (xi, 0, 1-eta)), (eta, 0, 1))"
   ]
  },
  {
   "cell_type": "code",
   "execution_count": 5,
   "id": "47fd965d-64ae-478f-91df-d3d5eeb8695a",
   "metadata": {},
   "outputs": [],
   "source": [
    "yi, dy10, dy20 = symbols(\"y_i dy_{10} dy_{20}\", real=True, positive=True)"
   ]
  },
  {
   "cell_type": "code",
   "execution_count": 6,
   "id": "20aa5560-b4b9-4ffb-a3b7-aef88d451bbe",
   "metadata": {},
   "outputs": [
    {
     "data": {
      "text/latex": [
       "$\\displaystyle dy_{10} \\xi + dy_{20} \\eta + y_{i}$"
      ],
      "text/plain": [
       "dy_{10}*xi + dy_{20}*eta + y_i"
      ]
     },
     "execution_count": 6,
     "metadata": {},
     "output_type": "execute_result"
    }
   ],
   "source": [
    "r = yi + dy10*xi + dy20*eta\n",
    "r"
   ]
  },
  {
   "cell_type": "code",
   "execution_count": 7,
   "id": "c5b63ac2-0bb4-4252-921a-8ff6033fdbd4",
   "metadata": {},
   "outputs": [
    {
     "data": {
      "text/latex": [
       "$\\displaystyle \\frac{dy_{10}}{24} + \\frac{dy_{20}}{24} + \\frac{y_{i}}{6}$"
      ],
      "text/plain": [
       "dy_{10}/24 + dy_{20}/24 + y_i/6"
      ]
     },
     "execution_count": 7,
     "metadata": {},
     "output_type": "execute_result"
    }
   ],
   "source": [
    "integrate(integrate(r * phi, (xi, 0, 1-eta)), (eta, 0, 1))"
   ]
  },
  {
   "cell_type": "code",
   "execution_count": null,
   "id": "68149af6-fa0f-4ba7-9259-63e4a520bbd0",
   "metadata": {},
   "outputs": [],
   "source": []
  }
 ],
 "metadata": {
  "kernelspec": {
   "display_name": "Python 3 (ipykernel)",
   "language": "python",
   "name": "python3"
  },
  "language_info": {
   "codemirror_mode": {
    "name": "ipython",
    "version": 3
   },
   "file_extension": ".py",
   "mimetype": "text/x-python",
   "name": "python",
   "nbconvert_exporter": "python",
   "pygments_lexer": "ipython3",
   "version": "3.10.12"
  }
 },
 "nbformat": 4,
 "nbformat_minor": 5
}
