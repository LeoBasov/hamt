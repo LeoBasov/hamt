{
 "cells": [
  {
   "cell_type": "code",
   "execution_count": 1,
   "id": "edb3b02f-5882-47e1-ab31-ef9433d6df15",
   "metadata": {},
   "outputs": [],
   "source": [
    "from sympy import *\n",
    "from sympy.vector import CoordSys3D"
   ]
  },
  {
   "cell_type": "code",
   "execution_count": 2,
   "id": "7b78b9f1-b4a8-4ce1-87be-4ac77954e6dd",
   "metadata": {},
   "outputs": [],
   "source": [
    "N = CoordSys3D('N')"
   ]
  },
  {
   "cell_type": "code",
   "execution_count": 3,
   "id": "4ba9aad6-1819-4f93-892a-105b35d596f2",
   "metadata": {},
   "outputs": [],
   "source": [
    "r0, r1, r2, z0, z1, z2, f0, f1, f2 = symbols(\"rho_0 rho_1 rho_2 z_0 z_1 z_2 f_0 f_1 f_2\", real=True)\n",
    "Df0_r, Df1_r, Df0_z, Df1_z = symbols(\"Df0_r Df1_r Df0_z Df1_z\", real=True)\n",
    "s, phi = symbols(\"s phi\", real=True, positive=True)"
   ]
  },
  {
   "cell_type": "code",
   "execution_count": 4,
   "id": "8309d5ae-43da-4b22-9f72-baae920e99c7",
   "metadata": {},
   "outputs": [],
   "source": [
    "r_cross = -(z1 - z0)*N.i + 0*N.j + (r1 -r0)*N.k"
   ]
  },
  {
   "cell_type": "code",
   "execution_count": 5,
   "id": "3cb57304-e409-4e47-b9cc-8130a7e8742f",
   "metadata": {},
   "outputs": [
    {
     "data": {
      "text/latex": [
       "$\\displaystyle (z_{0} - z_{1})\\mathbf{\\hat{i}_{N}} + (- \\rho_{0} + \\rho_{1})\\mathbf{\\hat{k}_{N}}$"
      ],
      "text/plain": [
       "(z_0 - z_1)*N.i + (-rho_0 + rho_1)*N.k"
      ]
     },
     "execution_count": 5,
     "metadata": {},
     "output_type": "execute_result"
    }
   ],
   "source": [
    "r_cross"
   ]
  },
  {
   "cell_type": "code",
   "execution_count": 6,
   "id": "4ba9bfd2-cbc8-4f84-a1c0-09684034daa0",
   "metadata": {},
   "outputs": [],
   "source": [
    "rho = r0 + s*(r1 - r0)"
   ]
  },
  {
   "cell_type": "code",
   "execution_count": 7,
   "id": "07bb22fa-942a-4665-a697-a0ad453399ea",
   "metadata": {},
   "outputs": [],
   "source": [
    "Gamma_e = f0*((2*r0 +r1)*(z0 - z1) + (r2 + 2*r0)*(z2 - z0)) + f1*((r0 +2*r1)*(z0 - z1) + (2*r1 + r2)*(z1 - z2)) + f2*((r1 +2*r2)*(z1 - z2) + (2*r2 + r0)*(z2 - z0))\n",
    "Gamma_z = -(f0*((2*r0 +r1)*(r0 - r1) + (r2 + 2*r0)*(r2 - r0)) + f1*((r0 +2*r1)*(r0 - r1) + (2*r1 + r2)*(r1 - r2)) + f2*((r1 +2*r2)*(r1 - r2) + (2*r2 + r0)*(r2 - r0)))"
   ]
  },
  {
   "cell_type": "code",
   "execution_count": 8,
   "id": "e60b5489-28a4-4475-a73a-f3636a257376",
   "metadata": {},
   "outputs": [],
   "source": [
    "Gamma = Gamma_e*N.i + 0*N.j + Gamma_z*N.k"
   ]
  },
  {
   "cell_type": "code",
   "execution_count": 9,
   "id": "9e1fbded-0ca8-49bd-b504-6b5371f58c5c",
   "metadata": {},
   "outputs": [],
   "source": [
    "Df0 = Df0_r*N.i  + Df0_z*N.k + 0*N.j\n",
    "Df1 = Df1_r*N.i  + Df1_z*N.k + 0*N.j"
   ]
  },
  {
   "cell_type": "code",
   "execution_count": 10,
   "id": "460deaf0-955a-4411-8052-5ed2378093e7",
   "metadata": {},
   "outputs": [],
   "source": [
    "Df = Df0 + s*(Df1 - Df0)"
   ]
  },
  {
   "cell_type": "code",
   "execution_count": 11,
   "id": "a499ab7c-8e19-4eff-81c0-efa424df0731",
   "metadata": {},
   "outputs": [],
   "source": [
    "expr = rho*(Df.dot(r_cross)).simplify()"
   ]
  },
  {
   "cell_type": "code",
   "execution_count": 12,
   "id": "ab4540de-e986-467f-a993-6bb35c0d88b5",
   "metadata": {},
   "outputs": [
    {
     "data": {
      "text/latex": [
       "$\\displaystyle \\left(\\rho_{0} + s \\left(- \\rho_{0} + \\rho_{1}\\right)\\right) \\left(\\left(Df_{0 r} - s \\left(Df_{0 r} - Df_{1 r}\\right)\\right) \\left(z_{0} - z_{1}\\right) - \\left(Df_{0 z} - s \\left(Df_{0 z} - Df_{1 z}\\right)\\right) \\left(\\rho_{0} - \\rho_{1}\\right)\\right)$"
      ],
      "text/plain": [
       "(rho_0 + s*(-rho_0 + rho_1))*((Df0_r - s*(Df0_r - Df1_r))*(z_0 - z_1) - (Df0_z - s*(Df0_z - Df1_z))*(rho_0 - rho_1))"
      ]
     },
     "execution_count": 12,
     "metadata": {},
     "output_type": "execute_result"
    }
   ],
   "source": [
    "expr"
   ]
  },
  {
   "cell_type": "code",
   "execution_count": 13,
   "id": "24746437-20ae-4f31-bd25-f25acfdf537a",
   "metadata": {},
   "outputs": [],
   "source": [
    "expr_int = integrate(integrate(expr, (s, 0, 1)), (phi, 0, 2*pi)).simplify().factor()"
   ]
  },
  {
   "cell_type": "code",
   "execution_count": 14,
   "id": "fc07b664-bffc-4190-8598-c44135c6543c",
   "metadata": {},
   "outputs": [
    {
     "data": {
      "text/latex": [
       "$\\displaystyle \\frac{\\pi \\left(2 Df_{0 r} \\rho_{0} z_{0} - 2 Df_{0 r} \\rho_{0} z_{1} + Df_{0 r} \\rho_{1} z_{0} - Df_{0 r} \\rho_{1} z_{1} - 2 Df_{0 z} \\rho_{0}^{2} + Df_{0 z} \\rho_{0} \\rho_{1} + Df_{0 z} \\rho_{1}^{2} + Df_{1 r} \\rho_{0} z_{0} - Df_{1 r} \\rho_{0} z_{1} + 2 Df_{1 r} \\rho_{1} z_{0} - 2 Df_{1 r} \\rho_{1} z_{1} - Df_{1 z} \\rho_{0}^{2} - Df_{1 z} \\rho_{0} \\rho_{1} + 2 Df_{1 z} \\rho_{1}^{2}\\right)}{3}$"
      ],
      "text/plain": [
       "pi*(2*Df0_r*rho_0*z_0 - 2*Df0_r*rho_0*z_1 + Df0_r*rho_1*z_0 - Df0_r*rho_1*z_1 - 2*Df0_z*rho_0**2 + Df0_z*rho_0*rho_1 + Df0_z*rho_1**2 + Df1_r*rho_0*z_0 - Df1_r*rho_0*z_1 + 2*Df1_r*rho_1*z_0 - 2*Df1_r*rho_1*z_1 - Df1_z*rho_0**2 - Df1_z*rho_0*rho_1 + 2*Df1_z*rho_1**2)/3"
      ]
     },
     "execution_count": 14,
     "metadata": {},
     "output_type": "execute_result"
    }
   ],
   "source": [
    "expr_int"
   ]
  },
  {
   "cell_type": "code",
   "execution_count": 15,
   "id": "ea392302-22f2-44e3-b97f-73b8f0c6bdd6",
   "metadata": {},
   "outputs": [
    {
     "name": "stdout",
     "output_type": "stream",
     "text": [
      "\\frac{\\pi \\left(2 Df_{0 r} \\rho_{0} z_{0} - 2 Df_{0 r} \\rho_{0} z_{1} + Df_{0 r} \\rho_{1} z_{0} - Df_{0 r} \\rho_{1} z_{1} - 2 Df_{0 z} \\rho_{0}^{2} + Df_{0 z} \\rho_{0} \\rho_{1} + Df_{0 z} \\rho_{1}^{2} + Df_{1 r} \\rho_{0} z_{0} - Df_{1 r} \\rho_{0} z_{1} + 2 Df_{1 r} \\rho_{1} z_{0} - 2 Df_{1 r} \\rho_{1} z_{1} - Df_{1 z} \\rho_{0}^{2} - Df_{1 z} \\rho_{0} \\rho_{1} + 2 Df_{1 z} \\rho_{1}^{2}\\right)}{3}\n"
     ]
    }
   ],
   "source": [
    "print(latex(expr_int))"
   ]
  },
  {
   "cell_type": "code",
   "execution_count": 16,
   "id": "07549fcb-8d0c-4e77-afd9-650417c896d8",
   "metadata": {},
   "outputs": [],
   "source": [
    "expr_int_new = Df0_r * (2 * r0 * z0 - 2 * r0 * z1 + r1 * z0 - r1 * z1) + Df0_z*(-2*r0**2 + r0*r1 + r1**2) + Df1_r*(r0*z0 - r0*z1 + 2*r1*z0 - 2*r1 *z1) + Df1_z*(-r0**2 - r0*r1 + 2*r1**2)"
   ]
  },
  {
   "cell_type": "code",
   "execution_count": 17,
   "id": "1ac87ed9-5dce-4d79-a585-aaf9fc5bc280",
   "metadata": {},
   "outputs": [
    {
     "data": {
      "text/latex": [
       "$\\displaystyle Df_{0 r} \\left(2 \\rho_{0} z_{0} - 2 \\rho_{0} z_{1} + \\rho_{1} z_{0} - \\rho_{1} z_{1}\\right) + Df_{0 z} \\left(- 2 \\rho_{0}^{2} + \\rho_{0} \\rho_{1} + \\rho_{1}^{2}\\right) + Df_{1 r} \\left(\\rho_{0} z_{0} - \\rho_{0} z_{1} + 2 \\rho_{1} z_{0} - 2 \\rho_{1} z_{1}\\right) + Df_{1 z} \\left(- \\rho_{0}^{2} - \\rho_{0} \\rho_{1} + 2 \\rho_{1}^{2}\\right)$"
      ],
      "text/plain": [
       "Df0_r*(2*rho_0*z_0 - 2*rho_0*z_1 + rho_1*z_0 - rho_1*z_1) + Df0_z*(-2*rho_0**2 + rho_0*rho_1 + rho_1**2) + Df1_r*(rho_0*z_0 - rho_0*z_1 + 2*rho_1*z_0 - 2*rho_1*z_1) + Df1_z*(-rho_0**2 - rho_0*rho_1 + 2*rho_1**2)"
      ]
     },
     "execution_count": 17,
     "metadata": {},
     "output_type": "execute_result"
    }
   ],
   "source": [
    "expr_int_new"
   ]
  },
  {
   "cell_type": "code",
   "execution_count": 18,
   "id": "17c65da9-e987-4b89-86d6-4011be905b34",
   "metadata": {},
   "outputs": [],
   "source": [
    "Dfr, Dfz, Dfrp, Dfzp, Cr, Cz, Crp, Czp = symbols(\"Dfr Df Dfrp Dfzp Cr Cz Crp Czp\", real = True)\n",
    "fc0, fc1, fc2, fcp2 = symbols(\"fc0 fc1 fc2 fcp2\", ral=True)\n",
    "Rc0, Rc1, Rc2, Rcp0, Rcp1, Rcp2, Zc0, Zc1, Zc2, Zcp0, Zcp1, Zcp2 = symbols(\"Rc0 Rc1 Rc2 Rcp0 Rcp1 Rcp2 Zc0 Zc1 Zc2 Zcp0 Zcp1 Zcp2\", real=True)\n",
    "Ac, Actot = symbols(\"Ac Actot\", real=True, positive=True)\n",
    "Deltaf = symbols(\"Delta_f\", real=True)"
   ]
  },
  {
   "cell_type": "code",
   "execution_count": 19,
   "id": "1f5b1c3b-f15f-4a4f-8c16-be53083f75f1",
   "metadata": {},
   "outputs": [],
   "source": [
    "Dfr = 1/(6*Ac) * (fc0*Rc0 + fc1*Rc1 + fc2*Rc2)\n",
    "Dfrp = 1/(6*Ac) * (fc0*Rcp0 + fc2*Rcp1 + fcp2*Rcp2)"
   ]
  },
  {
   "cell_type": "code",
   "execution_count": 20,
   "id": "ce3daab8-773c-490c-8d6a-bee45f3c8c13",
   "metadata": {},
   "outputs": [],
   "source": [
    "Dfz = 1/(6*Ac) * (fc0*Zc0 + fc1*Zc1 + fc2*Zc2)\n",
    "Dfzp = 1/(6*Ac) * (fc0*Zcp0 + fc2*Zcp1 + fcp2*Zcp2)"
   ]
  },
  {
   "cell_type": "code",
   "execution_count": 21,
   "id": "b41745ad-a849-46c4-a8a1-1d927c102ec2",
   "metadata": {},
   "outputs": [],
   "source": [
    "s = (Dfr*Cr - Dfz*Cz + Dfrp*Crp - Dfzp*Czp) - 6*Actot*Deltaf"
   ]
  },
  {
   "cell_type": "code",
   "execution_count": 22,
   "id": "1d6f77f4-4dd2-42fe-a2c9-9ae0125a9142",
   "metadata": {},
   "outputs": [
    {
     "data": {
      "text/latex": [
       "$\\displaystyle - 6 Actot \\Delta_{f} + \\frac{Cr \\left(Rc_{0} fc_{0} + Rc_{1} fc_{1} + Rc_{2} fc_{2}\\right)}{6 Ac} + \\frac{Crp \\left(Rcp_{0} fc_{0} + Rcp_{1} fc_{2} + Rcp_{2} fcp_{2}\\right)}{6 Ac} - \\frac{Cz \\left(Zc_{0} fc_{0} + Zc_{1} fc_{1} + Zc_{2} fc_{2}\\right)}{6 Ac} - \\frac{Czp \\left(Zcp_{0} fc_{0} + Zcp_{1} fc_{2} + Zcp_{2} fcp_{2}\\right)}{6 Ac}$"
      ],
      "text/plain": [
       "-6*Actot*Delta_f + Cr*(Rc0*fc0 + Rc1*fc1 + Rc2*fc2)/(6*Ac) + Crp*(Rcp0*fc0 + Rcp1*fc2 + Rcp2*fcp2)/(6*Ac) - Cz*(Zc0*fc0 + Zc1*fc1 + Zc2*fc2)/(6*Ac) - Czp*(Zcp0*fc0 + Zcp1*fc2 + Zcp2*fcp2)/(6*Ac)"
      ]
     },
     "execution_count": 22,
     "metadata": {},
     "output_type": "execute_result"
    }
   ],
   "source": [
    "s"
   ]
  },
  {
   "cell_type": "code",
   "execution_count": 23,
   "id": "5ff090d6-b397-439f-8cf5-969e86bc756b",
   "metadata": {},
   "outputs": [],
   "source": [
    "res = solve(s, fc0)[0]"
   ]
  },
  {
   "cell_type": "code",
   "execution_count": 24,
   "id": "62f5f8cd-f120-48a8-b797-b00b756ea272",
   "metadata": {},
   "outputs": [
    {
     "name": "stdout",
     "output_type": "stream",
     "text": [
      "\\frac{36 Ac Actot \\Delta_{f} - Cr Rc_{1} fc_{1} - Cr Rc_{2} fc_{2} - Crp Rcp_{1} fc_{2} - Crp Rcp_{2} fcp_{2} + Cz Zc_{1} fc_{1} + Cz Zc_{2} fc_{2} + Czp Zcp_{1} fc_{2} + Czp Zcp_{2} fcp_{2}}{Cr Rc_{0} + Crp Rcp_{0} - Cz Zc_{0} - Czp Zcp_{0}}\n"
     ]
    }
   ],
   "source": [
    "print(latex(res.simplify()))"
   ]
  },
  {
   "cell_type": "code",
   "execution_count": 25,
   "id": "d3703464-1cf8-4f55-82bd-fefa78df2a01",
   "metadata": {},
   "outputs": [
    {
     "name": "stdout",
     "output_type": "stream",
     "text": [
      "- 6 Actot \\Delta_{f} + \\frac{Cr \\left(Rc_{0} fc_{0} + Rc_{1} fc_{1} + Rc_{2} fc_{2}\\right)}{6 Ac} + \\frac{Crp \\left(Rcp_{0} fc_{0} + Rcp_{1} fc_{2} + Rcp_{2} fcp_{2}\\right)}{6 Ac} - \\frac{Cz \\left(Zc_{0} fc_{0} + Zc_{1} fc_{1} + Zc_{2} fc_{2}\\right)}{6 Ac} - \\frac{Czp \\left(Zcp_{0} fc_{0} + Zcp_{1} fc_{2} + Zcp_{2} fcp_{2}\\right)}{6 Ac}\n"
     ]
    }
   ],
   "source": [
    "print(latex(s))"
   ]
  },
  {
   "cell_type": "markdown",
   "id": "9b4ba1c0-b19b-4f89-b650-7be323270c0a",
   "metadata": {},
   "source": [
    "# Calculation of the surface element\n",
    "\n",
    "$$\n",
    "A_{\\phi} = \\sum_e \\int_{\\rho_0}^{\\rho_1} z(\\rho) \\, \\rho \\, \\mathrm{d}{\\rho}\n",
    "$$\n",
    "$$\n",
    "z(\\rho) = z_0 \\left( \\frac{\\rho_1 - \\rho}{\\rho_1 - \\rho_0} \\right) + z_1 \\left( \\frac{\\rho - \\rho_0}{\\rho_1 - \\rho_0} \\right)\n",
    "$$"
   ]
  },
  {
   "cell_type": "code",
   "execution_count": 26,
   "id": "c2bd2a68-579a-4982-877a-0f16be680e9f",
   "metadata": {},
   "outputs": [],
   "source": [
    "rho, z, rho0, rho1, rho2, z0, z1, z2 = symbols(\"rho z rho_0 rho_1 rho_2 z_0 z_1 z_2\", real=True)\n",
    "r0, r1, r2 = symbols(\"r_0, r_1, r_2\", real=True)"
   ]
  },
  {
   "cell_type": "code",
   "execution_count": 27,
   "id": "3dfea956-cc73-4cd4-bdd8-0e5bff64990a",
   "metadata": {},
   "outputs": [],
   "source": [
    "z = z0*((rho1 - rho)/(rho1 - rho0)) + z1*((rho - rho0)/(rho1 - rho0))"
   ]
  },
  {
   "cell_type": "code",
   "execution_count": 28,
   "id": "5f6c43ce-07d8-4531-9b2a-434ab76fc30b",
   "metadata": {},
   "outputs": [
    {
     "name": "stdout",
     "output_type": "stream",
     "text": [
      "-(rho_0 - rho_1)*(z_0 + z_1)/2\n"
     ]
    }
   ],
   "source": [
    "print(integrate(z, (rho, rho0, rho1)).simplify().factor())"
   ]
  },
  {
   "cell_type": "code",
   "execution_count": 29,
   "id": "45f14d9b-560c-45df-9b9b-c0392ff2f860",
   "metadata": {},
   "outputs": [],
   "source": [
    "L0 = -(rho0 - rho1)*(z0 + z1)/2\n",
    "L1 = -(rho1 - rho2)*(z1 + z2)/2\n",
    "L2 = -(rho2 - rho0)*(z2 + z0)/2"
   ]
  },
  {
   "cell_type": "code",
   "execution_count": 30,
   "id": "73b7dffc-2ebe-4065-9e5a-21cc015f99d3",
   "metadata": {},
   "outputs": [],
   "source": [
    "expr = (L0 + L1 + L2).simplify()"
   ]
  },
  {
   "cell_type": "code",
   "execution_count": 31,
   "id": "b4c0de6f-c886-44a4-b13f-6f953de8056e",
   "metadata": {},
   "outputs": [],
   "source": [
    "expr = expr.subs(rho0, r0).subs(rho1, r1).subs(rho2, r2)"
   ]
  },
  {
   "cell_type": "code",
   "execution_count": 32,
   "id": "76a31b5d-ee13-453d-88e0-aeaa54da3487",
   "metadata": {},
   "outputs": [
    {
     "data": {
      "text/latex": [
       "$\\displaystyle - \\frac{\\left(r_{0} - r_{1}\\right) \\left(z_{0} + z_{1}\\right)}{2} + \\frac{\\left(r_{0} - r_{2}\\right) \\left(z_{0} + z_{2}\\right)}{2} - \\frac{\\left(r_{1} - r_{2}\\right) \\left(z_{1} + z_{2}\\right)}{2}$"
      ],
      "text/plain": [
       "-(r_0 - r_1)*(z_0 + z_1)/2 + (r_0 - r_2)*(z_0 + z_2)/2 - (r_1 - r_2)*(z_1 + z_2)/2"
      ]
     },
     "execution_count": 32,
     "metadata": {},
     "output_type": "execute_result"
    }
   ],
   "source": [
    "expr"
   ]
  },
  {
   "cell_type": "code",
   "execution_count": 33,
   "id": "3df8eeac-9a7a-4e1a-9900-d44ba1d8e657",
   "metadata": {},
   "outputs": [],
   "source": [
    "f = lambdify((r0, r1, r2, z0, z1, z2), expr)"
   ]
  },
  {
   "cell_type": "code",
   "execution_count": 34,
   "id": "32e3cffc-89e8-4525-8625-c2cc60efd9f4",
   "metadata": {},
   "outputs": [
    {
     "data": {
      "text/plain": [
       "1.0"
      ]
     },
     "execution_count": 34,
     "metadata": {},
     "output_type": "execute_result"
    }
   ],
   "source": [
    "f(0, 0, 1, 0, 2, 0)"
   ]
  },
  {
   "cell_type": "markdown",
   "id": "473501fc-c50e-402c-a15b-1d0dd5dca017",
   "metadata": {},
   "source": [
    "For cylinder coordinates"
   ]
  },
  {
   "cell_type": "code",
   "execution_count": 35,
   "id": "a6a385bd-83e3-42eb-abe7-edc733621270",
   "metadata": {},
   "outputs": [],
   "source": [
    "z = z*rho"
   ]
  },
  {
   "cell_type": "code",
   "execution_count": 36,
   "id": "1c47f686-ec01-4782-bb7e-b651196038c4",
   "metadata": {},
   "outputs": [
    {
     "data": {
      "text/latex": [
       "$\\displaystyle \\rho \\left(\\frac{z_{0} \\left(- \\rho + \\rho_{1}\\right)}{- \\rho_{0} + \\rho_{1}} + \\frac{z_{1} \\left(\\rho - \\rho_{0}\\right)}{- \\rho_{0} + \\rho_{1}}\\right)$"
      ],
      "text/plain": [
       "rho*(z_0*(-rho + rho_1)/(-rho_0 + rho_1) + z_1*(rho - rho_0)/(-rho_0 + rho_1))"
      ]
     },
     "execution_count": 36,
     "metadata": {},
     "output_type": "execute_result"
    }
   ],
   "source": [
    "z"
   ]
  },
  {
   "cell_type": "code",
   "execution_count": 37,
   "id": "02edee42-bb2d-407f-bea1-da0c0b935234",
   "metadata": {},
   "outputs": [
    {
     "data": {
      "text/latex": [
       "$\\displaystyle - \\frac{\\left(\\rho_{0} - \\rho_{1}\\right) \\left(2 \\rho_{0} z_{0} + \\rho_{0} z_{1} + \\rho_{1} z_{0} + 2 \\rho_{1} z_{1}\\right)}{6}$"
      ],
      "text/plain": [
       "-(rho_0 - rho_1)*(2*rho_0*z_0 + rho_0*z_1 + rho_1*z_0 + 2*rho_1*z_1)/6"
      ]
     },
     "execution_count": 37,
     "metadata": {},
     "output_type": "execute_result"
    }
   ],
   "source": [
    "integrate(z, (rho, rho0, rho1)).simplify().factor()"
   ]
  },
  {
   "cell_type": "code",
   "execution_count": 38,
   "id": "b49b2b73-0e4b-4e30-97c5-af15f2b38ff9",
   "metadata": {},
   "outputs": [
    {
     "name": "stdout",
     "output_type": "stream",
     "text": [
      "- \\frac{\\left(\\rho_{0} - \\rho_{1}\\right) \\left(2 \\rho_{0} z_{0} + \\rho_{0} z_{1} + \\rho_{1} z_{0} + 2 \\rho_{1} z_{1}\\right)}{6}\n"
     ]
    }
   ],
   "source": [
    "print(latex(integrate(z, (rho, rho0, rho1)).simplify().factor()))"
   ]
  },
  {
   "cell_type": "code",
   "execution_count": 39,
   "id": "19ed9af4-6693-4733-9864-35534cd22034",
   "metadata": {},
   "outputs": [
    {
     "name": "stdout",
     "output_type": "stream",
     "text": [
      "-(r_0 - r_1)*(2*r_0*z_0 + r_0*z_1 + r_1*z_0 + 2*r_1*z_1)/6\n"
     ]
    }
   ],
   "source": [
    "print(integrate(z, (rho, rho0, rho1)).simplify().factor().subs(rho0, r0).subs(rho1, r1).subs(rho2, r2))"
   ]
  },
  {
   "cell_type": "code",
   "execution_count": 40,
   "id": "9a57dbae-8ea2-4911-a7f4-a771370ab240",
   "metadata": {},
   "outputs": [],
   "source": [
    "Lcyl0 = -(r0 - r1)*(2*r0*z0 + r0*z1 + r1*z0 + 2*r1*z1)/6\n",
    "Lcyl1 = -(r1 - r2)*(2*r1*z1 + r1*z2 + r2*z1 + 2*r2*z2)/6\n",
    "Lcyl2 = -(r2 - r0)*(2*r2*z2 + r2*z0 + r0*z2 + 2*r0*z0)/6"
   ]
  },
  {
   "cell_type": "code",
   "execution_count": 41,
   "id": "45565a56-c6a8-4deb-9a2f-2e5785adbfc9",
   "metadata": {},
   "outputs": [
    {
     "data": {
      "text/latex": [
       "$\\displaystyle - \\frac{\\left(r_{0} + r_{1} + r_{2}\\right) \\left(r_{0} z_{1} - r_{0} z_{2} - r_{1} z_{0} + r_{1} z_{2} + r_{2} z_{0} - r_{2} z_{1}\\right)}{6}$"
      ],
      "text/plain": [
       "-(r_0 + r_1 + r_2)*(r_0*z_1 - r_0*z_2 - r_1*z_0 + r_1*z_2 + r_2*z_0 - r_2*z_1)/6"
      ]
     },
     "execution_count": 41,
     "metadata": {},
     "output_type": "execute_result"
    }
   ],
   "source": [
    "(Lcyl0 + Lcyl1 + Lcyl2).simplify().factor()"
   ]
  },
  {
   "cell_type": "markdown",
   "id": "307df8f2-3511-4a50-a938-0ed56b68520a",
   "metadata": {},
   "source": [
    "The line element can than be written as\n",
    "\n",
    "$$\n",
    "A_{\\phi} = -\\frac{1}{6}\\sum_e \\left(\\rho_{0} - \\rho_{1}\\right) \\left(2 \\rho_{0} z_{0} + \\rho_{0} z_{1} + \\rho_{1} z_{0} + 2 \\rho_{1} z_{1}\\right)\n",
    "$$"
   ]
  },
  {
   "cell_type": "code",
   "execution_count": null,
   "id": "f96d3b35-2f28-483b-9d59-2d567c886cad",
   "metadata": {},
   "outputs": [],
   "source": []
  }
 ],
 "metadata": {
  "kernelspec": {
   "display_name": "Python 3 (ipykernel)",
   "language": "python",
   "name": "python3"
  },
  "language_info": {
   "codemirror_mode": {
    "name": "ipython",
    "version": 3
   },
   "file_extension": ".py",
   "mimetype": "text/x-python",
   "name": "python",
   "nbconvert_exporter": "python",
   "pygments_lexer": "ipython3",
   "version": "3.10.4"
  }
 },
 "nbformat": 4,
 "nbformat_minor": 5
}
