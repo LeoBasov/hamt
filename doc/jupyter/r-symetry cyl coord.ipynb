{
 "cells": [
  {
   "cell_type": "code",
   "execution_count": 1,
   "id": "edb3b02f-5882-47e1-ab31-ef9433d6df15",
   "metadata": {},
   "outputs": [],
   "source": [
    "from sympy import *"
   ]
  },
  {
   "cell_type": "code",
   "execution_count": 2,
   "id": "8e483428-9111-4694-ab32-9a916fcaaefa",
   "metadata": {},
   "outputs": [],
   "source": [
    "s, t = symbols(\"s t\", positive=True, real=True)\n",
    "f_0, f_1, rho_0, rho_1, z_0, z_1 = symbols(\"f_0 f_1 rho_0 rho_1 z_0 z_1\", real=True)"
   ]
  },
  {
   "cell_type": "code",
   "execution_count": 3,
   "id": "30d8a703-fafd-4c37-af1b-bd1cc4bca32d",
   "metadata": {},
   "outputs": [],
   "source": [
    "rho = (f_0 + s*(f_1 - f_0)) * (rho_0 + s*(rho_1 - rho_0)) * (z_0 - z_1)\n",
    "z   = (f_0 + s*(f_1 - f_0)) * (rho_0 + s*(rho_1 - rho_0)) * (rho_1 - rho_0)"
   ]
  },
  {
   "cell_type": "code",
   "execution_count": 4,
   "id": "ca82fa9a-5c07-467f-a29b-d4725e97c195",
   "metadata": {},
   "outputs": [],
   "source": [
    "int_rho = integrate(integrate(rho, (s, 0, 1)), (t, 0, 2*pi)).simplify()\n",
    "int_z = integrate(integrate(z, (s, 0, 1)), (t, 0, 2*pi)).simplify()"
   ]
  },
  {
   "cell_type": "code",
   "execution_count": 5,
   "id": "f5d9e288-1abc-4eeb-bf98-f1c0654b4d64",
   "metadata": {},
   "outputs": [],
   "source": [
    "int_rho = int_rho.factor()"
   ]
  },
  {
   "cell_type": "code",
   "execution_count": 6,
   "id": "f05c07ae-6c67-4d9e-ba63-ae258bf2ea4b",
   "metadata": {},
   "outputs": [],
   "source": [
    "int_z = int_z.factor()"
   ]
  },
  {
   "cell_type": "code",
   "execution_count": 7,
   "id": "dddccda7-41bf-4677-98a5-9b7d8d25e607",
   "metadata": {},
   "outputs": [
    {
     "name": "stdout",
     "output_type": "stream",
     "text": [
      "\\left(z_{0} - z_{1}\\right) \\left(2 f_{0} \\rho_{0} + f_{0} \\rho_{1} + f_{1} \\rho_{0} + 2 f_{1} \\rho_{1}\\right)\n"
     ]
    }
   ],
   "source": [
    "print(latex((3/pi)*int_rho))"
   ]
  },
  {
   "cell_type": "code",
   "execution_count": 8,
   "id": "eee8aca2-25f4-4bbd-94f7-043054bb100b",
   "metadata": {},
   "outputs": [
    {
     "name": "stdout",
     "output_type": "stream",
     "text": [
      "- \\left(\\rho_{0} - \\rho_{1}\\right) \\left(2 f_{0} \\rho_{0} + f_{0} \\rho_{1} + f_{1} \\rho_{0} + 2 f_{1} \\rho_{1}\\right)\n"
     ]
    }
   ],
   "source": [
    "print(latex((3/pi)*int_z))"
   ]
  },
  {
   "cell_type": "code",
   "execution_count": null,
   "id": "7b78b9f1-b4a8-4ce1-87be-4ac77954e6dd",
   "metadata": {},
   "outputs": [],
   "source": []
  }
 ],
 "metadata": {
  "kernelspec": {
   "display_name": "Python 3 (ipykernel)",
   "language": "python",
   "name": "python3"
  },
  "language_info": {
   "codemirror_mode": {
    "name": "ipython",
    "version": 3
   },
   "file_extension": ".py",
   "mimetype": "text/x-python",
   "name": "python",
   "nbconvert_exporter": "python",
   "pygments_lexer": "ipython3",
   "version": "3.10.4"
  }
 },
 "nbformat": 4,
 "nbformat_minor": 5
}
